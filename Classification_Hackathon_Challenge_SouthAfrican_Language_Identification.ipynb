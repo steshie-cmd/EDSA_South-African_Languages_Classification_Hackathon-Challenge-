{
  "nbformat": 4,
  "nbformat_minor": 0,
  "metadata": {
    "colab": {
      "name": "Classification Hackathon Challenge - SouthAfrican Language Identification.ipynb",
      "provenance": [],
      "collapsed_sections": []
    },
    "kernelspec": {
      "name": "python3",
      "display_name": "Python 3"
    },
    "language_info": {
      "name": "python"
    }
  },
  "cells": [
    {
      "cell_type": "markdown",
      "metadata": {
        "id": "ebd943e8"
      },
      "source": [
        "# South African Language Identification Classification Hackathon Challenge - \n",
        "\n",
        "            \n",
        "**Overview**\n",
        "\n",
        "South Africa is a multicultural society that is characterised by its rich linguistic diversity. Language is an indispensable tool that can be used to deepen democracy and also contribute to the social, cultural, intellectual, economic and political life of the South African society. The country is multilingual with 11 official languages, each of which is guaranteed equal status. Most South Africans are multilingual and able to speak at least two or more of the official languages. With such a multilingual population, it is only obvious that our systems and devices also communicate in multi-languages.\n",
        "\n",
        "**The Task Challenge**\n",
        "\n",
        "In this challenge, you will take text which is in any of South Africa's 11 Official languages and identify which language the text is in. This is an example of NLP's Language Identification, the task of determining the natural language that a piece of text is written in.\n",
        "\n",
        "\n"
      ]
    },
    {
      "cell_type": "markdown",
      "metadata": {
        "id": "7a87ff12"
      },
      "source": [
        "<a id=\"cont\"></a>\n",
        "\n",
        "## **TABLE OF CONTENTS**\n",
        "\n",
        "<a href=#one>1. Importing Packages</a>\n",
        "\n",
        "<a href=#two>2. Loading Data</a>\n",
        "\n",
        "<a href=#three>3. Exploratory Data Analysis (EDA)</a>\n",
        "\n",
        "<a href=#five>4. Text Cleaning and Preprocessing of test data</a>\n",
        "\n",
        "<a href=#six>5. Modeling</a>\n",
        "\n",
        "<a href=#seven>6. Model Performance</a>\n",
        "\n",
        "<a href=#eight>7. Model Explanations</a>"
      ]
    },
    {
      "cell_type": "markdown",
      "metadata": {
        "id": "2a4893dd"
      },
      "source": [
        "<a id=\"one\"></a>\n",
        "## **1. IMPORTING THE PACKAGES** \n",
        "<a href=#cont>Back to Table of Contents</a>\n",
        "\n",
        "---\n",
        "### Brief Description of the Packages  \n",
        "> The following libraries will be used to aid creation of a Sentiment Analysis model.\n",
        "\n",
        ">* Numpy:- NumPy (short for Numerical Python) is “the fundamental package for scientific computing with Python” and it is the library Pandas, Matplotlib and Scikit-learn builds on top off.\n",
        ">* Pandas:- a software library for data manipulation and analysis.\n",
        ">* Sklearn:- this library contains a lot of efficient tools for machine learning and statistical modeling including classification, regression, clustering and dimensionality reduction.\n",
        ">*Nltk:- is a suite that contains libraries and programs for statistical language processing. It is one of the most powerful NLP(Natural Language Processing (NLP) is a process of manipulating or understanding the text or speech by any software or machine.) libraries, which contains packages to make machines understand human language and reply to it with an appropriate response.\n",
        ">*re:- This module provides a set of powerful regular expression facilities, which allows for a quick check whether a given string matches a given pattern (using the match function), or contains such a pattern (using the search function).\n",
        ">*string:-This module contains a number of functions to process standard Python strings\n",
        ">*Matplotlib:-  a library for creating static, animated, and interactive visualizations in Python.\n",
        ">*Seaborn:- a library for making statistical graphics in Python. It builds on top of matplotlib and integrates closely with pandas data structures.\n",
        ">*WordCloud:- a library for visualising frequent words in a text where the size of the words represents their frequency."
      ]
    },
    {
      "cell_type": "code",
      "execution_count": 1,
      "metadata": {
        "id": "d7deed07",
        "scrolled": true
      },
      "outputs": [],
      "source": [
        "# Libraries for importing and loading data\n",
        "import numpy as np\n",
        "import pandas as pd\n",
        "\n",
        "# Libraries for data preparation \n",
        "import re\n",
        "import string\n",
        "from sklearn import preprocessing\n",
        "from sklearn.model_selection import train_test_split\n",
        "from nltk.tokenize import word_tokenize, TreebankWordTokenizer\n",
        "from nltk import SnowballStemmer\n",
        "from nltk.stem import WordNetLemmatizer\n",
        "from nltk.corpus import stopwords\n",
        "from sklearn.preprocessing import LabelEncoder\n",
        "from sklearn.preprocessing import MinMaxScaler\n",
        "from sklearn.feature_extraction.text import TfidfVectorizer\n",
        "from sklearn.feature_extraction.text import CountVectorizer\n",
        "import nltk\n",
        "\n",
        "from sklearn.utils import resample\n",
        "\n",
        "# Libraries for data visualizations\n",
        "import matplotlib.pyplot as plt\n",
        "import seaborn as sns\n",
        "\n",
        "# Libraries for model building\n",
        "from sklearn.linear_model import LogisticRegression\n",
        "from sklearn.pipeline import Pipeline\n",
        "from sklearn.svm import SVC\n",
        "from sklearn.linear_model import PassiveAggressiveClassifier\n",
        "from xgboost import XGBClassifier\n",
        "from sklearn.ensemble import RandomForestClassifier \n",
        "from sklearn.naive_bayes import MultinomialNB\n",
        "from sklearn.model_selection import GridSearchCV\n",
        "\n",
        "# Libraries for assessing model accuracy \n",
        "from sklearn import metrics\n",
        "from sklearn.metrics import accuracy_score\n",
        "from sklearn.metrics import roc_auc_score\n",
        "from sklearn.metrics import recall_score\n",
        "from sklearn.metrics import precision_score\n",
        "from sklearn.metrics import f1_score\n",
        "from sklearn.metrics import classification_report\n",
        "\n",
        "from wordcloud import WordCloud, STOPWORDS , ImageColorGenerator\n",
        "\n",
        "# Setting global constants to ensure notebook results are reproducible\n",
        "\n",
        "RANDOM_STATE = 42\n",
        "\n",
        "\n",
        "import warnings\n",
        "warnings.filterwarnings('ignore')"
      ]
    },
    {
      "cell_type": "markdown",
      "metadata": {
        "id": "d0b0c406"
      },
      "source": [
        "<a id=\"two\"></a>\n",
        "## **2. LOADING THE DATA**\n",
        "<a href=#cont>Back to Table of Contents</a>\n",
        "\n",
        "---\n",
        "\n",
        "**Brief description of the data**\n",
        "\n",
        "The dataset used for this challenge is the NCHLT Text Corpora collected by the South African Department of Arts and Culture & Centre for Text Technology (CTexT, North-West University, South Africa). The training set was improved through additional cleaning done by Praekelt. The data is in the form Language ID, Text. The text is in various states of cleanliness. Some NLP techniques will be necessary to clean up the data.\n",
        "\n",
        "**Files Description**\n",
        "\n",
        "train_set.csv - the training set\n",
        "test_set.csv - the test set\n",
        "sample_submission.csv - a sample submission file in the correct format\n",
        "\n",
        "**Language IDs**\n",
        "\n",
        "afr - Afrikaans\n",
        "eng - English\n",
        "nbl - isiNdebele\n",
        "nso - Sepedi\n",
        "sot - Sesotho\n",
        "ssw - siSwati\n",
        "tsn - Setswana\n",
        "tso - Xitsonga\n",
        "ven - Tshivenda\n",
        "xho - isiXhosa\n",
        "zul - isiZulu"
      ]
    },
    {
      "cell_type": "markdown",
      "source": [
        "**2.1 Loading the datasets**"
      ],
      "metadata": {
        "id": "SiNXyarflD53"
      }
    },
    {
      "cell_type": "code",
      "source": [
        "# load the train dataset\n",
        "df_train = pd.read_csv('/content/train_set.csv')\n",
        "\n",
        "# load the test dataset\n",
        "df_test = pd.read_csv('/content/test_set.csv')\n",
        "\n",
        "# load the sample submission dataset\n",
        "samplesubmission = pd.read_csv('/content/sample_submission.csv')\n"
      ],
      "metadata": {
        "id": "NZuNHYSA6b94"
      },
      "execution_count": 2,
      "outputs": []
    },
    {
      "cell_type": "markdown",
      "source": [
        "**2.2 Preview the train dataset**"
      ],
      "metadata": {
        "id": "RnkVc2zUlH2U"
      }
    },
    {
      "cell_type": "code",
      "execution_count": 3,
      "metadata": {
        "id": "a48ab649",
        "outputId": "794bd8a6-89a9-4bf9-a1ea-196751890e8f",
        "colab": {
          "base_uri": "https://localhost:8080/",
          "height": 206
        }
      },
      "outputs": [
        {
          "output_type": "execute_result",
          "data": {
            "text/plain": [
              "  lang_id                                               text\n",
              "0     xho  umgaqo-siseko wenza amalungiselelo kumaziko ax...\n",
              "1     xho  i-dha iya kuba nobulumko bokubeka umsebenzi na...\n",
              "2     eng  the province of kwazulu-natal department of tr...\n",
              "3     nso  o netefatša gore o ba file dilo ka moka tše le...\n",
              "4     ven  khomishini ya ndinganyiso ya mbeu yo ewa maana..."
            ],
            "text/html": [
              "\n",
              "  <div id=\"df-9fec597b-83fb-4c07-af87-3541e719b0f4\">\n",
              "    <div class=\"colab-df-container\">\n",
              "      <div>\n",
              "<style scoped>\n",
              "    .dataframe tbody tr th:only-of-type {\n",
              "        vertical-align: middle;\n",
              "    }\n",
              "\n",
              "    .dataframe tbody tr th {\n",
              "        vertical-align: top;\n",
              "    }\n",
              "\n",
              "    .dataframe thead th {\n",
              "        text-align: right;\n",
              "    }\n",
              "</style>\n",
              "<table border=\"1\" class=\"dataframe\">\n",
              "  <thead>\n",
              "    <tr style=\"text-align: right;\">\n",
              "      <th></th>\n",
              "      <th>lang_id</th>\n",
              "      <th>text</th>\n",
              "    </tr>\n",
              "  </thead>\n",
              "  <tbody>\n",
              "    <tr>\n",
              "      <th>0</th>\n",
              "      <td>xho</td>\n",
              "      <td>umgaqo-siseko wenza amalungiselelo kumaziko ax...</td>\n",
              "    </tr>\n",
              "    <tr>\n",
              "      <th>1</th>\n",
              "      <td>xho</td>\n",
              "      <td>i-dha iya kuba nobulumko bokubeka umsebenzi na...</td>\n",
              "    </tr>\n",
              "    <tr>\n",
              "      <th>2</th>\n",
              "      <td>eng</td>\n",
              "      <td>the province of kwazulu-natal department of tr...</td>\n",
              "    </tr>\n",
              "    <tr>\n",
              "      <th>3</th>\n",
              "      <td>nso</td>\n",
              "      <td>o netefatša gore o ba file dilo ka moka tše le...</td>\n",
              "    </tr>\n",
              "    <tr>\n",
              "      <th>4</th>\n",
              "      <td>ven</td>\n",
              "      <td>khomishini ya ndinganyiso ya mbeu yo ewa maana...</td>\n",
              "    </tr>\n",
              "  </tbody>\n",
              "</table>\n",
              "</div>\n",
              "      <button class=\"colab-df-convert\" onclick=\"convertToInteractive('df-9fec597b-83fb-4c07-af87-3541e719b0f4')\"\n",
              "              title=\"Convert this dataframe to an interactive table.\"\n",
              "              style=\"display:none;\">\n",
              "        \n",
              "  <svg xmlns=\"http://www.w3.org/2000/svg\" height=\"24px\"viewBox=\"0 0 24 24\"\n",
              "       width=\"24px\">\n",
              "    <path d=\"M0 0h24v24H0V0z\" fill=\"none\"/>\n",
              "    <path d=\"M18.56 5.44l.94 2.06.94-2.06 2.06-.94-2.06-.94-.94-2.06-.94 2.06-2.06.94zm-11 1L8.5 8.5l.94-2.06 2.06-.94-2.06-.94L8.5 2.5l-.94 2.06-2.06.94zm10 10l.94 2.06.94-2.06 2.06-.94-2.06-.94-.94-2.06-.94 2.06-2.06.94z\"/><path d=\"M17.41 7.96l-1.37-1.37c-.4-.4-.92-.59-1.43-.59-.52 0-1.04.2-1.43.59L10.3 9.45l-7.72 7.72c-.78.78-.78 2.05 0 2.83L4 21.41c.39.39.9.59 1.41.59.51 0 1.02-.2 1.41-.59l7.78-7.78 2.81-2.81c.8-.78.8-2.07 0-2.86zM5.41 20L4 18.59l7.72-7.72 1.47 1.35L5.41 20z\"/>\n",
              "  </svg>\n",
              "      </button>\n",
              "      \n",
              "  <style>\n",
              "    .colab-df-container {\n",
              "      display:flex;\n",
              "      flex-wrap:wrap;\n",
              "      gap: 12px;\n",
              "    }\n",
              "\n",
              "    .colab-df-convert {\n",
              "      background-color: #E8F0FE;\n",
              "      border: none;\n",
              "      border-radius: 50%;\n",
              "      cursor: pointer;\n",
              "      display: none;\n",
              "      fill: #1967D2;\n",
              "      height: 32px;\n",
              "      padding: 0 0 0 0;\n",
              "      width: 32px;\n",
              "    }\n",
              "\n",
              "    .colab-df-convert:hover {\n",
              "      background-color: #E2EBFA;\n",
              "      box-shadow: 0px 1px 2px rgba(60, 64, 67, 0.3), 0px 1px 3px 1px rgba(60, 64, 67, 0.15);\n",
              "      fill: #174EA6;\n",
              "    }\n",
              "\n",
              "    [theme=dark] .colab-df-convert {\n",
              "      background-color: #3B4455;\n",
              "      fill: #D2E3FC;\n",
              "    }\n",
              "\n",
              "    [theme=dark] .colab-df-convert:hover {\n",
              "      background-color: #434B5C;\n",
              "      box-shadow: 0px 1px 3px 1px rgba(0, 0, 0, 0.15);\n",
              "      filter: drop-shadow(0px 1px 2px rgba(0, 0, 0, 0.3));\n",
              "      fill: #FFFFFF;\n",
              "    }\n",
              "  </style>\n",
              "\n",
              "      <script>\n",
              "        const buttonEl =\n",
              "          document.querySelector('#df-9fec597b-83fb-4c07-af87-3541e719b0f4 button.colab-df-convert');\n",
              "        buttonEl.style.display =\n",
              "          google.colab.kernel.accessAllowed ? 'block' : 'none';\n",
              "\n",
              "        async function convertToInteractive(key) {\n",
              "          const element = document.querySelector('#df-9fec597b-83fb-4c07-af87-3541e719b0f4');\n",
              "          const dataTable =\n",
              "            await google.colab.kernel.invokeFunction('convertToInteractive',\n",
              "                                                     [key], {});\n",
              "          if (!dataTable) return;\n",
              "\n",
              "          const docLinkHtml = 'Like what you see? Visit the ' +\n",
              "            '<a target=\"_blank\" href=https://colab.research.google.com/notebooks/data_table.ipynb>data table notebook</a>'\n",
              "            + ' to learn more about interactive tables.';\n",
              "          element.innerHTML = '';\n",
              "          dataTable['output_type'] = 'display_data';\n",
              "          await google.colab.output.renderOutput(dataTable, element);\n",
              "          const docLink = document.createElement('div');\n",
              "          docLink.innerHTML = docLinkHtml;\n",
              "          element.appendChild(docLink);\n",
              "        }\n",
              "      </script>\n",
              "    </div>\n",
              "  </div>\n",
              "  "
            ]
          },
          "metadata": {},
          "execution_count": 3
        }
      ],
      "source": [
        "# Preview train dataset\n",
        "df_train.head()"
      ]
    },
    {
      "cell_type": "markdown",
      "source": [
        "**2.3 Preview the test dataset**"
      ],
      "metadata": {
        "id": "Y47E9nMnlMjq"
      }
    },
    {
      "cell_type": "code",
      "execution_count": 4,
      "metadata": {
        "id": "c40fdeb4",
        "outputId": "530698f3-dcbb-47e0-fd34-c8d01fda0f42",
        "scrolled": true,
        "colab": {
          "base_uri": "https://localhost:8080/",
          "height": 206
        }
      },
      "outputs": [
        {
          "output_type": "execute_result",
          "data": {
            "text/plain": [
              "   index                                               text\n",
              "0      1  Mmasepala, fa maemo a a kgethegileng a letlele...\n",
              "1      2  Uzakwaziswa ngokufaneleko nakungafuneka eminye...\n",
              "2      3         Tshivhumbeo tshi fana na ngano dza vhathu.\n",
              "3      4  Kube inja nelikati betingevakala kutsi titsini...\n",
              "4      5                      Winste op buitelandse valuta."
            ],
            "text/html": [
              "\n",
              "  <div id=\"df-d514c93a-98f4-4a51-b2b8-9733e67932ad\">\n",
              "    <div class=\"colab-df-container\">\n",
              "      <div>\n",
              "<style scoped>\n",
              "    .dataframe tbody tr th:only-of-type {\n",
              "        vertical-align: middle;\n",
              "    }\n",
              "\n",
              "    .dataframe tbody tr th {\n",
              "        vertical-align: top;\n",
              "    }\n",
              "\n",
              "    .dataframe thead th {\n",
              "        text-align: right;\n",
              "    }\n",
              "</style>\n",
              "<table border=\"1\" class=\"dataframe\">\n",
              "  <thead>\n",
              "    <tr style=\"text-align: right;\">\n",
              "      <th></th>\n",
              "      <th>index</th>\n",
              "      <th>text</th>\n",
              "    </tr>\n",
              "  </thead>\n",
              "  <tbody>\n",
              "    <tr>\n",
              "      <th>0</th>\n",
              "      <td>1</td>\n",
              "      <td>Mmasepala, fa maemo a a kgethegileng a letlele...</td>\n",
              "    </tr>\n",
              "    <tr>\n",
              "      <th>1</th>\n",
              "      <td>2</td>\n",
              "      <td>Uzakwaziswa ngokufaneleko nakungafuneka eminye...</td>\n",
              "    </tr>\n",
              "    <tr>\n",
              "      <th>2</th>\n",
              "      <td>3</td>\n",
              "      <td>Tshivhumbeo tshi fana na ngano dza vhathu.</td>\n",
              "    </tr>\n",
              "    <tr>\n",
              "      <th>3</th>\n",
              "      <td>4</td>\n",
              "      <td>Kube inja nelikati betingevakala kutsi titsini...</td>\n",
              "    </tr>\n",
              "    <tr>\n",
              "      <th>4</th>\n",
              "      <td>5</td>\n",
              "      <td>Winste op buitelandse valuta.</td>\n",
              "    </tr>\n",
              "  </tbody>\n",
              "</table>\n",
              "</div>\n",
              "      <button class=\"colab-df-convert\" onclick=\"convertToInteractive('df-d514c93a-98f4-4a51-b2b8-9733e67932ad')\"\n",
              "              title=\"Convert this dataframe to an interactive table.\"\n",
              "              style=\"display:none;\">\n",
              "        \n",
              "  <svg xmlns=\"http://www.w3.org/2000/svg\" height=\"24px\"viewBox=\"0 0 24 24\"\n",
              "       width=\"24px\">\n",
              "    <path d=\"M0 0h24v24H0V0z\" fill=\"none\"/>\n",
              "    <path d=\"M18.56 5.44l.94 2.06.94-2.06 2.06-.94-2.06-.94-.94-2.06-.94 2.06-2.06.94zm-11 1L8.5 8.5l.94-2.06 2.06-.94-2.06-.94L8.5 2.5l-.94 2.06-2.06.94zm10 10l.94 2.06.94-2.06 2.06-.94-2.06-.94-.94-2.06-.94 2.06-2.06.94z\"/><path d=\"M17.41 7.96l-1.37-1.37c-.4-.4-.92-.59-1.43-.59-.52 0-1.04.2-1.43.59L10.3 9.45l-7.72 7.72c-.78.78-.78 2.05 0 2.83L4 21.41c.39.39.9.59 1.41.59.51 0 1.02-.2 1.41-.59l7.78-7.78 2.81-2.81c.8-.78.8-2.07 0-2.86zM5.41 20L4 18.59l7.72-7.72 1.47 1.35L5.41 20z\"/>\n",
              "  </svg>\n",
              "      </button>\n",
              "      \n",
              "  <style>\n",
              "    .colab-df-container {\n",
              "      display:flex;\n",
              "      flex-wrap:wrap;\n",
              "      gap: 12px;\n",
              "    }\n",
              "\n",
              "    .colab-df-convert {\n",
              "      background-color: #E8F0FE;\n",
              "      border: none;\n",
              "      border-radius: 50%;\n",
              "      cursor: pointer;\n",
              "      display: none;\n",
              "      fill: #1967D2;\n",
              "      height: 32px;\n",
              "      padding: 0 0 0 0;\n",
              "      width: 32px;\n",
              "    }\n",
              "\n",
              "    .colab-df-convert:hover {\n",
              "      background-color: #E2EBFA;\n",
              "      box-shadow: 0px 1px 2px rgba(60, 64, 67, 0.3), 0px 1px 3px 1px rgba(60, 64, 67, 0.15);\n",
              "      fill: #174EA6;\n",
              "    }\n",
              "\n",
              "    [theme=dark] .colab-df-convert {\n",
              "      background-color: #3B4455;\n",
              "      fill: #D2E3FC;\n",
              "    }\n",
              "\n",
              "    [theme=dark] .colab-df-convert:hover {\n",
              "      background-color: #434B5C;\n",
              "      box-shadow: 0px 1px 3px 1px rgba(0, 0, 0, 0.15);\n",
              "      filter: drop-shadow(0px 1px 2px rgba(0, 0, 0, 0.3));\n",
              "      fill: #FFFFFF;\n",
              "    }\n",
              "  </style>\n",
              "\n",
              "      <script>\n",
              "        const buttonEl =\n",
              "          document.querySelector('#df-d514c93a-98f4-4a51-b2b8-9733e67932ad button.colab-df-convert');\n",
              "        buttonEl.style.display =\n",
              "          google.colab.kernel.accessAllowed ? 'block' : 'none';\n",
              "\n",
              "        async function convertToInteractive(key) {\n",
              "          const element = document.querySelector('#df-d514c93a-98f4-4a51-b2b8-9733e67932ad');\n",
              "          const dataTable =\n",
              "            await google.colab.kernel.invokeFunction('convertToInteractive',\n",
              "                                                     [key], {});\n",
              "          if (!dataTable) return;\n",
              "\n",
              "          const docLinkHtml = 'Like what you see? Visit the ' +\n",
              "            '<a target=\"_blank\" href=https://colab.research.google.com/notebooks/data_table.ipynb>data table notebook</a>'\n",
              "            + ' to learn more about interactive tables.';\n",
              "          element.innerHTML = '';\n",
              "          dataTable['output_type'] = 'display_data';\n",
              "          await google.colab.output.renderOutput(dataTable, element);\n",
              "          const docLink = document.createElement('div');\n",
              "          docLink.innerHTML = docLinkHtml;\n",
              "          element.appendChild(docLink);\n",
              "        }\n",
              "      </script>\n",
              "    </div>\n",
              "  </div>\n",
              "  "
            ]
          },
          "metadata": {},
          "execution_count": 4
        }
      ],
      "source": [
        "# Preview test dataset\n",
        "df_test.head()"
      ]
    },
    {
      "cell_type": "markdown",
      "source": [
        "**2.4 Preview the sample submission dataset**"
      ],
      "metadata": {
        "id": "PLIwbtqllSaS"
      }
    },
    {
      "cell_type": "code",
      "execution_count": null,
      "metadata": {
        "id": "37d5f2c5",
        "outputId": "5c6b8bc5-314e-44c5-f8cc-ea83ec284160",
        "colab": {
          "base_uri": "https://localhost:8080/",
          "height": 112
        }
      },
      "outputs": [
        {
          "output_type": "execute_result",
          "data": {
            "text/plain": [
              "   index lang_id\n",
              "0      1     tsn\n",
              "1      2     nbl"
            ],
            "text/html": [
              "\n",
              "  <div id=\"df-a4767aee-a7d7-4267-acef-1205f32b4fc3\">\n",
              "    <div class=\"colab-df-container\">\n",
              "      <div>\n",
              "<style scoped>\n",
              "    .dataframe tbody tr th:only-of-type {\n",
              "        vertical-align: middle;\n",
              "    }\n",
              "\n",
              "    .dataframe tbody tr th {\n",
              "        vertical-align: top;\n",
              "    }\n",
              "\n",
              "    .dataframe thead th {\n",
              "        text-align: right;\n",
              "    }\n",
              "</style>\n",
              "<table border=\"1\" class=\"dataframe\">\n",
              "  <thead>\n",
              "    <tr style=\"text-align: right;\">\n",
              "      <th></th>\n",
              "      <th>index</th>\n",
              "      <th>lang_id</th>\n",
              "    </tr>\n",
              "  </thead>\n",
              "  <tbody>\n",
              "    <tr>\n",
              "      <th>0</th>\n",
              "      <td>1</td>\n",
              "      <td>tsn</td>\n",
              "    </tr>\n",
              "    <tr>\n",
              "      <th>1</th>\n",
              "      <td>2</td>\n",
              "      <td>nbl</td>\n",
              "    </tr>\n",
              "  </tbody>\n",
              "</table>\n",
              "</div>\n",
              "      <button class=\"colab-df-convert\" onclick=\"convertToInteractive('df-a4767aee-a7d7-4267-acef-1205f32b4fc3')\"\n",
              "              title=\"Convert this dataframe to an interactive table.\"\n",
              "              style=\"display:none;\">\n",
              "        \n",
              "  <svg xmlns=\"http://www.w3.org/2000/svg\" height=\"24px\"viewBox=\"0 0 24 24\"\n",
              "       width=\"24px\">\n",
              "    <path d=\"M0 0h24v24H0V0z\" fill=\"none\"/>\n",
              "    <path d=\"M18.56 5.44l.94 2.06.94-2.06 2.06-.94-2.06-.94-.94-2.06-.94 2.06-2.06.94zm-11 1L8.5 8.5l.94-2.06 2.06-.94-2.06-.94L8.5 2.5l-.94 2.06-2.06.94zm10 10l.94 2.06.94-2.06 2.06-.94-2.06-.94-.94-2.06-.94 2.06-2.06.94z\"/><path d=\"M17.41 7.96l-1.37-1.37c-.4-.4-.92-.59-1.43-.59-.52 0-1.04.2-1.43.59L10.3 9.45l-7.72 7.72c-.78.78-.78 2.05 0 2.83L4 21.41c.39.39.9.59 1.41.59.51 0 1.02-.2 1.41-.59l7.78-7.78 2.81-2.81c.8-.78.8-2.07 0-2.86zM5.41 20L4 18.59l7.72-7.72 1.47 1.35L5.41 20z\"/>\n",
              "  </svg>\n",
              "      </button>\n",
              "      \n",
              "  <style>\n",
              "    .colab-df-container {\n",
              "      display:flex;\n",
              "      flex-wrap:wrap;\n",
              "      gap: 12px;\n",
              "    }\n",
              "\n",
              "    .colab-df-convert {\n",
              "      background-color: #E8F0FE;\n",
              "      border: none;\n",
              "      border-radius: 50%;\n",
              "      cursor: pointer;\n",
              "      display: none;\n",
              "      fill: #1967D2;\n",
              "      height: 32px;\n",
              "      padding: 0 0 0 0;\n",
              "      width: 32px;\n",
              "    }\n",
              "\n",
              "    .colab-df-convert:hover {\n",
              "      background-color: #E2EBFA;\n",
              "      box-shadow: 0px 1px 2px rgba(60, 64, 67, 0.3), 0px 1px 3px 1px rgba(60, 64, 67, 0.15);\n",
              "      fill: #174EA6;\n",
              "    }\n",
              "\n",
              "    [theme=dark] .colab-df-convert {\n",
              "      background-color: #3B4455;\n",
              "      fill: #D2E3FC;\n",
              "    }\n",
              "\n",
              "    [theme=dark] .colab-df-convert:hover {\n",
              "      background-color: #434B5C;\n",
              "      box-shadow: 0px 1px 3px 1px rgba(0, 0, 0, 0.15);\n",
              "      filter: drop-shadow(0px 1px 2px rgba(0, 0, 0, 0.3));\n",
              "      fill: #FFFFFF;\n",
              "    }\n",
              "  </style>\n",
              "\n",
              "      <script>\n",
              "        const buttonEl =\n",
              "          document.querySelector('#df-a4767aee-a7d7-4267-acef-1205f32b4fc3 button.colab-df-convert');\n",
              "        buttonEl.style.display =\n",
              "          google.colab.kernel.accessAllowed ? 'block' : 'none';\n",
              "\n",
              "        async function convertToInteractive(key) {\n",
              "          const element = document.querySelector('#df-a4767aee-a7d7-4267-acef-1205f32b4fc3');\n",
              "          const dataTable =\n",
              "            await google.colab.kernel.invokeFunction('convertToInteractive',\n",
              "                                                     [key], {});\n",
              "          if (!dataTable) return;\n",
              "\n",
              "          const docLinkHtml = 'Like what you see? Visit the ' +\n",
              "            '<a target=\"_blank\" href=https://colab.research.google.com/notebooks/data_table.ipynb>data table notebook</a>'\n",
              "            + ' to learn more about interactive tables.';\n",
              "          element.innerHTML = '';\n",
              "          dataTable['output_type'] = 'display_data';\n",
              "          await google.colab.output.renderOutput(dataTable, element);\n",
              "          const docLink = document.createElement('div');\n",
              "          docLink.innerHTML = docLinkHtml;\n",
              "          element.appendChild(docLink);\n",
              "        }\n",
              "      </script>\n",
              "    </div>\n",
              "  </div>\n",
              "  "
            ]
          },
          "metadata": {},
          "execution_count": 6
        }
      ],
      "source": [
        "# Preview the sample submission dataset\n",
        "samplesubmission.head()"
      ]
    },
    {
      "cell_type": "markdown",
      "metadata": {
        "id": "98f17ea9"
      },
      "source": [
        "In this section train, test and samplesubmission data have been uploaded to have a snap shot of how the data looks like. The train data will be used to train the model and the test data will be used to test the accuracy of the model in predicting unseen data. The sample submission file will aid in uploading the model in Kaggle.\n"
      ]
    },
    {
      "cell_type": "markdown",
      "metadata": {
        "id": "d021cc57"
      },
      "source": [
        "<a id=\"three\"></a>\n",
        "# **3. EXPLORATORY DATA ANALYSIS (EDA)**\n",
        "<a class=\"anchor\" id=\"1.1\"></a>\n",
        "<a href=#cont>Back to Table of Contents</a>\n",
        "\n",
        ">*What is Exploratory data analysis?*\n",
        "\n",
        ">Exploratory data analysis (EDA) is the process of analysing and investigating data sets and summarizing their main characteristics, often employing both non-graphical and graphical methods. This section will include a univariate graphical and non-graphical analysis.\n",
        "\n"
      ]
    },
    {
      "cell_type": "markdown",
      "metadata": {
        "id": "4bbe77c9"
      },
      "source": [
        "### **3.1 UNIVARIATE NON-GRAPHICAL ANALYSIS** \n"
      ]
    },
    {
      "cell_type": "markdown",
      "source": [
        "**3.1.1 Check number of rows and columns in the train and test datasets** "
      ],
      "metadata": {
        "id": "OAV_tihcgH9N"
      }
    },
    {
      "cell_type": "code",
      "source": [
        "# print out the shape of the train dataset\n",
        "print('The merged dataset has',df_train.shape[0],'rows and',df_train.shape[1],'columns')"
      ],
      "metadata": {
        "colab": {
          "base_uri": "https://localhost:8080/"
        },
        "id": "cCGEAqY6gT0c",
        "outputId": "24d91f2a-e5f9-41c0-c40c-b9c20c3e3200"
      },
      "execution_count": null,
      "outputs": [
        {
          "output_type": "stream",
          "name": "stdout",
          "text": [
            "The merged dataset has 33000 rows and 2 columns\n"
          ]
        }
      ]
    },
    {
      "cell_type": "code",
      "source": [
        "# print out the shape of the test dataset\n",
        "print('The merged dataset has',df_test.shape[0],'rows and',df_test.shape[1],'columns')"
      ],
      "metadata": {
        "colab": {
          "base_uri": "https://localhost:8080/"
        },
        "id": "DhUjP39TggjD",
        "outputId": "7b552227-e0d0-4a6a-a21c-56a7e893ac4c"
      },
      "execution_count": null,
      "outputs": [
        {
          "output_type": "stream",
          "name": "stdout",
          "text": [
            "The merged dataset has 5682 rows and 2 columns\n"
          ]
        }
      ]
    },
    {
      "cell_type": "markdown",
      "source": [
        "**3.1.2 Check for presence of null/missing values in the train and test datasets**"
      ],
      "metadata": {
        "id": "OR_rxRLRIUWF"
      }
    },
    {
      "cell_type": "code",
      "execution_count": null,
      "metadata": {
        "id": "36205ee4",
        "outputId": "fac2b4e0-ed4b-4205-f722-f5ab4cbc8f91",
        "colab": {
          "base_uri": "https://localhost:8080/"
        }
      },
      "outputs": [
        {
          "output_type": "execute_result",
          "data": {
            "text/plain": [
              "lang_id    0\n",
              "text       0\n",
              "dtype: int64"
            ]
          },
          "metadata": {},
          "execution_count": 9
        }
      ],
      "source": [
        "# checking for presence of missing values in the train dataset\n",
        "df_train.isnull().sum()"
      ]
    },
    {
      "cell_type": "markdown",
      "source": [
        "**Results:** \n",
        "\n",
        "The results above confirm that the train dataset has no missing values"
      ],
      "metadata": {
        "id": "GW9hF5MZI7zG"
      }
    },
    {
      "cell_type": "code",
      "source": [
        "# checking for presence of missing values in the train dataset\n",
        "df_test.isnull().sum()"
      ],
      "metadata": {
        "colab": {
          "base_uri": "https://localhost:8080/"
        },
        "id": "j-aCBnQ9IrMp",
        "outputId": "90377bf9-e585-4537-a6cd-092b201b5b93"
      },
      "execution_count": null,
      "outputs": [
        {
          "output_type": "execute_result",
          "data": {
            "text/plain": [
              "index    0\n",
              "text     0\n",
              "dtype: int64"
            ]
          },
          "metadata": {},
          "execution_count": 10
        }
      ]
    },
    {
      "cell_type": "markdown",
      "source": [
        "**Results:** \n",
        "\n",
        "The results above confirm that the test dataset has no missing values, as well"
      ],
      "metadata": {
        "id": "cLV25zLRIyxN"
      }
    },
    {
      "cell_type": "markdown",
      "source": [
        "**3.1.3 Analyze the datatypes of each column in the train and test datasets** "
      ],
      "metadata": {
        "id": "c71gOvrhJQOg"
      }
    },
    {
      "cell_type": "code",
      "source": [
        "# Check data types for all columns\n",
        "df_train.info()"
      ],
      "metadata": {
        "colab": {
          "base_uri": "https://localhost:8080/"
        },
        "id": "JmSc8DskJZ0c",
        "outputId": "a0ddb936-3acf-47db-c86f-99e482ebc90b"
      },
      "execution_count": null,
      "outputs": [
        {
          "output_type": "stream",
          "name": "stdout",
          "text": [
            "<class 'pandas.core.frame.DataFrame'>\n",
            "RangeIndex: 33000 entries, 0 to 32999\n",
            "Data columns (total 2 columns):\n",
            " #   Column   Non-Null Count  Dtype \n",
            "---  ------   --------------  ----- \n",
            " 0   lang_id  33000 non-null  object\n",
            " 1   text     33000 non-null  object\n",
            "dtypes: object(2)\n",
            "memory usage: 515.8+ KB\n"
          ]
        }
      ]
    },
    {
      "cell_type": "markdown",
      "metadata": {
        "id": "79ab9928"
      },
      "source": [
        "**Results:** \n",
        "\n",
        "The results above show that both the lang_id and text features have an object datetype i.e. the values are in form of a string datatype. Because of this, the values in each of these columns will be transformed into numbers - since no machine learning models can work with strings or objects, but only numerical features. Transformation from text to numbers is done through count vectorization.\n",
        "\n"
      ]
    },
    {
      "cell_type": "code",
      "source": [
        "# Check data types for all columns\n",
        "df_test.info()"
      ],
      "metadata": {
        "colab": {
          "base_uri": "https://localhost:8080/"
        },
        "id": "Kcc4p6-QKFkw",
        "outputId": "e655f509-ea40-4558-c88c-9e3fb1ba906b"
      },
      "execution_count": null,
      "outputs": [
        {
          "output_type": "stream",
          "name": "stdout",
          "text": [
            "<class 'pandas.core.frame.DataFrame'>\n",
            "RangeIndex: 5682 entries, 0 to 5681\n",
            "Data columns (total 2 columns):\n",
            " #   Column  Non-Null Count  Dtype \n",
            "---  ------  --------------  ----- \n",
            " 0   index   5682 non-null   int64 \n",
            " 1   text    5682 non-null   object\n",
            "dtypes: int64(1), object(1)\n",
            "memory usage: 88.9+ KB\n"
          ]
        }
      ]
    },
    {
      "cell_type": "markdown",
      "source": [
        "**Results:** \n",
        "\n",
        "The results above show that both index feature has an integer datatype, while the text feature has an object datetype. The index feature is a unique identification of each text sentence, while the text feature contains all the sentences in different South African languages. Since the text feature is an object datatype, this feature will also be transformed from text into numbers, through count vectorization. "
      ],
      "metadata": {
        "id": "J77jEOztKZzP"
      }
    },
    {
      "cell_type": "markdown",
      "source": [
        "**3.1.4 Analyze the descriptive statistics of each column in the train and test datasets** "
      ],
      "metadata": {
        "id": "MqIVibBSY82T"
      }
    },
    {
      "cell_type": "code",
      "execution_count": null,
      "metadata": {
        "id": "8de97fff",
        "outputId": "9a4d63f2-ec64-4e32-8f4f-a2fc33b82732",
        "colab": {
          "base_uri": "https://localhost:8080/",
          "height": 112
        }
      },
      "outputs": [
        {
          "output_type": "execute_result",
          "data": {
            "text/plain": [
              "         count unique                                                top  freq\n",
              "lang_id  33000     11                                                xho  3000\n",
              "text     33000  29948  ngokwesekhtjheni yomthetho ophathelene nalokhu...    17"
            ],
            "text/html": [
              "\n",
              "  <div id=\"df-483a3ca4-ae3b-434c-967e-ac9e51e5a597\">\n",
              "    <div class=\"colab-df-container\">\n",
              "      <div>\n",
              "<style scoped>\n",
              "    .dataframe tbody tr th:only-of-type {\n",
              "        vertical-align: middle;\n",
              "    }\n",
              "\n",
              "    .dataframe tbody tr th {\n",
              "        vertical-align: top;\n",
              "    }\n",
              "\n",
              "    .dataframe thead th {\n",
              "        text-align: right;\n",
              "    }\n",
              "</style>\n",
              "<table border=\"1\" class=\"dataframe\">\n",
              "  <thead>\n",
              "    <tr style=\"text-align: right;\">\n",
              "      <th></th>\n",
              "      <th>count</th>\n",
              "      <th>unique</th>\n",
              "      <th>top</th>\n",
              "      <th>freq</th>\n",
              "    </tr>\n",
              "  </thead>\n",
              "  <tbody>\n",
              "    <tr>\n",
              "      <th>lang_id</th>\n",
              "      <td>33000</td>\n",
              "      <td>11</td>\n",
              "      <td>xho</td>\n",
              "      <td>3000</td>\n",
              "    </tr>\n",
              "    <tr>\n",
              "      <th>text</th>\n",
              "      <td>33000</td>\n",
              "      <td>29948</td>\n",
              "      <td>ngokwesekhtjheni yomthetho ophathelene nalokhu...</td>\n",
              "      <td>17</td>\n",
              "    </tr>\n",
              "  </tbody>\n",
              "</table>\n",
              "</div>\n",
              "      <button class=\"colab-df-convert\" onclick=\"convertToInteractive('df-483a3ca4-ae3b-434c-967e-ac9e51e5a597')\"\n",
              "              title=\"Convert this dataframe to an interactive table.\"\n",
              "              style=\"display:none;\">\n",
              "        \n",
              "  <svg xmlns=\"http://www.w3.org/2000/svg\" height=\"24px\"viewBox=\"0 0 24 24\"\n",
              "       width=\"24px\">\n",
              "    <path d=\"M0 0h24v24H0V0z\" fill=\"none\"/>\n",
              "    <path d=\"M18.56 5.44l.94 2.06.94-2.06 2.06-.94-2.06-.94-.94-2.06-.94 2.06-2.06.94zm-11 1L8.5 8.5l.94-2.06 2.06-.94-2.06-.94L8.5 2.5l-.94 2.06-2.06.94zm10 10l.94 2.06.94-2.06 2.06-.94-2.06-.94-.94-2.06-.94 2.06-2.06.94z\"/><path d=\"M17.41 7.96l-1.37-1.37c-.4-.4-.92-.59-1.43-.59-.52 0-1.04.2-1.43.59L10.3 9.45l-7.72 7.72c-.78.78-.78 2.05 0 2.83L4 21.41c.39.39.9.59 1.41.59.51 0 1.02-.2 1.41-.59l7.78-7.78 2.81-2.81c.8-.78.8-2.07 0-2.86zM5.41 20L4 18.59l7.72-7.72 1.47 1.35L5.41 20z\"/>\n",
              "  </svg>\n",
              "      </button>\n",
              "      \n",
              "  <style>\n",
              "    .colab-df-container {\n",
              "      display:flex;\n",
              "      flex-wrap:wrap;\n",
              "      gap: 12px;\n",
              "    }\n",
              "\n",
              "    .colab-df-convert {\n",
              "      background-color: #E8F0FE;\n",
              "      border: none;\n",
              "      border-radius: 50%;\n",
              "      cursor: pointer;\n",
              "      display: none;\n",
              "      fill: #1967D2;\n",
              "      height: 32px;\n",
              "      padding: 0 0 0 0;\n",
              "      width: 32px;\n",
              "    }\n",
              "\n",
              "    .colab-df-convert:hover {\n",
              "      background-color: #E2EBFA;\n",
              "      box-shadow: 0px 1px 2px rgba(60, 64, 67, 0.3), 0px 1px 3px 1px rgba(60, 64, 67, 0.15);\n",
              "      fill: #174EA6;\n",
              "    }\n",
              "\n",
              "    [theme=dark] .colab-df-convert {\n",
              "      background-color: #3B4455;\n",
              "      fill: #D2E3FC;\n",
              "    }\n",
              "\n",
              "    [theme=dark] .colab-df-convert:hover {\n",
              "      background-color: #434B5C;\n",
              "      box-shadow: 0px 1px 3px 1px rgba(0, 0, 0, 0.15);\n",
              "      filter: drop-shadow(0px 1px 2px rgba(0, 0, 0, 0.3));\n",
              "      fill: #FFFFFF;\n",
              "    }\n",
              "  </style>\n",
              "\n",
              "      <script>\n",
              "        const buttonEl =\n",
              "          document.querySelector('#df-483a3ca4-ae3b-434c-967e-ac9e51e5a597 button.colab-df-convert');\n",
              "        buttonEl.style.display =\n",
              "          google.colab.kernel.accessAllowed ? 'block' : 'none';\n",
              "\n",
              "        async function convertToInteractive(key) {\n",
              "          const element = document.querySelector('#df-483a3ca4-ae3b-434c-967e-ac9e51e5a597');\n",
              "          const dataTable =\n",
              "            await google.colab.kernel.invokeFunction('convertToInteractive',\n",
              "                                                     [key], {});\n",
              "          if (!dataTable) return;\n",
              "\n",
              "          const docLinkHtml = 'Like what you see? Visit the ' +\n",
              "            '<a target=\"_blank\" href=https://colab.research.google.com/notebooks/data_table.ipynb>data table notebook</a>'\n",
              "            + ' to learn more about interactive tables.';\n",
              "          element.innerHTML = '';\n",
              "          dataTable['output_type'] = 'display_data';\n",
              "          await google.colab.output.renderOutput(dataTable, element);\n",
              "          const docLink = document.createElement('div');\n",
              "          docLink.innerHTML = docLinkHtml;\n",
              "          element.appendChild(docLink);\n",
              "        }\n",
              "      </script>\n",
              "    </div>\n",
              "  </div>\n",
              "  "
            ]
          },
          "metadata": {},
          "execution_count": 13
        }
      ],
      "source": [
        "# look at data statistics in the train dataset\n",
        "df_train.describe(include='all').T"
      ]
    },
    {
      "cell_type": "markdown",
      "source": [
        "**Results:** \n",
        "\n",
        "In the train dataset, the lang_id feature has 11 unique values, which means that there are 11 unique South African languages that are listed in the dataset. The most frequent language seems to the 'xho', which is the language id for isiXhosa language and it appears 3000 times in the train_set dataset. As for the text feature, it seems to have 29,948 unique sentenes and the most frequent sentence is 'ngokwesekhtjheni yomthetho ophathelene nalokhu...', which appears 17 times in the dataset."
      ],
      "metadata": {
        "id": "kd4Bm-AMFcev"
      }
    },
    {
      "cell_type": "code",
      "source": [
        "# look at data statistics in the test dataset\n",
        "df_test.describe(include='all').T"
      ],
      "metadata": {
        "colab": {
          "base_uri": "https://localhost:8080/",
          "height": 112
        },
        "id": "aTh2OPuCZNdL",
        "outputId": "b98cf67b-f87d-4755-e926-cc190d16e167"
      },
      "execution_count": null,
      "outputs": [
        {
          "output_type": "execute_result",
          "data": {
            "text/plain": [
              "        count unique                                 top freq    mean  \\\n",
              "index  5682.0    NaN                                 NaN  NaN  2841.5   \n",
              "text     5682   5459  Hoekom moet Onderhoud Betaal word?    6     NaN   \n",
              "\n",
              "               std  min      25%     50%      75%     max  \n",
              "index  1640.396446  1.0  1421.25  2841.5  4261.75  5682.0  \n",
              "text           NaN  NaN      NaN     NaN      NaN     NaN  "
            ],
            "text/html": [
              "\n",
              "  <div id=\"df-80e6a262-79a4-41d2-b903-82d57da9dd5c\">\n",
              "    <div class=\"colab-df-container\">\n",
              "      <div>\n",
              "<style scoped>\n",
              "    .dataframe tbody tr th:only-of-type {\n",
              "        vertical-align: middle;\n",
              "    }\n",
              "\n",
              "    .dataframe tbody tr th {\n",
              "        vertical-align: top;\n",
              "    }\n",
              "\n",
              "    .dataframe thead th {\n",
              "        text-align: right;\n",
              "    }\n",
              "</style>\n",
              "<table border=\"1\" class=\"dataframe\">\n",
              "  <thead>\n",
              "    <tr style=\"text-align: right;\">\n",
              "      <th></th>\n",
              "      <th>count</th>\n",
              "      <th>unique</th>\n",
              "      <th>top</th>\n",
              "      <th>freq</th>\n",
              "      <th>mean</th>\n",
              "      <th>std</th>\n",
              "      <th>min</th>\n",
              "      <th>25%</th>\n",
              "      <th>50%</th>\n",
              "      <th>75%</th>\n",
              "      <th>max</th>\n",
              "    </tr>\n",
              "  </thead>\n",
              "  <tbody>\n",
              "    <tr>\n",
              "      <th>index</th>\n",
              "      <td>5682.0</td>\n",
              "      <td>NaN</td>\n",
              "      <td>NaN</td>\n",
              "      <td>NaN</td>\n",
              "      <td>2841.5</td>\n",
              "      <td>1640.396446</td>\n",
              "      <td>1.0</td>\n",
              "      <td>1421.25</td>\n",
              "      <td>2841.5</td>\n",
              "      <td>4261.75</td>\n",
              "      <td>5682.0</td>\n",
              "    </tr>\n",
              "    <tr>\n",
              "      <th>text</th>\n",
              "      <td>5682</td>\n",
              "      <td>5459</td>\n",
              "      <td>Hoekom moet Onderhoud Betaal word?</td>\n",
              "      <td>6</td>\n",
              "      <td>NaN</td>\n",
              "      <td>NaN</td>\n",
              "      <td>NaN</td>\n",
              "      <td>NaN</td>\n",
              "      <td>NaN</td>\n",
              "      <td>NaN</td>\n",
              "      <td>NaN</td>\n",
              "    </tr>\n",
              "  </tbody>\n",
              "</table>\n",
              "</div>\n",
              "      <button class=\"colab-df-convert\" onclick=\"convertToInteractive('df-80e6a262-79a4-41d2-b903-82d57da9dd5c')\"\n",
              "              title=\"Convert this dataframe to an interactive table.\"\n",
              "              style=\"display:none;\">\n",
              "        \n",
              "  <svg xmlns=\"http://www.w3.org/2000/svg\" height=\"24px\"viewBox=\"0 0 24 24\"\n",
              "       width=\"24px\">\n",
              "    <path d=\"M0 0h24v24H0V0z\" fill=\"none\"/>\n",
              "    <path d=\"M18.56 5.44l.94 2.06.94-2.06 2.06-.94-2.06-.94-.94-2.06-.94 2.06-2.06.94zm-11 1L8.5 8.5l.94-2.06 2.06-.94-2.06-.94L8.5 2.5l-.94 2.06-2.06.94zm10 10l.94 2.06.94-2.06 2.06-.94-2.06-.94-.94-2.06-.94 2.06-2.06.94z\"/><path d=\"M17.41 7.96l-1.37-1.37c-.4-.4-.92-.59-1.43-.59-.52 0-1.04.2-1.43.59L10.3 9.45l-7.72 7.72c-.78.78-.78 2.05 0 2.83L4 21.41c.39.39.9.59 1.41.59.51 0 1.02-.2 1.41-.59l7.78-7.78 2.81-2.81c.8-.78.8-2.07 0-2.86zM5.41 20L4 18.59l7.72-7.72 1.47 1.35L5.41 20z\"/>\n",
              "  </svg>\n",
              "      </button>\n",
              "      \n",
              "  <style>\n",
              "    .colab-df-container {\n",
              "      display:flex;\n",
              "      flex-wrap:wrap;\n",
              "      gap: 12px;\n",
              "    }\n",
              "\n",
              "    .colab-df-convert {\n",
              "      background-color: #E8F0FE;\n",
              "      border: none;\n",
              "      border-radius: 50%;\n",
              "      cursor: pointer;\n",
              "      display: none;\n",
              "      fill: #1967D2;\n",
              "      height: 32px;\n",
              "      padding: 0 0 0 0;\n",
              "      width: 32px;\n",
              "    }\n",
              "\n",
              "    .colab-df-convert:hover {\n",
              "      background-color: #E2EBFA;\n",
              "      box-shadow: 0px 1px 2px rgba(60, 64, 67, 0.3), 0px 1px 3px 1px rgba(60, 64, 67, 0.15);\n",
              "      fill: #174EA6;\n",
              "    }\n",
              "\n",
              "    [theme=dark] .colab-df-convert {\n",
              "      background-color: #3B4455;\n",
              "      fill: #D2E3FC;\n",
              "    }\n",
              "\n",
              "    [theme=dark] .colab-df-convert:hover {\n",
              "      background-color: #434B5C;\n",
              "      box-shadow: 0px 1px 3px 1px rgba(0, 0, 0, 0.15);\n",
              "      filter: drop-shadow(0px 1px 2px rgba(0, 0, 0, 0.3));\n",
              "      fill: #FFFFFF;\n",
              "    }\n",
              "  </style>\n",
              "\n",
              "      <script>\n",
              "        const buttonEl =\n",
              "          document.querySelector('#df-80e6a262-79a4-41d2-b903-82d57da9dd5c button.colab-df-convert');\n",
              "        buttonEl.style.display =\n",
              "          google.colab.kernel.accessAllowed ? 'block' : 'none';\n",
              "\n",
              "        async function convertToInteractive(key) {\n",
              "          const element = document.querySelector('#df-80e6a262-79a4-41d2-b903-82d57da9dd5c');\n",
              "          const dataTable =\n",
              "            await google.colab.kernel.invokeFunction('convertToInteractive',\n",
              "                                                     [key], {});\n",
              "          if (!dataTable) return;\n",
              "\n",
              "          const docLinkHtml = 'Like what you see? Visit the ' +\n",
              "            '<a target=\"_blank\" href=https://colab.research.google.com/notebooks/data_table.ipynb>data table notebook</a>'\n",
              "            + ' to learn more about interactive tables.';\n",
              "          element.innerHTML = '';\n",
              "          dataTable['output_type'] = 'display_data';\n",
              "          await google.colab.output.renderOutput(dataTable, element);\n",
              "          const docLink = document.createElement('div');\n",
              "          docLink.innerHTML = docLinkHtml;\n",
              "          element.appendChild(docLink);\n",
              "        }\n",
              "      </script>\n",
              "    </div>\n",
              "  </div>\n",
              "  "
            ]
          },
          "metadata": {},
          "execution_count": 14
        }
      ]
    },
    {
      "cell_type": "markdown",
      "source": [
        "**Results:** \n",
        "\n",
        "In the test dataset, the text feature has 5459 unique entries and the most frequent entry is 'Hoekom moet Onderhoud Betaal word?', which appears 6 times in the dataset."
      ],
      "metadata": {
        "id": "G0A1Ux_WZVUY"
      }
    },
    {
      "cell_type": "markdown",
      "source": [
        "**3.1.5 Analyze the number of observations in the lang_id feature of the train dataset** "
      ],
      "metadata": {
        "id": "q0ncPpAdZ1Z9"
      }
    },
    {
      "cell_type": "code",
      "execution_count": null,
      "metadata": {
        "id": "5969fbe1",
        "outputId": "1d331d88-8a16-4239-dc0b-174d8ac3fb0c",
        "colab": {
          "base_uri": "https://localhost:8080/"
        }
      },
      "outputs": [
        {
          "output_type": "execute_result",
          "data": {
            "text/plain": [
              "xho    3000\n",
              "eng    3000\n",
              "nso    3000\n",
              "ven    3000\n",
              "tsn    3000\n",
              "nbl    3000\n",
              "zul    3000\n",
              "ssw    3000\n",
              "tso    3000\n",
              "sot    3000\n",
              "afr    3000\n",
              "Name: lang_id, dtype: int64"
            ]
          },
          "metadata": {},
          "execution_count": 15
        }
      ],
      "source": [
        "# Check the number of observations in each language id class/ category\n",
        "df_train['lang_id'].value_counts()"
      ]
    },
    {
      "cell_type": "markdown",
      "metadata": {
        "id": "af3eb2cd"
      },
      "source": [
        "**Results:**\n",
        "\n",
        "From the results above, all the 11 unique language id classes have the same number of observatios, i.e. 3000, thus confirming that there is no class imbalance in the train_set dataset. However, since the test dataset does not contain the 'lang_id' feature, we cannot perform the same code in it."
      ]
    },
    {
      "cell_type": "markdown",
      "metadata": {
        "id": "115c411d"
      },
      "source": [
        "### **3.2 UNIVARIATE GRAPHICAL ANALYSIS** \n",
        "> In this section, we conduct a graphical analysis in order to inspect the number of observations in the language id column. "
      ]
    },
    {
      "cell_type": "markdown",
      "source": [
        "**3.2.1 Plot the number of observations in the lang_id feature of the train dataset** "
      ],
      "metadata": {
        "id": "3yah_X9VaaIg"
      }
    },
    {
      "cell_type": "code",
      "execution_count": 3,
      "metadata": {
        "scrolled": true,
        "colab": {
          "base_uri": "https://localhost:8080/",
          "height": 280
        },
        "id": "9d918b35",
        "outputId": "eea3f663-981d-4635-d8ea-a89840cf84cc"
      },
      "outputs": [
        {
          "output_type": "display_data",
          "data": {
            "text/plain": [
              "<Figure size 576x288 with 1 Axes>"
            ],
            "image/png": "[encoded data removed]"
          },
          "metadata": {
            "needs_background": "light"
          }
        }
      ],
      "source": [
        "# plotting the distribution of unique language ids in the train dataset\n",
        "f, ax = plt.subplots(figsize=(8, 4))\n",
        "ax = sns.countplot(x=\"lang_id\", data=df_train)\n",
        "plt.show()"
      ]
    },
    {
      "cell_type": "markdown",
      "metadata": {
        "id": "15102add"
      },
      "source": [
        "**Results:** \n",
        "\n",
        "Based on the description of the data, here is what each value stands for:\n",
        "\n",
        "Language IDs:\n",
        "\n",
        "\n",
        "    afr - Afrikaans\n",
        "    eng - English\n",
        "    nbl - isiNdebele\n",
        "    nso - Sepedi\n",
        "    sot - Sesotho\n",
        "    ssw - siSwati\n",
        "    tsn - Setswana\n",
        "    tso - Xitsonga\n",
        "    ven - Tshivenda\n",
        "    xho - isiXhosa\n",
        "    zul - isiZulu\n",
        "\n",
        "As is shown above, all the 11 unique language id classes have the same number of observatios, i.e. 3000, thus confirming that there is no class imbalance in the train_set dataset. "
      ]
    },
    {
      "cell_type": "markdown",
      "metadata": {
        "id": "9752672e"
      },
      "source": [
        "<a id=\"four\"></a>\n",
        "# **4. TEXT CLEANING AND PREPROCESSING OF THE TRAIN AND TEST DATASETS**\n",
        "<a class=\"anchor\" id=\"1.1\"></a>\n",
        "<a href=#cont>Back to Table of Contents</a>\n",
        "\n",
        "The real world data contains irrelevant or meaningless data termed as noise which can significantly affect the performance of the machine learning process. It is, therefore, necessary to perform text cleaning and preprocessing, in order to eliminate these noises and improve the performance of the machine learning models. The following tasks are executed in order to clean and preprocess the text feature in both the train and test datasets. \n",
        "\n",
        ">* identify and remove web-urls from the main message \n",
        ">* identify and remove words starting with '#'\n",
        ">* identify and remove words starting with '@'\n",
        ">* converting all the words to lower case\n",
        ">* removing punctuations\n"
      ]
    },
    {
      "cell_type": "markdown",
      "metadata": {
        "id": "c749fe6c"
      },
      "source": [
        "### **4.1 Identifying and removing web-url from the texts**\n",
        "\n",
        ">In removing web_url we use regular expressions. Regular Expressions, also known as “regex” or “regexp”, are used to match strings of text such as particular characters, words, or patterns of characters. They aid in matching and extracting any string pattern from the text. We write a function called *delete_url* that uses regex to identify web-url in a column and remove the same from the column."
      ]
    },
    {
      "cell_type": "code",
      "execution_count": 4,
      "metadata": {
        "id": "9e4c3185",
        "colab": {
          "base_uri": "https://localhost:8080/",
          "height": 206
        },
        "outputId": "068e96af-41e9-4d0d-a04f-6dea299bca35"
      },
      "outputs": [
        {
          "output_type": "execute_result",
          "data": {
            "text/plain": [
              "   index                                               text\n",
              "0      1  Mmasepala, fa maemo a a kgethegileng a letlele...\n",
              "1      2  Uzakwaziswa ngokufaneleko nakungafuneka eminye...\n",
              "2      3         Tshivhumbeo tshi fana na ngano dza vhathu.\n",
              "3      4  Kube inja nelikati betingevakala kutsi titsini...\n",
              "4      5                      Winste op buitelandse valuta."
            ],
            "text/html": [
              "\n",
              "  <div id=\"df-c8e46c3b-ba17-43ec-92e0-bbf85eed01fd\">\n",
              "    <div class=\"colab-df-container\">\n",
              "      <div>\n",
              "<style scoped>\n",
              "    .dataframe tbody tr th:only-of-type {\n",
              "        vertical-align: middle;\n",
              "    }\n",
              "\n",
              "    .dataframe tbody tr th {\n",
              "        vertical-align: top;\n",
              "    }\n",
              "\n",
              "    .dataframe thead th {\n",
              "        text-align: right;\n",
              "    }\n",
              "</style>\n",
              "<table border=\"1\" class=\"dataframe\">\n",
              "  <thead>\n",
              "    <tr style=\"text-align: right;\">\n",
              "      <th></th>\n",
              "      <th>index</th>\n",
              "      <th>text</th>\n",
              "    </tr>\n",
              "  </thead>\n",
              "  <tbody>\n",
              "    <tr>\n",
              "      <th>0</th>\n",
              "      <td>1</td>\n",
              "      <td>Mmasepala, fa maemo a a kgethegileng a letlele...</td>\n",
              "    </tr>\n",
              "    <tr>\n",
              "      <th>1</th>\n",
              "      <td>2</td>\n",
              "      <td>Uzakwaziswa ngokufaneleko nakungafuneka eminye...</td>\n",
              "    </tr>\n",
              "    <tr>\n",
              "      <th>2</th>\n",
              "      <td>3</td>\n",
              "      <td>Tshivhumbeo tshi fana na ngano dza vhathu.</td>\n",
              "    </tr>\n",
              "    <tr>\n",
              "      <th>3</th>\n",
              "      <td>4</td>\n",
              "      <td>Kube inja nelikati betingevakala kutsi titsini...</td>\n",
              "    </tr>\n",
              "    <tr>\n",
              "      <th>4</th>\n",
              "      <td>5</td>\n",
              "      <td>Winste op buitelandse valuta.</td>\n",
              "    </tr>\n",
              "  </tbody>\n",
              "</table>\n",
              "</div>\n",
              "      <button class=\"colab-df-convert\" onclick=\"convertToInteractive('df-c8e46c3b-ba17-43ec-92e0-bbf85eed01fd')\"\n",
              "              title=\"Convert this dataframe to an interactive table.\"\n",
              "              style=\"display:none;\">\n",
              "        \n",
              "  <svg xmlns=\"http://www.w3.org/2000/svg\" height=\"24px\"viewBox=\"0 0 24 24\"\n",
              "       width=\"24px\">\n",
              "    <path d=\"M0 0h24v24H0V0z\" fill=\"none\"/>\n",
              "    <path d=\"M18.56 5.44l.94 2.06.94-2.06 2.06-.94-2.06-.94-.94-2.06-.94 2.06-2.06.94zm-11 1L8.5 8.5l.94-2.06 2.06-.94-2.06-.94L8.5 2.5l-.94 2.06-2.06.94zm10 10l.94 2.06.94-2.06 2.06-.94-2.06-.94-.94-2.06-.94 2.06-2.06.94z\"/><path d=\"M17.41 7.96l-1.37-1.37c-.4-.4-.92-.59-1.43-.59-.52 0-1.04.2-1.43.59L10.3 9.45l-7.72 7.72c-.78.78-.78 2.05 0 2.83L4 21.41c.39.39.9.59 1.41.59.51 0 1.02-.2 1.41-.59l7.78-7.78 2.81-2.81c.8-.78.8-2.07 0-2.86zM5.41 20L4 18.59l7.72-7.72 1.47 1.35L5.41 20z\"/>\n",
              "  </svg>\n",
              "      </button>\n",
              "      \n",
              "  <style>\n",
              "    .colab-df-container {\n",
              "      display:flex;\n",
              "      flex-wrap:wrap;\n",
              "      gap: 12px;\n",
              "    }\n",
              "\n",
              "    .colab-df-convert {\n",
              "      background-color: #E8F0FE;\n",
              "      border: none;\n",
              "      border-radius: 50%;\n",
              "      cursor: pointer;\n",
              "      display: none;\n",
              "      fill: #1967D2;\n",
              "      height: 32px;\n",
              "      padding: 0 0 0 0;\n",
              "      width: 32px;\n",
              "    }\n",
              "\n",
              "    .colab-df-convert:hover {\n",
              "      background-color: #E2EBFA;\n",
              "      box-shadow: 0px 1px 2px rgba(60, 64, 67, 0.3), 0px 1px 3px 1px rgba(60, 64, 67, 0.15);\n",
              "      fill: #174EA6;\n",
              "    }\n",
              "\n",
              "    [theme=dark] .colab-df-convert {\n",
              "      background-color: #3B4455;\n",
              "      fill: #D2E3FC;\n",
              "    }\n",
              "\n",
              "    [theme=dark] .colab-df-convert:hover {\n",
              "      background-color: #434B5C;\n",
              "      box-shadow: 0px 1px 3px 1px rgba(0, 0, 0, 0.15);\n",
              "      filter: drop-shadow(0px 1px 2px rgba(0, 0, 0, 0.3));\n",
              "      fill: #FFFFFF;\n",
              "    }\n",
              "  </style>\n",
              "\n",
              "      <script>\n",
              "        const buttonEl =\n",
              "          document.querySelector('#df-c8e46c3b-ba17-43ec-92e0-bbf85eed01fd button.colab-df-convert');\n",
              "        buttonEl.style.display =\n",
              "          google.colab.kernel.accessAllowed ? 'block' : 'none';\n",
              "\n",
              "        async function convertToInteractive(key) {\n",
              "          const element = document.querySelector('#df-c8e46c3b-ba17-43ec-92e0-bbf85eed01fd');\n",
              "          const dataTable =\n",
              "            await google.colab.kernel.invokeFunction('convertToInteractive',\n",
              "                                                     [key], {});\n",
              "          if (!dataTable) return;\n",
              "\n",
              "          const docLinkHtml = 'Like what you see? Visit the ' +\n",
              "            '<a target=\"_blank\" href=https://colab.research.google.com/notebooks/data_table.ipynb>data table notebook</a>'\n",
              "            + ' to learn more about interactive tables.';\n",
              "          element.innerHTML = '';\n",
              "          dataTable['output_type'] = 'display_data';\n",
              "          await google.colab.output.renderOutput(dataTable, element);\n",
              "          const docLink = document.createElement('div');\n",
              "          docLink.innerHTML = docLinkHtml;\n",
              "          element.appendChild(docLink);\n",
              "        }\n",
              "      </script>\n",
              "    </div>\n",
              "  </div>\n",
              "  "
            ]
          },
          "metadata": {},
          "execution_count": 4
        }
      ],
      "source": [
        "def delete_url(data, col):\n",
        "    \"\"\"\n",
        "        Accepts a dataframe and col., removes web urls from the col.\n",
        "        returns a new dataframe \n",
        "    \"\"\"\n",
        "    df = data.copy()\n",
        "    pattern_url = r'http[s]?://(?:[A-Za-z]|[0-9]|[$-_@.&+]|[!*\\(\\),]|(?:%[0-9A-Fa-f][0-9A-Fa-f]))+'\n",
        "    subs_url = ''\n",
        "    df[col] = df[col].replace(to_replace = pattern_url, value = subs_url, regex = True)\n",
        "    return df\n",
        "\n",
        "# Create a new train and test dataframe with the text column void of url links\n",
        "new_df_train = delete_url(df_train, 'text')\n",
        "new_df_test = delete_url(df_test, 'text')\n",
        "new_df_test.head()"
      ]
    },
    {
      "cell_type": "markdown",
      "metadata": {
        "id": "1544ab11"
      },
      "source": [
        "### **4.2 Identifying and removing words starting with # and @**\n",
        "\n",
        "> We write a function *delete_tags*, to identify and remove words starting with '#' and '@' using regex."
      ]
    },
    {
      "cell_type": "code",
      "execution_count": 5,
      "metadata": {
        "id": "3769e0a9",
        "colab": {
          "base_uri": "https://localhost:8080/",
          "height": 206
        },
        "outputId": "5799175c-ae49-4677-eccf-7a9291ae4200"
      },
      "outputs": [
        {
          "output_type": "execute_result",
          "data": {
            "text/plain": [
              "   index                                               text\n",
              "0      1  Mmasepala, fa maemo a a kgethegileng a letlele...\n",
              "1      2  Uzakwaziswa ngokufaneleko nakungafuneka eminye...\n",
              "2      3         Tshivhumbeo tshi fana na ngano dza vhathu.\n",
              "3      4  Kube inja nelikati betingevakala kutsi titsini...\n",
              "4      5                      Winste op buitelandse valuta."
            ],
            "text/html": [
              "\n",
              "  <div id=\"df-feb156ac-3993-4c30-a940-fd049c9a7dfd\">\n",
              "    <div class=\"colab-df-container\">\n",
              "      <div>\n",
              "<style scoped>\n",
              "    .dataframe tbody tr th:only-of-type {\n",
              "        vertical-align: middle;\n",
              "    }\n",
              "\n",
              "    .dataframe tbody tr th {\n",
              "        vertical-align: top;\n",
              "    }\n",
              "\n",
              "    .dataframe thead th {\n",
              "        text-align: right;\n",
              "    }\n",
              "</style>\n",
              "<table border=\"1\" class=\"dataframe\">\n",
              "  <thead>\n",
              "    <tr style=\"text-align: right;\">\n",
              "      <th></th>\n",
              "      <th>index</th>\n",
              "      <th>text</th>\n",
              "    </tr>\n",
              "  </thead>\n",
              "  <tbody>\n",
              "    <tr>\n",
              "      <th>0</th>\n",
              "      <td>1</td>\n",
              "      <td>Mmasepala, fa maemo a a kgethegileng a letlele...</td>\n",
              "    </tr>\n",
              "    <tr>\n",
              "      <th>1</th>\n",
              "      <td>2</td>\n",
              "      <td>Uzakwaziswa ngokufaneleko nakungafuneka eminye...</td>\n",
              "    </tr>\n",
              "    <tr>\n",
              "      <th>2</th>\n",
              "      <td>3</td>\n",
              "      <td>Tshivhumbeo tshi fana na ngano dza vhathu.</td>\n",
              "    </tr>\n",
              "    <tr>\n",
              "      <th>3</th>\n",
              "      <td>4</td>\n",
              "      <td>Kube inja nelikati betingevakala kutsi titsini...</td>\n",
              "    </tr>\n",
              "    <tr>\n",
              "      <th>4</th>\n",
              "      <td>5</td>\n",
              "      <td>Winste op buitelandse valuta.</td>\n",
              "    </tr>\n",
              "  </tbody>\n",
              "</table>\n",
              "</div>\n",
              "      <button class=\"colab-df-convert\" onclick=\"convertToInteractive('df-feb156ac-3993-4c30-a940-fd049c9a7dfd')\"\n",
              "              title=\"Convert this dataframe to an interactive table.\"\n",
              "              style=\"display:none;\">\n",
              "        \n",
              "  <svg xmlns=\"http://www.w3.org/2000/svg\" height=\"24px\"viewBox=\"0 0 24 24\"\n",
              "       width=\"24px\">\n",
              "    <path d=\"M0 0h24v24H0V0z\" fill=\"none\"/>\n",
              "    <path d=\"M18.56 5.44l.94 2.06.94-2.06 2.06-.94-2.06-.94-.94-2.06-.94 2.06-2.06.94zm-11 1L8.5 8.5l.94-2.06 2.06-.94-2.06-.94L8.5 2.5l-.94 2.06-2.06.94zm10 10l.94 2.06.94-2.06 2.06-.94-2.06-.94-.94-2.06-.94 2.06-2.06.94z\"/><path d=\"M17.41 7.96l-1.37-1.37c-.4-.4-.92-.59-1.43-.59-.52 0-1.04.2-1.43.59L10.3 9.45l-7.72 7.72c-.78.78-.78 2.05 0 2.83L4 21.41c.39.39.9.59 1.41.59.51 0 1.02-.2 1.41-.59l7.78-7.78 2.81-2.81c.8-.78.8-2.07 0-2.86zM5.41 20L4 18.59l7.72-7.72 1.47 1.35L5.41 20z\"/>\n",
              "  </svg>\n",
              "      </button>\n",
              "      \n",
              "  <style>\n",
              "    .colab-df-container {\n",
              "      display:flex;\n",
              "      flex-wrap:wrap;\n",
              "      gap: 12px;\n",
              "    }\n",
              "\n",
              "    .colab-df-convert {\n",
              "      background-color: #E8F0FE;\n",
              "      border: none;\n",
              "      border-radius: 50%;\n",
              "      cursor: pointer;\n",
              "      display: none;\n",
              "      fill: #1967D2;\n",
              "      height: 32px;\n",
              "      padding: 0 0 0 0;\n",
              "      width: 32px;\n",
              "    }\n",
              "\n",
              "    .colab-df-convert:hover {\n",
              "      background-color: #E2EBFA;\n",
              "      box-shadow: 0px 1px 2px rgba(60, 64, 67, 0.3), 0px 1px 3px 1px rgba(60, 64, 67, 0.15);\n",
              "      fill: #174EA6;\n",
              "    }\n",
              "\n",
              "    [theme=dark] .colab-df-convert {\n",
              "      background-color: #3B4455;\n",
              "      fill: #D2E3FC;\n",
              "    }\n",
              "\n",
              "    [theme=dark] .colab-df-convert:hover {\n",
              "      background-color: #434B5C;\n",
              "      box-shadow: 0px 1px 3px 1px rgba(0, 0, 0, 0.15);\n",
              "      filter: drop-shadow(0px 1px 2px rgba(0, 0, 0, 0.3));\n",
              "      fill: #FFFFFF;\n",
              "    }\n",
              "  </style>\n",
              "\n",
              "      <script>\n",
              "        const buttonEl =\n",
              "          document.querySelector('#df-feb156ac-3993-4c30-a940-fd049c9a7dfd button.colab-df-convert');\n",
              "        buttonEl.style.display =\n",
              "          google.colab.kernel.accessAllowed ? 'block' : 'none';\n",
              "\n",
              "        async function convertToInteractive(key) {\n",
              "          const element = document.querySelector('#df-feb156ac-3993-4c30-a940-fd049c9a7dfd');\n",
              "          const dataTable =\n",
              "            await google.colab.kernel.invokeFunction('convertToInteractive',\n",
              "                                                     [key], {});\n",
              "          if (!dataTable) return;\n",
              "\n",
              "          const docLinkHtml = 'Like what you see? Visit the ' +\n",
              "            '<a target=\"_blank\" href=https://colab.research.google.com/notebooks/data_table.ipynb>data table notebook</a>'\n",
              "            + ' to learn more about interactive tables.';\n",
              "          element.innerHTML = '';\n",
              "          dataTable['output_type'] = 'display_data';\n",
              "          await google.colab.output.renderOutput(dataTable, element);\n",
              "          const docLink = document.createElement('div');\n",
              "          docLink.innerHTML = docLinkHtml;\n",
              "          element.appendChild(docLink);\n",
              "        }\n",
              "      </script>\n",
              "    </div>\n",
              "  </div>\n",
              "  "
            ]
          },
          "metadata": {},
          "execution_count": 5
        }
      ],
      "source": [
        "def delete_tags(data, col):\n",
        "    \"\"\"\n",
        "        This function takes in a dataframe and a column, removes all words started with '#' and '@' in the column,\n",
        "        and returns a new dataframe\n",
        "    \"\"\"\n",
        "    df = data.copy()\n",
        "    pattern_tags = r'#\\w+[#?]'\n",
        "    pattern_2 = r'@\\w+'\n",
        "    subs_tag = ''\n",
        "    df[col] = df[col].replace(to_replace = pattern_tags, value = subs_tag, regex = True)\n",
        "    df[col] = df[col].replace(to_replace = pattern_2, value = subs_tag, regex = True)\n",
        "    return df\n",
        "\n",
        "# Create a new train and test dataframe with the text column void of the # and @ tags \n",
        "new_df_train = delete_tags(new_df_train, 'text')\n",
        "new_df_test = delete_tags(new_df_test, 'text')\n",
        "new_df_test.head()    "
      ]
    },
    {
      "cell_type": "markdown",
      "metadata": {
        "id": "0430b33a"
      },
      "source": [
        "### **4.3 Convert capitalized words to lowercase** \n",
        "\n",
        "> We write a function *word_converter* to convert capitalized words to lowercase words using the string method .lower()."
      ]
    },
    {
      "cell_type": "code",
      "execution_count": 6,
      "metadata": {
        "id": "6fbaaab1",
        "colab": {
          "base_uri": "https://localhost:8080/",
          "height": 206
        },
        "outputId": "003cc3fe-b07c-4264-f154-efa09a1ebb99"
      },
      "outputs": [
        {
          "output_type": "execute_result",
          "data": {
            "text/plain": [
              "   index                                               text\n",
              "0      1  mmasepala, fa maemo a a kgethegileng a letlele...\n",
              "1      2  uzakwaziswa ngokufaneleko nakungafuneka eminye...\n",
              "2      3         tshivhumbeo tshi fana na ngano dza vhathu.\n",
              "3      4  kube inja nelikati betingevakala kutsi titsini...\n",
              "4      5                      winste op buitelandse valuta."
            ],
            "text/html": [
              "\n",
              "  <div id=\"df-9627bb25-6a5f-4a0b-aa83-9ba4b2bd7e0c\">\n",
              "    <div class=\"colab-df-container\">\n",
              "      <div>\n",
              "<style scoped>\n",
              "    .dataframe tbody tr th:only-of-type {\n",
              "        vertical-align: middle;\n",
              "    }\n",
              "\n",
              "    .dataframe tbody tr th {\n",
              "        vertical-align: top;\n",
              "    }\n",
              "\n",
              "    .dataframe thead th {\n",
              "        text-align: right;\n",
              "    }\n",
              "</style>\n",
              "<table border=\"1\" class=\"dataframe\">\n",
              "  <thead>\n",
              "    <tr style=\"text-align: right;\">\n",
              "      <th></th>\n",
              "      <th>index</th>\n",
              "      <th>text</th>\n",
              "    </tr>\n",
              "  </thead>\n",
              "  <tbody>\n",
              "    <tr>\n",
              "      <th>0</th>\n",
              "      <td>1</td>\n",
              "      <td>mmasepala, fa maemo a a kgethegileng a letlele...</td>\n",
              "    </tr>\n",
              "    <tr>\n",
              "      <th>1</th>\n",
              "      <td>2</td>\n",
              "      <td>uzakwaziswa ngokufaneleko nakungafuneka eminye...</td>\n",
              "    </tr>\n",
              "    <tr>\n",
              "      <th>2</th>\n",
              "      <td>3</td>\n",
              "      <td>tshivhumbeo tshi fana na ngano dza vhathu.</td>\n",
              "    </tr>\n",
              "    <tr>\n",
              "      <th>3</th>\n",
              "      <td>4</td>\n",
              "      <td>kube inja nelikati betingevakala kutsi titsini...</td>\n",
              "    </tr>\n",
              "    <tr>\n",
              "      <th>4</th>\n",
              "      <td>5</td>\n",
              "      <td>winste op buitelandse valuta.</td>\n",
              "    </tr>\n",
              "  </tbody>\n",
              "</table>\n",
              "</div>\n",
              "      <button class=\"colab-df-convert\" onclick=\"convertToInteractive('df-9627bb25-6a5f-4a0b-aa83-9ba4b2bd7e0c')\"\n",
              "              title=\"Convert this dataframe to an interactive table.\"\n",
              "              style=\"display:none;\">\n",
              "        \n",
              "  <svg xmlns=\"http://www.w3.org/2000/svg\" height=\"24px\"viewBox=\"0 0 24 24\"\n",
              "       width=\"24px\">\n",
              "    <path d=\"M0 0h24v24H0V0z\" fill=\"none\"/>\n",
              "    <path d=\"M18.56 5.44l.94 2.06.94-2.06 2.06-.94-2.06-.94-.94-2.06-.94 2.06-2.06.94zm-11 1L8.5 8.5l.94-2.06 2.06-.94-2.06-.94L8.5 2.5l-.94 2.06-2.06.94zm10 10l.94 2.06.94-2.06 2.06-.94-2.06-.94-.94-2.06-.94 2.06-2.06.94z\"/><path d=\"M17.41 7.96l-1.37-1.37c-.4-.4-.92-.59-1.43-.59-.52 0-1.04.2-1.43.59L10.3 9.45l-7.72 7.72c-.78.78-.78 2.05 0 2.83L4 21.41c.39.39.9.59 1.41.59.51 0 1.02-.2 1.41-.59l7.78-7.78 2.81-2.81c.8-.78.8-2.07 0-2.86zM5.41 20L4 18.59l7.72-7.72 1.47 1.35L5.41 20z\"/>\n",
              "  </svg>\n",
              "      </button>\n",
              "      \n",
              "  <style>\n",
              "    .colab-df-container {\n",
              "      display:flex;\n",
              "      flex-wrap:wrap;\n",
              "      gap: 12px;\n",
              "    }\n",
              "\n",
              "    .colab-df-convert {\n",
              "      background-color: #E8F0FE;\n",
              "      border: none;\n",
              "      border-radius: 50%;\n",
              "      cursor: pointer;\n",
              "      display: none;\n",
              "      fill: #1967D2;\n",
              "      height: 32px;\n",
              "      padding: 0 0 0 0;\n",
              "      width: 32px;\n",
              "    }\n",
              "\n",
              "    .colab-df-convert:hover {\n",
              "      background-color: #E2EBFA;\n",
              "      box-shadow: 0px 1px 2px rgba(60, 64, 67, 0.3), 0px 1px 3px 1px rgba(60, 64, 67, 0.15);\n",
              "      fill: #174EA6;\n",
              "    }\n",
              "\n",
              "    [theme=dark] .colab-df-convert {\n",
              "      background-color: #3B4455;\n",
              "      fill: #D2E3FC;\n",
              "    }\n",
              "\n",
              "    [theme=dark] .colab-df-convert:hover {\n",
              "      background-color: #434B5C;\n",
              "      box-shadow: 0px 1px 3px 1px rgba(0, 0, 0, 0.15);\n",
              "      filter: drop-shadow(0px 1px 2px rgba(0, 0, 0, 0.3));\n",
              "      fill: #FFFFFF;\n",
              "    }\n",
              "  </style>\n",
              "\n",
              "      <script>\n",
              "        const buttonEl =\n",
              "          document.querySelector('#df-9627bb25-6a5f-4a0b-aa83-9ba4b2bd7e0c button.colab-df-convert');\n",
              "        buttonEl.style.display =\n",
              "          google.colab.kernel.accessAllowed ? 'block' : 'none';\n",
              "\n",
              "        async function convertToInteractive(key) {\n",
              "          const element = document.querySelector('#df-9627bb25-6a5f-4a0b-aa83-9ba4b2bd7e0c');\n",
              "          const dataTable =\n",
              "            await google.colab.kernel.invokeFunction('convertToInteractive',\n",
              "                                                     [key], {});\n",
              "          if (!dataTable) return;\n",
              "\n",
              "          const docLinkHtml = 'Like what you see? Visit the ' +\n",
              "            '<a target=\"_blank\" href=https://colab.research.google.com/notebooks/data_table.ipynb>data table notebook</a>'\n",
              "            + ' to learn more about interactive tables.';\n",
              "          element.innerHTML = '';\n",
              "          dataTable['output_type'] = 'display_data';\n",
              "          await google.colab.output.renderOutput(dataTable, element);\n",
              "          const docLink = document.createElement('div');\n",
              "          docLink.innerHTML = docLinkHtml;\n",
              "          element.appendChild(docLink);\n",
              "        }\n",
              "      </script>\n",
              "    </div>\n",
              "  </div>\n",
              "  "
            ]
          },
          "metadata": {},
          "execution_count": 6
        }
      ],
      "source": [
        "def lower_case(data, col):\n",
        "    \"\"\"\n",
        "        This function takes in a dataframe and col, converts all capitalized words in the column to lowercase,\n",
        "        and returns a new dataframe.\n",
        "    \"\"\"\n",
        "    df = data.copy()\n",
        "    df[col] = df[col].str.lower()\n",
        "    return df\n",
        "\n",
        "# Create a new dataframe with all words in the message column converted to its lowercase form\n",
        "new_df_train = lower_case(new_df_train, 'text')\n",
        "new_df_test = lower_case(new_df_test, 'text')\n",
        "new_df_test.head()"
      ]
    },
    {
      "cell_type": "markdown",
      "metadata": {
        "id": "d477c40c"
      },
      "source": [
        "### **4.4 Remove punctuations**\n",
        "\n",
        "> We write a function *remove_punc* that uses the string package from python to remove punctuations."
      ]
    },
    {
      "cell_type": "code",
      "execution_count": 7,
      "metadata": {
        "id": "e7a1047f",
        "colab": {
          "base_uri": "https://localhost:8080/",
          "height": 206
        },
        "outputId": "e87d4111-d78d-4614-dbfc-6307e0376aab"
      },
      "outputs": [
        {
          "output_type": "execute_result",
          "data": {
            "text/plain": [
              "   index                                               text\n",
              "0      1  mmasepala fa maemo a a kgethegileng a letlelel...\n",
              "1      2  uzakwaziswa ngokufaneleko nakungafuneka eminye...\n",
              "2      3          tshivhumbeo tshi fana na ngano dza vhathu\n",
              "3      4  kube inja nelikati betingevakala kutsi titsini...\n",
              "4      5                       winste op buitelandse valuta"
            ],
            "text/html": [
              "\n",
              "  <div id=\"df-ab02bc7d-5cac-49af-bbd8-956616ece9e4\">\n",
              "    <div class=\"colab-df-container\">\n",
              "      <div>\n",
              "<style scoped>\n",
              "    .dataframe tbody tr th:only-of-type {\n",
              "        vertical-align: middle;\n",
              "    }\n",
              "\n",
              "    .dataframe tbody tr th {\n",
              "        vertical-align: top;\n",
              "    }\n",
              "\n",
              "    .dataframe thead th {\n",
              "        text-align: right;\n",
              "    }\n",
              "</style>\n",
              "<table border=\"1\" class=\"dataframe\">\n",
              "  <thead>\n",
              "    <tr style=\"text-align: right;\">\n",
              "      <th></th>\n",
              "      <th>index</th>\n",
              "      <th>text</th>\n",
              "    </tr>\n",
              "  </thead>\n",
              "  <tbody>\n",
              "    <tr>\n",
              "      <th>0</th>\n",
              "      <td>1</td>\n",
              "      <td>mmasepala fa maemo a a kgethegileng a letlelel...</td>\n",
              "    </tr>\n",
              "    <tr>\n",
              "      <th>1</th>\n",
              "      <td>2</td>\n",
              "      <td>uzakwaziswa ngokufaneleko nakungafuneka eminye...</td>\n",
              "    </tr>\n",
              "    <tr>\n",
              "      <th>2</th>\n",
              "      <td>3</td>\n",
              "      <td>tshivhumbeo tshi fana na ngano dza vhathu</td>\n",
              "    </tr>\n",
              "    <tr>\n",
              "      <th>3</th>\n",
              "      <td>4</td>\n",
              "      <td>kube inja nelikati betingevakala kutsi titsini...</td>\n",
              "    </tr>\n",
              "    <tr>\n",
              "      <th>4</th>\n",
              "      <td>5</td>\n",
              "      <td>winste op buitelandse valuta</td>\n",
              "    </tr>\n",
              "  </tbody>\n",
              "</table>\n",
              "</div>\n",
              "      <button class=\"colab-df-convert\" onclick=\"convertToInteractive('df-ab02bc7d-5cac-49af-bbd8-956616ece9e4')\"\n",
              "              title=\"Convert this dataframe to an interactive table.\"\n",
              "              style=\"display:none;\">\n",
              "        \n",
              "  <svg xmlns=\"http://www.w3.org/2000/svg\" height=\"24px\"viewBox=\"0 0 24 24\"\n",
              "       width=\"24px\">\n",
              "    <path d=\"M0 0h24v24H0V0z\" fill=\"none\"/>\n",
              "    <path d=\"M18.56 5.44l.94 2.06.94-2.06 2.06-.94-2.06-.94-.94-2.06-.94 2.06-2.06.94zm-11 1L8.5 8.5l.94-2.06 2.06-.94-2.06-.94L8.5 2.5l-.94 2.06-2.06.94zm10 10l.94 2.06.94-2.06 2.06-.94-2.06-.94-.94-2.06-.94 2.06-2.06.94z\"/><path d=\"M17.41 7.96l-1.37-1.37c-.4-.4-.92-.59-1.43-.59-.52 0-1.04.2-1.43.59L10.3 9.45l-7.72 7.72c-.78.78-.78 2.05 0 2.83L4 21.41c.39.39.9.59 1.41.59.51 0 1.02-.2 1.41-.59l7.78-7.78 2.81-2.81c.8-.78.8-2.07 0-2.86zM5.41 20L4 18.59l7.72-7.72 1.47 1.35L5.41 20z\"/>\n",
              "  </svg>\n",
              "      </button>\n",
              "      \n",
              "  <style>\n",
              "    .colab-df-container {\n",
              "      display:flex;\n",
              "      flex-wrap:wrap;\n",
              "      gap: 12px;\n",
              "    }\n",
              "\n",
              "    .colab-df-convert {\n",
              "      background-color: #E8F0FE;\n",
              "      border: none;\n",
              "      border-radius: 50%;\n",
              "      cursor: pointer;\n",
              "      display: none;\n",
              "      fill: #1967D2;\n",
              "      height: 32px;\n",
              "      padding: 0 0 0 0;\n",
              "      width: 32px;\n",
              "    }\n",
              "\n",
              "    .colab-df-convert:hover {\n",
              "      background-color: #E2EBFA;\n",
              "      box-shadow: 0px 1px 2px rgba(60, 64, 67, 0.3), 0px 1px 3px 1px rgba(60, 64, 67, 0.15);\n",
              "      fill: #174EA6;\n",
              "    }\n",
              "\n",
              "    [theme=dark] .colab-df-convert {\n",
              "      background-color: #3B4455;\n",
              "      fill: #D2E3FC;\n",
              "    }\n",
              "\n",
              "    [theme=dark] .colab-df-convert:hover {\n",
              "      background-color: #434B5C;\n",
              "      box-shadow: 0px 1px 3px 1px rgba(0, 0, 0, 0.15);\n",
              "      filter: drop-shadow(0px 1px 2px rgba(0, 0, 0, 0.3));\n",
              "      fill: #FFFFFF;\n",
              "    }\n",
              "  </style>\n",
              "\n",
              "      <script>\n",
              "        const buttonEl =\n",
              "          document.querySelector('#df-ab02bc7d-5cac-49af-bbd8-956616ece9e4 button.colab-df-convert');\n",
              "        buttonEl.style.display =\n",
              "          google.colab.kernel.accessAllowed ? 'block' : 'none';\n",
              "\n",
              "        async function convertToInteractive(key) {\n",
              "          const element = document.querySelector('#df-ab02bc7d-5cac-49af-bbd8-956616ece9e4');\n",
              "          const dataTable =\n",
              "            await google.colab.kernel.invokeFunction('convertToInteractive',\n",
              "                                                     [key], {});\n",
              "          if (!dataTable) return;\n",
              "\n",
              "          const docLinkHtml = 'Like what you see? Visit the ' +\n",
              "            '<a target=\"_blank\" href=https://colab.research.google.com/notebooks/data_table.ipynb>data table notebook</a>'\n",
              "            + ' to learn more about interactive tables.';\n",
              "          element.innerHTML = '';\n",
              "          dataTable['output_type'] = 'display_data';\n",
              "          await google.colab.output.renderOutput(dataTable, element);\n",
              "          const docLink = document.createElement('div');\n",
              "          docLink.innerHTML = docLinkHtml;\n",
              "          element.appendChild(docLink);\n",
              "        }\n",
              "      </script>\n",
              "    </div>\n",
              "  </div>\n",
              "  "
            ]
          },
          "metadata": {},
          "execution_count": 7
        }
      ],
      "source": [
        "def remove_punctuations(data, col):\n",
        "    \"\"\"\n",
        "        This function takes in a dataframe and a column, uses python string package to identify and remove all\n",
        "        punctions in the column. It returns a new dataframe\n",
        "    \"\"\"\n",
        "    def operation(post):\n",
        "        return ''.join([l for l in post if l not in string.punctuation])\n",
        "    \n",
        "    df = data.copy()\n",
        "    \n",
        "    df[col] = df[col].apply(operation)\n",
        "    return df\n",
        "\n",
        "# Create a new train and test dataframe with the text column void of punctuations\n",
        "new_df_train = remove_punctuations(new_df_train, 'text')\n",
        "new_df_test = remove_punctuations(new_df_test, 'text')\n",
        "new_df_test.head()"
      ]
    },
    {
      "cell_type": "markdown",
      "metadata": {
        "id": "6c3cc402"
      },
      "source": [
        "### **4.5 Remove new lines (\\n) from the start of any words**\n",
        "\n",
        "> Some words too start with '\\n' and this is a short form for new line in programming. Words started with '\\n' lose their original meaning. Hence, we write a function *remove_new_line* to remove these new lines. "
      ]
    },
    {
      "cell_type": "code",
      "execution_count": 8,
      "metadata": {
        "id": "a2572124",
        "colab": {
          "base_uri": "https://localhost:8080/",
          "height": 206
        },
        "outputId": "03ccf986-827e-49dd-f440-68d24b6f72fd"
      },
      "outputs": [
        {
          "output_type": "execute_result",
          "data": {
            "text/plain": [
              "   index                                               text\n",
              "0      1  mmasepala fa maemo a a kgethegileng a letlelel...\n",
              "1      2  uzakwaziswa ngokufaneleko nakungafuneka eminye...\n",
              "2      3          tshivhumbeo tshi fana na ngano dza vhathu\n",
              "3      4  kube inja nelikati betingevakala kutsi titsini...\n",
              "4      5                       winste op buitelandse valuta"
            ],
            "text/html": [
              "\n",
              "  <div id=\"df-9a8ddd65-499d-4606-964f-4cf71c9e7241\">\n",
              "    <div class=\"colab-df-container\">\n",
              "      <div>\n",
              "<style scoped>\n",
              "    .dataframe tbody tr th:only-of-type {\n",
              "        vertical-align: middle;\n",
              "    }\n",
              "\n",
              "    .dataframe tbody tr th {\n",
              "        vertical-align: top;\n",
              "    }\n",
              "\n",
              "    .dataframe thead th {\n",
              "        text-align: right;\n",
              "    }\n",
              "</style>\n",
              "<table border=\"1\" class=\"dataframe\">\n",
              "  <thead>\n",
              "    <tr style=\"text-align: right;\">\n",
              "      <th></th>\n",
              "      <th>index</th>\n",
              "      <th>text</th>\n",
              "    </tr>\n",
              "  </thead>\n",
              "  <tbody>\n",
              "    <tr>\n",
              "      <th>0</th>\n",
              "      <td>1</td>\n",
              "      <td>mmasepala fa maemo a a kgethegileng a letlelel...</td>\n",
              "    </tr>\n",
              "    <tr>\n",
              "      <th>1</th>\n",
              "      <td>2</td>\n",
              "      <td>uzakwaziswa ngokufaneleko nakungafuneka eminye...</td>\n",
              "    </tr>\n",
              "    <tr>\n",
              "      <th>2</th>\n",
              "      <td>3</td>\n",
              "      <td>tshivhumbeo tshi fana na ngano dza vhathu</td>\n",
              "    </tr>\n",
              "    <tr>\n",
              "      <th>3</th>\n",
              "      <td>4</td>\n",
              "      <td>kube inja nelikati betingevakala kutsi titsini...</td>\n",
              "    </tr>\n",
              "    <tr>\n",
              "      <th>4</th>\n",
              "      <td>5</td>\n",
              "      <td>winste op buitelandse valuta</td>\n",
              "    </tr>\n",
              "  </tbody>\n",
              "</table>\n",
              "</div>\n",
              "      <button class=\"colab-df-convert\" onclick=\"convertToInteractive('df-9a8ddd65-499d-4606-964f-4cf71c9e7241')\"\n",
              "              title=\"Convert this dataframe to an interactive table.\"\n",
              "              style=\"display:none;\">\n",
              "        \n",
              "  <svg xmlns=\"http://www.w3.org/2000/svg\" height=\"24px\"viewBox=\"0 0 24 24\"\n",
              "       width=\"24px\">\n",
              "    <path d=\"M0 0h24v24H0V0z\" fill=\"none\"/>\n",
              "    <path d=\"M18.56 5.44l.94 2.06.94-2.06 2.06-.94-2.06-.94-.94-2.06-.94 2.06-2.06.94zm-11 1L8.5 8.5l.94-2.06 2.06-.94-2.06-.94L8.5 2.5l-.94 2.06-2.06.94zm10 10l.94 2.06.94-2.06 2.06-.94-2.06-.94-.94-2.06-.94 2.06-2.06.94z\"/><path d=\"M17.41 7.96l-1.37-1.37c-.4-.4-.92-.59-1.43-.59-.52 0-1.04.2-1.43.59L10.3 9.45l-7.72 7.72c-.78.78-.78 2.05 0 2.83L4 21.41c.39.39.9.59 1.41.59.51 0 1.02-.2 1.41-.59l7.78-7.78 2.81-2.81c.8-.78.8-2.07 0-2.86zM5.41 20L4 18.59l7.72-7.72 1.47 1.35L5.41 20z\"/>\n",
              "  </svg>\n",
              "      </button>\n",
              "      \n",
              "  <style>\n",
              "    .colab-df-container {\n",
              "      display:flex;\n",
              "      flex-wrap:wrap;\n",
              "      gap: 12px;\n",
              "    }\n",
              "\n",
              "    .colab-df-convert {\n",
              "      background-color: #E8F0FE;\n",
              "      border: none;\n",
              "      border-radius: 50%;\n",
              "      cursor: pointer;\n",
              "      display: none;\n",
              "      fill: #1967D2;\n",
              "      height: 32px;\n",
              "      padding: 0 0 0 0;\n",
              "      width: 32px;\n",
              "    }\n",
              "\n",
              "    .colab-df-convert:hover {\n",
              "      background-color: #E2EBFA;\n",
              "      box-shadow: 0px 1px 2px rgba(60, 64, 67, 0.3), 0px 1px 3px 1px rgba(60, 64, 67, 0.15);\n",
              "      fill: #174EA6;\n",
              "    }\n",
              "\n",
              "    [theme=dark] .colab-df-convert {\n",
              "      background-color: #3B4455;\n",
              "      fill: #D2E3FC;\n",
              "    }\n",
              "\n",
              "    [theme=dark] .colab-df-convert:hover {\n",
              "      background-color: #434B5C;\n",
              "      box-shadow: 0px 1px 3px 1px rgba(0, 0, 0, 0.15);\n",
              "      filter: drop-shadow(0px 1px 2px rgba(0, 0, 0, 0.3));\n",
              "      fill: #FFFFFF;\n",
              "    }\n",
              "  </style>\n",
              "\n",
              "      <script>\n",
              "        const buttonEl =\n",
              "          document.querySelector('#df-9a8ddd65-499d-4606-964f-4cf71c9e7241 button.colab-df-convert');\n",
              "        buttonEl.style.display =\n",
              "          google.colab.kernel.accessAllowed ? 'block' : 'none';\n",
              "\n",
              "        async function convertToInteractive(key) {\n",
              "          const element = document.querySelector('#df-9a8ddd65-499d-4606-964f-4cf71c9e7241');\n",
              "          const dataTable =\n",
              "            await google.colab.kernel.invokeFunction('convertToInteractive',\n",
              "                                                     [key], {});\n",
              "          if (!dataTable) return;\n",
              "\n",
              "          const docLinkHtml = 'Like what you see? Visit the ' +\n",
              "            '<a target=\"_blank\" href=https://colab.research.google.com/notebooks/data_table.ipynb>data table notebook</a>'\n",
              "            + ' to learn more about interactive tables.';\n",
              "          element.innerHTML = '';\n",
              "          dataTable['output_type'] = 'display_data';\n",
              "          await google.colab.output.renderOutput(dataTable, element);\n",
              "          const docLink = document.createElement('div');\n",
              "          docLink.innerHTML = docLinkHtml;\n",
              "          element.appendChild(docLink);\n",
              "        }\n",
              "      </script>\n",
              "    </div>\n",
              "  </div>\n",
              "  "
            ]
          },
          "metadata": {},
          "execution_count": 8
        }
      ],
      "source": [
        "def remove_new_lines(data, col):\n",
        "    \"\"\"\n",
        "        Takes in a dataframe and a column, returns a new dataframe with a new column void of new line command\n",
        "    \"\"\"\n",
        "\n",
        "    def operation(text):\n",
        "        result = re.sub(\"\\n\", \"\", text)\n",
        "        result = re.sub(\"rt\", \"\", result)\n",
        "        return result\n",
        "\n",
        "    df = data.copy()\n",
        "    \n",
        "    df[col] = df[col].apply(operation)\n",
        "\n",
        "    return df\n",
        "\n",
        "# Create a new train and test dataframe with the text column void of new lines\n",
        "new_df_train = remove_new_lines(new_df_train, 'text')\n",
        "new_df_test = remove_new_lines(new_df_test, 'text')\n",
        "new_df_test.head()"
      ]
    },
    {
      "cell_type": "markdown",
      "metadata": {
        "id": "bfe44dba"
      },
      "source": [
        "### **4.6 Tokenization process**\n",
        "> Tokenization refers to splitting up a larger body of text into individual words. We write a function *tokenizer* to tokenize the words in the message column and store same in a new column named *message_tok*"
      ]
    },
    {
      "cell_type": "code",
      "execution_count": 9,
      "metadata": {
        "id": "e1b80405",
        "colab": {
          "base_uri": "https://localhost:8080/",
          "height": 206
        },
        "outputId": "bffd9693-e7a6-4713-a082-bfb69cfd6f0c"
      },
      "outputs": [
        {
          "output_type": "execute_result",
          "data": {
            "text/plain": [
              "   index                                               text\n",
              "0      1  [mmasepala, fa, maemo, a, a, kgethegileng, a, ...\n",
              "1      2  [uzakwaziswa, ngokufaneleko, nakungafuneka, em...\n",
              "2      3  [tshivhumbeo, tshi, fana, na, ngano, dza, vhathu]\n",
              "3      4  [kube, inja, nelikati, betingevakala, kutsi, t...\n",
              "4      5                  [winste, op, buitelandse, valuta]"
            ],
            "text/html": [
              "\n",
              "  <div id=\"df-d22f8409-cad3-4ea3-b707-988e542620ab\">\n",
              "    <div class=\"colab-df-container\">\n",
              "      <div>\n",
              "<style scoped>\n",
              "    .dataframe tbody tr th:only-of-type {\n",
              "        vertical-align: middle;\n",
              "    }\n",
              "\n",
              "    .dataframe tbody tr th {\n",
              "        vertical-align: top;\n",
              "    }\n",
              "\n",
              "    .dataframe thead th {\n",
              "        text-align: right;\n",
              "    }\n",
              "</style>\n",
              "<table border=\"1\" class=\"dataframe\">\n",
              "  <thead>\n",
              "    <tr style=\"text-align: right;\">\n",
              "      <th></th>\n",
              "      <th>index</th>\n",
              "      <th>text</th>\n",
              "    </tr>\n",
              "  </thead>\n",
              "  <tbody>\n",
              "    <tr>\n",
              "      <th>0</th>\n",
              "      <td>1</td>\n",
              "      <td>[mmasepala, fa, maemo, a, a, kgethegileng, a, ...</td>\n",
              "    </tr>\n",
              "    <tr>\n",
              "      <th>1</th>\n",
              "      <td>2</td>\n",
              "      <td>[uzakwaziswa, ngokufaneleko, nakungafuneka, em...</td>\n",
              "    </tr>\n",
              "    <tr>\n",
              "      <th>2</th>\n",
              "      <td>3</td>\n",
              "      <td>[tshivhumbeo, tshi, fana, na, ngano, dza, vhathu]</td>\n",
              "    </tr>\n",
              "    <tr>\n",
              "      <th>3</th>\n",
              "      <td>4</td>\n",
              "      <td>[kube, inja, nelikati, betingevakala, kutsi, t...</td>\n",
              "    </tr>\n",
              "    <tr>\n",
              "      <th>4</th>\n",
              "      <td>5</td>\n",
              "      <td>[winste, op, buitelandse, valuta]</td>\n",
              "    </tr>\n",
              "  </tbody>\n",
              "</table>\n",
              "</div>\n",
              "      <button class=\"colab-df-convert\" onclick=\"convertToInteractive('df-d22f8409-cad3-4ea3-b707-988e542620ab')\"\n",
              "              title=\"Convert this dataframe to an interactive table.\"\n",
              "              style=\"display:none;\">\n",
              "        \n",
              "  <svg xmlns=\"http://www.w3.org/2000/svg\" height=\"24px\"viewBox=\"0 0 24 24\"\n",
              "       width=\"24px\">\n",
              "    <path d=\"M0 0h24v24H0V0z\" fill=\"none\"/>\n",
              "    <path d=\"M18.56 5.44l.94 2.06.94-2.06 2.06-.94-2.06-.94-.94-2.06-.94 2.06-2.06.94zm-11 1L8.5 8.5l.94-2.06 2.06-.94-2.06-.94L8.5 2.5l-.94 2.06-2.06.94zm10 10l.94 2.06.94-2.06 2.06-.94-2.06-.94-.94-2.06-.94 2.06-2.06.94z\"/><path d=\"M17.41 7.96l-1.37-1.37c-.4-.4-.92-.59-1.43-.59-.52 0-1.04.2-1.43.59L10.3 9.45l-7.72 7.72c-.78.78-.78 2.05 0 2.83L4 21.41c.39.39.9.59 1.41.59.51 0 1.02-.2 1.41-.59l7.78-7.78 2.81-2.81c.8-.78.8-2.07 0-2.86zM5.41 20L4 18.59l7.72-7.72 1.47 1.35L5.41 20z\"/>\n",
              "  </svg>\n",
              "      </button>\n",
              "      \n",
              "  <style>\n",
              "    .colab-df-container {\n",
              "      display:flex;\n",
              "      flex-wrap:wrap;\n",
              "      gap: 12px;\n",
              "    }\n",
              "\n",
              "    .colab-df-convert {\n",
              "      background-color: #E8F0FE;\n",
              "      border: none;\n",
              "      border-radius: 50%;\n",
              "      cursor: pointer;\n",
              "      display: none;\n",
              "      fill: #1967D2;\n",
              "      height: 32px;\n",
              "      padding: 0 0 0 0;\n",
              "      width: 32px;\n",
              "    }\n",
              "\n",
              "    .colab-df-convert:hover {\n",
              "      background-color: #E2EBFA;\n",
              "      box-shadow: 0px 1px 2px rgba(60, 64, 67, 0.3), 0px 1px 3px 1px rgba(60, 64, 67, 0.15);\n",
              "      fill: #174EA6;\n",
              "    }\n",
              "\n",
              "    [theme=dark] .colab-df-convert {\n",
              "      background-color: #3B4455;\n",
              "      fill: #D2E3FC;\n",
              "    }\n",
              "\n",
              "    [theme=dark] .colab-df-convert:hover {\n",
              "      background-color: #434B5C;\n",
              "      box-shadow: 0px 1px 3px 1px rgba(0, 0, 0, 0.15);\n",
              "      filter: drop-shadow(0px 1px 2px rgba(0, 0, 0, 0.3));\n",
              "      fill: #FFFFFF;\n",
              "    }\n",
              "  </style>\n",
              "\n",
              "      <script>\n",
              "        const buttonEl =\n",
              "          document.querySelector('#df-d22f8409-cad3-4ea3-b707-988e542620ab button.colab-df-convert');\n",
              "        buttonEl.style.display =\n",
              "          google.colab.kernel.accessAllowed ? 'block' : 'none';\n",
              "\n",
              "        async function convertToInteractive(key) {\n",
              "          const element = document.querySelector('#df-d22f8409-cad3-4ea3-b707-988e542620ab');\n",
              "          const dataTable =\n",
              "            await google.colab.kernel.invokeFunction('convertToInteractive',\n",
              "                                                     [key], {});\n",
              "          if (!dataTable) return;\n",
              "\n",
              "          const docLinkHtml = 'Like what you see? Visit the ' +\n",
              "            '<a target=\"_blank\" href=https://colab.research.google.com/notebooks/data_table.ipynb>data table notebook</a>'\n",
              "            + ' to learn more about interactive tables.';\n",
              "          element.innerHTML = '';\n",
              "          dataTable['output_type'] = 'display_data';\n",
              "          await google.colab.output.renderOutput(dataTable, element);\n",
              "          const docLink = document.createElement('div');\n",
              "          docLink.innerHTML = docLinkHtml;\n",
              "          element.appendChild(docLink);\n",
              "        }\n",
              "      </script>\n",
              "    </div>\n",
              "  </div>\n",
              "  "
            ]
          },
          "metadata": {},
          "execution_count": 9
        }
      ],
      "source": [
        "def tokenizer(data, col):\n",
        "    \"\"\"\n",
        "        This function takes in a dataframe and a col, creates a new column to store the tokenized words\n",
        "        in the inputed column, and returns a new dataframe.\n",
        "    \"\"\"\n",
        "    df = data.copy()\n",
        "    tokeniser = TreebankWordTokenizer()\n",
        "    df[col]= df[col].apply(tokeniser.tokenize)\n",
        "\n",
        "    return df\n",
        "\n",
        "# Create a new train and test dataframe with the text column containing of the word tokens \n",
        "new_df_train = tokenizer(new_df_train, 'text')\n",
        "new_df_test = tokenizer(new_df_test, 'text')\n",
        "new_df_test.head()"
      ]
    },
    {
      "cell_type": "markdown",
      "metadata": {
        "id": "52f08dac"
      },
      "source": [
        "### **4.7 Lemmatization process**\n",
        "\n",
        "> Lemmatization is the process of grouping together the different inflected forms of a word so they can be analyzed as a single item. Lemmatization is similar to stemming but it brings context to the words. So it links words with similar meanings to one word. We write a function *lam_words* to transform all words in the text column, to their root form using lemmatization, to enable us to carter for the shortfall in stemming above."
      ]
    },
    {
      "cell_type": "code",
      "execution_count": 10,
      "metadata": {
        "id": "dd6b0345",
        "colab": {
          "base_uri": "https://localhost:8080/",
          "height": 276
        },
        "outputId": "24ec0475-e510-4185-97a9-e18f9b0992cc"
      },
      "outputs": [
        {
          "output_type": "stream",
          "name": "stderr",
          "text": [
            "[nltk_data] Downloading package wordnet to /root/nltk_data...\n",
            "[nltk_data]   Unzipping corpora/wordnet.zip.\n",
            "[nltk_data] Downloading package omw-1.4 to /root/nltk_data...\n",
            "[nltk_data]   Unzipping corpora/omw-1.4.zip.\n"
          ]
        },
        {
          "output_type": "execute_result",
          "data": {
            "text/plain": [
              "   index                                               text\n",
              "0      1  [mmasepala, fa, maemo, a, a, kgethegileng, a, ...\n",
              "1      2  [uzakwaziswa, ngokufaneleko, nakungafuneka, em...\n",
              "2      3  [tshivhumbeo, tshi, fana, na, ngano, dza, vhathu]\n",
              "3      4  [kube, inja, nelikati, betingevakala, kutsi, t...\n",
              "4      5                  [winste, op, buitelandse, valuta]"
            ],
            "text/html": [
              "\n",
              "  <div id=\"df-50794e1c-ae1d-4379-9ae2-4592a3e9145c\">\n",
              "    <div class=\"colab-df-container\">\n",
              "      <div>\n",
              "<style scoped>\n",
              "    .dataframe tbody tr th:only-of-type {\n",
              "        vertical-align: middle;\n",
              "    }\n",
              "\n",
              "    .dataframe tbody tr th {\n",
              "        vertical-align: top;\n",
              "    }\n",
              "\n",
              "    .dataframe thead th {\n",
              "        text-align: right;\n",
              "    }\n",
              "</style>\n",
              "<table border=\"1\" class=\"dataframe\">\n",
              "  <thead>\n",
              "    <tr style=\"text-align: right;\">\n",
              "      <th></th>\n",
              "      <th>index</th>\n",
              "      <th>text</th>\n",
              "    </tr>\n",
              "  </thead>\n",
              "  <tbody>\n",
              "    <tr>\n",
              "      <th>0</th>\n",
              "      <td>1</td>\n",
              "      <td>[mmasepala, fa, maemo, a, a, kgethegileng, a, ...</td>\n",
              "    </tr>\n",
              "    <tr>\n",
              "      <th>1</th>\n",
              "      <td>2</td>\n",
              "      <td>[uzakwaziswa, ngokufaneleko, nakungafuneka, em...</td>\n",
              "    </tr>\n",
              "    <tr>\n",
              "      <th>2</th>\n",
              "      <td>3</td>\n",
              "      <td>[tshivhumbeo, tshi, fana, na, ngano, dza, vhathu]</td>\n",
              "    </tr>\n",
              "    <tr>\n",
              "      <th>3</th>\n",
              "      <td>4</td>\n",
              "      <td>[kube, inja, nelikati, betingevakala, kutsi, t...</td>\n",
              "    </tr>\n",
              "    <tr>\n",
              "      <th>4</th>\n",
              "      <td>5</td>\n",
              "      <td>[winste, op, buitelandse, valuta]</td>\n",
              "    </tr>\n",
              "  </tbody>\n",
              "</table>\n",
              "</div>\n",
              "      <button class=\"colab-df-convert\" onclick=\"convertToInteractive('df-50794e1c-ae1d-4379-9ae2-4592a3e9145c')\"\n",
              "              title=\"Convert this dataframe to an interactive table.\"\n",
              "              style=\"display:none;\">\n",
              "        \n",
              "  <svg xmlns=\"http://www.w3.org/2000/svg\" height=\"24px\"viewBox=\"0 0 24 24\"\n",
              "       width=\"24px\">\n",
              "    <path d=\"M0 0h24v24H0V0z\" fill=\"none\"/>\n",
              "    <path d=\"M18.56 5.44l.94 2.06.94-2.06 2.06-.94-2.06-.94-.94-2.06-.94 2.06-2.06.94zm-11 1L8.5 8.5l.94-2.06 2.06-.94-2.06-.94L8.5 2.5l-.94 2.06-2.06.94zm10 10l.94 2.06.94-2.06 2.06-.94-2.06-.94-.94-2.06-.94 2.06-2.06.94z\"/><path d=\"M17.41 7.96l-1.37-1.37c-.4-.4-.92-.59-1.43-.59-.52 0-1.04.2-1.43.59L10.3 9.45l-7.72 7.72c-.78.78-.78 2.05 0 2.83L4 21.41c.39.39.9.59 1.41.59.51 0 1.02-.2 1.41-.59l7.78-7.78 2.81-2.81c.8-.78.8-2.07 0-2.86zM5.41 20L4 18.59l7.72-7.72 1.47 1.35L5.41 20z\"/>\n",
              "  </svg>\n",
              "      </button>\n",
              "      \n",
              "  <style>\n",
              "    .colab-df-container {\n",
              "      display:flex;\n",
              "      flex-wrap:wrap;\n",
              "      gap: 12px;\n",
              "    }\n",
              "\n",
              "    .colab-df-convert {\n",
              "      background-color: #E8F0FE;\n",
              "      border: none;\n",
              "      border-radius: 50%;\n",
              "      cursor: pointer;\n",
              "      display: none;\n",
              "      fill: #1967D2;\n",
              "      height: 32px;\n",
              "      padding: 0 0 0 0;\n",
              "      width: 32px;\n",
              "    }\n",
              "\n",
              "    .colab-df-convert:hover {\n",
              "      background-color: #E2EBFA;\n",
              "      box-shadow: 0px 1px 2px rgba(60, 64, 67, 0.3), 0px 1px 3px 1px rgba(60, 64, 67, 0.15);\n",
              "      fill: #174EA6;\n",
              "    }\n",
              "\n",
              "    [theme=dark] .colab-df-convert {\n",
              "      background-color: #3B4455;\n",
              "      fill: #D2E3FC;\n",
              "    }\n",
              "\n",
              "    [theme=dark] .colab-df-convert:hover {\n",
              "      background-color: #434B5C;\n",
              "      box-shadow: 0px 1px 3px 1px rgba(0, 0, 0, 0.15);\n",
              "      filter: drop-shadow(0px 1px 2px rgba(0, 0, 0, 0.3));\n",
              "      fill: #FFFFFF;\n",
              "    }\n",
              "  </style>\n",
              "\n",
              "      <script>\n",
              "        const buttonEl =\n",
              "          document.querySelector('#df-50794e1c-ae1d-4379-9ae2-4592a3e9145c button.colab-df-convert');\n",
              "        buttonEl.style.display =\n",
              "          google.colab.kernel.accessAllowed ? 'block' : 'none';\n",
              "\n",
              "        async function convertToInteractive(key) {\n",
              "          const element = document.querySelector('#df-50794e1c-ae1d-4379-9ae2-4592a3e9145c');\n",
              "          const dataTable =\n",
              "            await google.colab.kernel.invokeFunction('convertToInteractive',\n",
              "                                                     [key], {});\n",
              "          if (!dataTable) return;\n",
              "\n",
              "          const docLinkHtml = 'Like what you see? Visit the ' +\n",
              "            '<a target=\"_blank\" href=https://colab.research.google.com/notebooks/data_table.ipynb>data table notebook</a>'\n",
              "            + ' to learn more about interactive tables.';\n",
              "          element.innerHTML = '';\n",
              "          dataTable['output_type'] = 'display_data';\n",
              "          await google.colab.output.renderOutput(dataTable, element);\n",
              "          const docLink = document.createElement('div');\n",
              "          docLink.innerHTML = docLinkHtml;\n",
              "          element.appendChild(docLink);\n",
              "        }\n",
              "      </script>\n",
              "    </div>\n",
              "  </div>\n",
              "  "
            ]
          },
          "metadata": {},
          "execution_count": 10
        }
      ],
      "source": [
        "def lemmatized_words(data, col):\n",
        "    \"\"\"\n",
        "        Takes in a dataframe and a column, converts the words in the column to it root form,\n",
        "        with the aid of WordNetLemmatizer class from the nltk package.\n",
        "        Returns a new dataframe with an additional column \"message_lam\"\n",
        "    \"\"\"\n",
        "    lemmatizer = WordNetLemmatizer()\n",
        "    def operation(words, lemmatizer):\n",
        "        return [lemmatizer.lemmatize(word) for word in words] \n",
        "    df = data.copy()\n",
        "    df[col] = df[col].apply(operation, args=(lemmatizer, ))\n",
        "    \n",
        "    return df\n",
        "\n",
        "# Create a new train and test dataframe the text column containing new lemmatized words\n",
        "import nltk\n",
        "nltk.download('wordnet')\n",
        "nltk.download('omw-1.4')\n",
        "new_df_train = lemmatized_words(new_df_train, 'text')\n",
        "new_df_test = lemmatized_words(new_df_test, 'text')\n",
        "new_df_test.head()"
      ]
    },
    {
      "cell_type": "markdown",
      "metadata": {
        "id": "2254aa5f"
      },
      "source": [
        "### **4.8 Remove stopwords from the text** \n",
        "> Stopwords are the words which does not add much meaning to a sentence. They can safely be ignored without sacrificing the meaning of the sentence. We use the *remove_stop_words* function to remove these stopwords using the stop_words dictionary in the nltk library."
      ]
    },
    {
      "cell_type": "code",
      "execution_count": 11,
      "metadata": {
        "id": "f64cfdf1",
        "colab": {
          "base_uri": "https://localhost:8080/",
          "height": 241
        },
        "outputId": "618e8767-b925-4d30-b390-dbe9b1befd78"
      },
      "outputs": [
        {
          "output_type": "stream",
          "name": "stderr",
          "text": [
            "[nltk_data] Downloading package stopwords to /root/nltk_data...\n",
            "[nltk_data]   Unzipping corpora/stopwords.zip.\n"
          ]
        },
        {
          "output_type": "execute_result",
          "data": {
            "text/plain": [
              "   index                                               text\n",
              "0      1  [mmasepala, fa, maemo, kgethegileng, letlelela...\n",
              "1      2  [uzakwaziswa, ngokufaneleko, nakungafuneka, em...\n",
              "2      3  [tshivhumbeo, tshi, fana, na, ngano, dza, vhathu]\n",
              "3      4  [kube, inja, nelikati, betingevakala, kutsi, t...\n",
              "4      5                  [winste, op, buitelandse, valuta]"
            ],
            "text/html": [
              "\n",
              "  <div id=\"df-902f1193-c353-4172-8c32-62bcfcc8ec1c\">\n",
              "    <div class=\"colab-df-container\">\n",
              "      <div>\n",
              "<style scoped>\n",
              "    .dataframe tbody tr th:only-of-type {\n",
              "        vertical-align: middle;\n",
              "    }\n",
              "\n",
              "    .dataframe tbody tr th {\n",
              "        vertical-align: top;\n",
              "    }\n",
              "\n",
              "    .dataframe thead th {\n",
              "        text-align: right;\n",
              "    }\n",
              "</style>\n",
              "<table border=\"1\" class=\"dataframe\">\n",
              "  <thead>\n",
              "    <tr style=\"text-align: right;\">\n",
              "      <th></th>\n",
              "      <th>index</th>\n",
              "      <th>text</th>\n",
              "    </tr>\n",
              "  </thead>\n",
              "  <tbody>\n",
              "    <tr>\n",
              "      <th>0</th>\n",
              "      <td>1</td>\n",
              "      <td>[mmasepala, fa, maemo, kgethegileng, letlelela...</td>\n",
              "    </tr>\n",
              "    <tr>\n",
              "      <th>1</th>\n",
              "      <td>2</td>\n",
              "      <td>[uzakwaziswa, ngokufaneleko, nakungafuneka, em...</td>\n",
              "    </tr>\n",
              "    <tr>\n",
              "      <th>2</th>\n",
              "      <td>3</td>\n",
              "      <td>[tshivhumbeo, tshi, fana, na, ngano, dza, vhathu]</td>\n",
              "    </tr>\n",
              "    <tr>\n",
              "      <th>3</th>\n",
              "      <td>4</td>\n",
              "      <td>[kube, inja, nelikati, betingevakala, kutsi, t...</td>\n",
              "    </tr>\n",
              "    <tr>\n",
              "      <th>4</th>\n",
              "      <td>5</td>\n",
              "      <td>[winste, op, buitelandse, valuta]</td>\n",
              "    </tr>\n",
              "  </tbody>\n",
              "</table>\n",
              "</div>\n",
              "      <button class=\"colab-df-convert\" onclick=\"convertToInteractive('df-902f1193-c353-4172-8c32-62bcfcc8ec1c')\"\n",
              "              title=\"Convert this dataframe to an interactive table.\"\n",
              "              style=\"display:none;\">\n",
              "        \n",
              "  <svg xmlns=\"http://www.w3.org/2000/svg\" height=\"24px\"viewBox=\"0 0 24 24\"\n",
              "       width=\"24px\">\n",
              "    <path d=\"M0 0h24v24H0V0z\" fill=\"none\"/>\n",
              "    <path d=\"M18.56 5.44l.94 2.06.94-2.06 2.06-.94-2.06-.94-.94-2.06-.94 2.06-2.06.94zm-11 1L8.5 8.5l.94-2.06 2.06-.94-2.06-.94L8.5 2.5l-.94 2.06-2.06.94zm10 10l.94 2.06.94-2.06 2.06-.94-2.06-.94-.94-2.06-.94 2.06-2.06.94z\"/><path d=\"M17.41 7.96l-1.37-1.37c-.4-.4-.92-.59-1.43-.59-.52 0-1.04.2-1.43.59L10.3 9.45l-7.72 7.72c-.78.78-.78 2.05 0 2.83L4 21.41c.39.39.9.59 1.41.59.51 0 1.02-.2 1.41-.59l7.78-7.78 2.81-2.81c.8-.78.8-2.07 0-2.86zM5.41 20L4 18.59l7.72-7.72 1.47 1.35L5.41 20z\"/>\n",
              "  </svg>\n",
              "      </button>\n",
              "      \n",
              "  <style>\n",
              "    .colab-df-container {\n",
              "      display:flex;\n",
              "      flex-wrap:wrap;\n",
              "      gap: 12px;\n",
              "    }\n",
              "\n",
              "    .colab-df-convert {\n",
              "      background-color: #E8F0FE;\n",
              "      border: none;\n",
              "      border-radius: 50%;\n",
              "      cursor: pointer;\n",
              "      display: none;\n",
              "      fill: #1967D2;\n",
              "      height: 32px;\n",
              "      padding: 0 0 0 0;\n",
              "      width: 32px;\n",
              "    }\n",
              "\n",
              "    .colab-df-convert:hover {\n",
              "      background-color: #E2EBFA;\n",
              "      box-shadow: 0px 1px 2px rgba(60, 64, 67, 0.3), 0px 1px 3px 1px rgba(60, 64, 67, 0.15);\n",
              "      fill: #174EA6;\n",
              "    }\n",
              "\n",
              "    [theme=dark] .colab-df-convert {\n",
              "      background-color: #3B4455;\n",
              "      fill: #D2E3FC;\n",
              "    }\n",
              "\n",
              "    [theme=dark] .colab-df-convert:hover {\n",
              "      background-color: #434B5C;\n",
              "      box-shadow: 0px 1px 3px 1px rgba(0, 0, 0, 0.15);\n",
              "      filter: drop-shadow(0px 1px 2px rgba(0, 0, 0, 0.3));\n",
              "      fill: #FFFFFF;\n",
              "    }\n",
              "  </style>\n",
              "\n",
              "      <script>\n",
              "        const buttonEl =\n",
              "          document.querySelector('#df-902f1193-c353-4172-8c32-62bcfcc8ec1c button.colab-df-convert');\n",
              "        buttonEl.style.display =\n",
              "          google.colab.kernel.accessAllowed ? 'block' : 'none';\n",
              "\n",
              "        async function convertToInteractive(key) {\n",
              "          const element = document.querySelector('#df-902f1193-c353-4172-8c32-62bcfcc8ec1c');\n",
              "          const dataTable =\n",
              "            await google.colab.kernel.invokeFunction('convertToInteractive',\n",
              "                                                     [key], {});\n",
              "          if (!dataTable) return;\n",
              "\n",
              "          const docLinkHtml = 'Like what you see? Visit the ' +\n",
              "            '<a target=\"_blank\" href=https://colab.research.google.com/notebooks/data_table.ipynb>data table notebook</a>'\n",
              "            + ' to learn more about interactive tables.';\n",
              "          element.innerHTML = '';\n",
              "          dataTable['output_type'] = 'display_data';\n",
              "          await google.colab.output.renderOutput(dataTable, element);\n",
              "          const docLink = document.createElement('div');\n",
              "          docLink.innerHTML = docLinkHtml;\n",
              "          element.appendChild(docLink);\n",
              "        }\n",
              "      </script>\n",
              "    </div>\n",
              "  </div>\n",
              "  "
            ]
          },
          "metadata": {},
          "execution_count": 11
        }
      ],
      "source": [
        "def remove_stop_words(data, col):\n",
        "    \"\"\"\n",
        "        Takes a dataframe and a column, creates a new dataframe with a new column no_stop_word from the input\n",
        "        dataframe and column, returns the new column\n",
        "    \"\"\"\n",
        "    def operation(toks):\n",
        "        new_toks = [tok for tok in toks if tok not in stopwords.words('english')]\n",
        "        return new_toks\n",
        "    \n",
        "    df = data.copy()\n",
        "    df[col] = df[col].apply(operation)\n",
        "\n",
        "    return df\n",
        "\n",
        "# Create a new train and test dataframe the text column void of stopwords\n",
        "nltk.download('stopwords')\n",
        "new_df_train = remove_stop_words(new_df_train, 'text')\n",
        "new_df_test = remove_stop_words(new_df_test, 'text')\n",
        "new_df_test.head()    "
      ]
    },
    {
      "cell_type": "markdown",
      "metadata": {
        "id": "f9c9d7f4"
      },
      "source": [
        "### **4.10 Check for the presence of noise as non-alphanumeric words**\n",
        "\n",
        "This section removes any instances of noise that appear as non-alphanumeric words in the text columns"
      ]
    },
    {
      "cell_type": "code",
      "execution_count": 12,
      "metadata": {
        "id": "6056b244",
        "colab": {
          "base_uri": "https://localhost:8080/"
        },
        "outputId": "16f539ac-a776-4208-c72e-74b74202b9ec"
      },
      "outputs": [
        {
          "output_type": "execute_result",
          "data": {
            "text/plain": [
              "(1125501, 233)"
            ]
          },
          "metadata": {},
          "execution_count": 12
        }
      ],
      "source": [
        "def word_type_checker(data, col):\n",
        "    alphanum_count = 0 \n",
        "    non_alphanum_count = 0\n",
        "    \n",
        "    def operation(str_list , alphanum_count ,non_alphanum_count):\n",
        "        alphanum = alphanum_count\n",
        "        non_aphanum = non_alphanum_count\n",
        "#         print(f'past row values: {(alphanum, non_aphanum)}') # for testing \n",
        "        for strg in str_list:\n",
        "            if strg.isalnum():\n",
        "                alphanum = alphanum + 1\n",
        "            else:\n",
        "                non_aphanum = non_aphanum + 1\n",
        "        \n",
        "        return (alphanum ,non_aphanum)\n",
        "    \n",
        "    for label, sr in data.iterrows():\n",
        "        (alphanum_count, non_alphanum_count) = operation(sr[col] , alphanum_count, non_alphanum_count)\n",
        "#         Uncomment the codes below for testing of this function\n",
        "#         print(f'accumulated values: {(alphanum_count, non_alphanum_count)}') \n",
        "#         if label == 20:\n",
        "#             break\n",
        "    \n",
        "    return (alphanum_count, non_alphanum_count)\n",
        "\n",
        "(alphanumeric, non_alphanumeric) = word_type_checker(new_df_train, 'text')\n",
        "(alphanumeric, non_alphanumeric)"
      ]
    },
    {
      "cell_type": "markdown",
      "metadata": {
        "id": "fcc1919f"
      },
      "source": [
        "### **4.11 Convert Processed Words to Corpus**\n",
        "\n",
        "> We have to remove the delimiters introduced during tokenization. This process is needed to enable us form a corpus. To achieve this, we write a function **form_corpus**."
      ]
    },
    {
      "cell_type": "code",
      "execution_count": 13,
      "metadata": {
        "id": "c4cbcdc1",
        "colab": {
          "base_uri": "https://localhost:8080/",
          "height": 206
        },
        "outputId": "6c79736a-5c3a-4b0d-e1c0-d863e24379f6"
      },
      "outputs": [
        {
          "output_type": "execute_result",
          "data": {
            "text/plain": [
              "   index                                               text\n",
              "0      1  mmasepala fa maemo kgethegileng letlelela kgat...\n",
              "1      2  uzakwaziswa ngokufaneleko nakungafuneka eminye...\n",
              "2      3          tshivhumbeo tshi fana na ngano dza vhathu\n",
              "3      4  kube inja nelikati betingevakala kutsi titsini...\n",
              "4      5                       winste op buitelandse valuta"
            ],
            "text/html": [
              "\n",
              "  <div id=\"df-81eb2924-ed4f-41be-83c7-cdb32198488d\">\n",
              "    <div class=\"colab-df-container\">\n",
              "      <div>\n",
              "<style scoped>\n",
              "    .dataframe tbody tr th:only-of-type {\n",
              "        vertical-align: middle;\n",
              "    }\n",
              "\n",
              "    .dataframe tbody tr th {\n",
              "        vertical-align: top;\n",
              "    }\n",
              "\n",
              "    .dataframe thead th {\n",
              "        text-align: right;\n",
              "    }\n",
              "</style>\n",
              "<table border=\"1\" class=\"dataframe\">\n",
              "  <thead>\n",
              "    <tr style=\"text-align: right;\">\n",
              "      <th></th>\n",
              "      <th>index</th>\n",
              "      <th>text</th>\n",
              "    </tr>\n",
              "  </thead>\n",
              "  <tbody>\n",
              "    <tr>\n",
              "      <th>0</th>\n",
              "      <td>1</td>\n",
              "      <td>mmasepala fa maemo kgethegileng letlelela kgat...</td>\n",
              "    </tr>\n",
              "    <tr>\n",
              "      <th>1</th>\n",
              "      <td>2</td>\n",
              "      <td>uzakwaziswa ngokufaneleko nakungafuneka eminye...</td>\n",
              "    </tr>\n",
              "    <tr>\n",
              "      <th>2</th>\n",
              "      <td>3</td>\n",
              "      <td>tshivhumbeo tshi fana na ngano dza vhathu</td>\n",
              "    </tr>\n",
              "    <tr>\n",
              "      <th>3</th>\n",
              "      <td>4</td>\n",
              "      <td>kube inja nelikati betingevakala kutsi titsini...</td>\n",
              "    </tr>\n",
              "    <tr>\n",
              "      <th>4</th>\n",
              "      <td>5</td>\n",
              "      <td>winste op buitelandse valuta</td>\n",
              "    </tr>\n",
              "  </tbody>\n",
              "</table>\n",
              "</div>\n",
              "      <button class=\"colab-df-convert\" onclick=\"convertToInteractive('df-81eb2924-ed4f-41be-83c7-cdb32198488d')\"\n",
              "              title=\"Convert this dataframe to an interactive table.\"\n",
              "              style=\"display:none;\">\n",
              "        \n",
              "  <svg xmlns=\"http://www.w3.org/2000/svg\" height=\"24px\"viewBox=\"0 0 24 24\"\n",
              "       width=\"24px\">\n",
              "    <path d=\"M0 0h24v24H0V0z\" fill=\"none\"/>\n",
              "    <path d=\"M18.56 5.44l.94 2.06.94-2.06 2.06-.94-2.06-.94-.94-2.06-.94 2.06-2.06.94zm-11 1L8.5 8.5l.94-2.06 2.06-.94-2.06-.94L8.5 2.5l-.94 2.06-2.06.94zm10 10l.94 2.06.94-2.06 2.06-.94-2.06-.94-.94-2.06-.94 2.06-2.06.94z\"/><path d=\"M17.41 7.96l-1.37-1.37c-.4-.4-.92-.59-1.43-.59-.52 0-1.04.2-1.43.59L10.3 9.45l-7.72 7.72c-.78.78-.78 2.05 0 2.83L4 21.41c.39.39.9.59 1.41.59.51 0 1.02-.2 1.41-.59l7.78-7.78 2.81-2.81c.8-.78.8-2.07 0-2.86zM5.41 20L4 18.59l7.72-7.72 1.47 1.35L5.41 20z\"/>\n",
              "  </svg>\n",
              "      </button>\n",
              "      \n",
              "  <style>\n",
              "    .colab-df-container {\n",
              "      display:flex;\n",
              "      flex-wrap:wrap;\n",
              "      gap: 12px;\n",
              "    }\n",
              "\n",
              "    .colab-df-convert {\n",
              "      background-color: #E8F0FE;\n",
              "      border: none;\n",
              "      border-radius: 50%;\n",
              "      cursor: pointer;\n",
              "      display: none;\n",
              "      fill: #1967D2;\n",
              "      height: 32px;\n",
              "      padding: 0 0 0 0;\n",
              "      width: 32px;\n",
              "    }\n",
              "\n",
              "    .colab-df-convert:hover {\n",
              "      background-color: #E2EBFA;\n",
              "      box-shadow: 0px 1px 2px rgba(60, 64, 67, 0.3), 0px 1px 3px 1px rgba(60, 64, 67, 0.15);\n",
              "      fill: #174EA6;\n",
              "    }\n",
              "\n",
              "    [theme=dark] .colab-df-convert {\n",
              "      background-color: #3B4455;\n",
              "      fill: #D2E3FC;\n",
              "    }\n",
              "\n",
              "    [theme=dark] .colab-df-convert:hover {\n",
              "      background-color: #434B5C;\n",
              "      box-shadow: 0px 1px 3px 1px rgba(0, 0, 0, 0.15);\n",
              "      filter: drop-shadow(0px 1px 2px rgba(0, 0, 0, 0.3));\n",
              "      fill: #FFFFFF;\n",
              "    }\n",
              "  </style>\n",
              "\n",
              "      <script>\n",
              "        const buttonEl =\n",
              "          document.querySelector('#df-81eb2924-ed4f-41be-83c7-cdb32198488d button.colab-df-convert');\n",
              "        buttonEl.style.display =\n",
              "          google.colab.kernel.accessAllowed ? 'block' : 'none';\n",
              "\n",
              "        async function convertToInteractive(key) {\n",
              "          const element = document.querySelector('#df-81eb2924-ed4f-41be-83c7-cdb32198488d');\n",
              "          const dataTable =\n",
              "            await google.colab.kernel.invokeFunction('convertToInteractive',\n",
              "                                                     [key], {});\n",
              "          if (!dataTable) return;\n",
              "\n",
              "          const docLinkHtml = 'Like what you see? Visit the ' +\n",
              "            '<a target=\"_blank\" href=https://colab.research.google.com/notebooks/data_table.ipynb>data table notebook</a>'\n",
              "            + ' to learn more about interactive tables.';\n",
              "          element.innerHTML = '';\n",
              "          dataTable['output_type'] = 'display_data';\n",
              "          await google.colab.output.renderOutput(dataTable, element);\n",
              "          const docLink = document.createElement('div');\n",
              "          docLink.innerHTML = docLinkHtml;\n",
              "          element.appendChild(docLink);\n",
              "        }\n",
              "      </script>\n",
              "    </div>\n",
              "  </div>\n",
              "  "
            ]
          },
          "metadata": {},
          "execution_count": 13
        }
      ],
      "source": [
        "def form_corpus(data, col):\n",
        "    \"\"\"\n",
        "        This function takes in a dataframe and a column with tokenized text, \n",
        "        returns a new dataframe with an additional column(de_tok), which is made up of all words in the inserted colunm\n",
        "        but void of delimeters.\n",
        "    \"\"\"\n",
        "    def operation(tok_list):\n",
        "        string = ' '.join(tok_list)\n",
        "        return string\n",
        "    df = data.copy()\n",
        "    df[col] = df[col].apply(operation)\n",
        "    \n",
        "    return df\n",
        "\n",
        "# Create a new train and test dataframe the text column void of delimeters\n",
        "new_df_train = form_corpus(new_df_train, 'text')\n",
        "new_df_test = form_corpus(new_df_test, 'text')\n",
        "new_df_test.head()"
      ]
    },
    {
      "cell_type": "markdown",
      "metadata": {
        "id": "7ee26e12"
      },
      "source": [
        "#### **4.12 Feature extraction process**\n",
        "\n",
        "> In an earlier section, we saw that the text and lang_id features in the train dataset, as well as the text feature in the test dataset had an object datatype, hence need to be converted to a numeric datatype. To execute this task and more, we use the **CountVectorizer** as well as the **TfidfVectorizer**\n"
      ]
    },
    {
      "cell_type": "code",
      "execution_count": 50,
      "metadata": {
        "id": "8051b1fb",
        "colab": {
          "base_uri": "https://localhost:8080/"
        },
        "outputId": "cdc08502-8397-4c18-8fa7-2a14b49ccaa1"
      },
      "outputs": [
        {
          "output_type": "execute_result",
          "data": {
            "text/plain": [
              "(33000, 20000)"
            ]
          },
          "metadata": {},
          "execution_count": 50
        }
      ],
      "source": [
        "# Initialize an object of CountVectorizer\n",
        "count_vector = CountVectorizer(max_features=20000,analyzer='word', ngram_range=(1, 2), )\n",
        "\n",
        "# Initialize an object of TfidfVectorizer\n",
        "tfidf_vector = TfidfVectorizer( analyzer='word', ngram_range=(1, 2))\n",
        "\n",
        "# Define a list that stores the two vectorizers (CountVectorizer and TFidfVecorizer ) and enables us to use index number (0,1), to select any vectorizer of choice \n",
        "VectorizerSelector = [count_vector, tfidf_vector]\n",
        "vector = VectorizerSelector[0]\n",
        "\n",
        "# Now, perform the feature extraction from the text column in the train and test datasets, using the vector variable \n",
        "X_count_train = vector.fit_transform(new_df_train['text'].values.astype(str))\n",
        "X_count_test = vector.transform(new_df_test['text'].values.astype(str))\n",
        "X_count_train.shape"
      ]
    },
    {
      "cell_type": "code",
      "source": [
        "# Finally, convert the vectorized data back to pandas dataframes\n",
        "X_count_train_df = pd.DataFrame(data=X_count_train.toarray(),columns = vector.get_feature_names())\n",
        "X_count_test_df = pd.DataFrame(data=X_count_test.toarray(),columns = vector.get_feature_names())\n",
        "X_count_test_df.head()"
      ],
      "metadata": {
        "colab": {
          "base_uri": "https://localhost:8080/",
          "height": 297
        },
        "id": "gC-Cz7jE6arc",
        "outputId": "cd015afe-d47c-4ef3-99ac-9025d591c69a"
      },
      "execution_count": 15,
      "outputs": [
        {
          "output_type": "execute_result",
          "data": {
            "text/plain": [
              "   aa  aan  aan die  aan elke  aan enige  aan jou  aan te  aandag  aandui  \\\n",
              "0   0    0        0         0          0        0       0       0       0   \n",
              "1   0    0        0         0          0        0       0       0       0   \n",
              "2   0    0        0         0          0        0       0       0       0   \n",
              "3   0    0        0         0          0        0       0       0       0   \n",
              "4   0    0        0         0          0        0       0       0       0   \n",
              "\n",
              "   aangebied  ...  ṱo  ṱo ḓa  ṱo ḓaho  ṱo ḓea  ṱola  ṱoḓa  ṱoḓea  ṱun  ṱun ḓa  \\\n",
              "0          0  ...   0      0        0       0     0     0      0    0       0   \n",
              "1          0  ...   0      0        0       0     0     0      0    0       0   \n",
              "2          0  ...   0      0        0       0     0     0      0    0       0   \n",
              "3          0  ...   0      0        0       0     0     0      0    0       0   \n",
              "4          0  ...   0      0        0       0     0     0      0    0       0   \n",
              "\n",
              "   ṱuṱuwedza  \n",
              "0          0  \n",
              "1          0  \n",
              "2          0  \n",
              "3          0  \n",
              "4          0  \n",
              "\n",
              "[5 rows x 20000 columns]"
            ],
            "text/html": [
              "\n",
              "  <div id=\"df-ec6fc780-5ff8-4b9c-84d3-e795049175d5\">\n",
              "    <div class=\"colab-df-container\">\n",
              "      <div>\n",
              "<style scoped>\n",
              "    .dataframe tbody tr th:only-of-type {\n",
              "        vertical-align: middle;\n",
              "    }\n",
              "\n",
              "    .dataframe tbody tr th {\n",
              "        vertical-align: top;\n",
              "    }\n",
              "\n",
              "    .dataframe thead th {\n",
              "        text-align: right;\n",
              "    }\n",
              "</style>\n",
              "<table border=\"1\" class=\"dataframe\">\n",
              "  <thead>\n",
              "    <tr style=\"text-align: right;\">\n",
              "      <th></th>\n",
              "      <th>aa</th>\n",
              "      <th>aan</th>\n",
              "      <th>aan die</th>\n",
              "      <th>aan elke</th>\n",
              "      <th>aan enige</th>\n",
              "      <th>aan jou</th>\n",
              "      <th>aan te</th>\n",
              "      <th>aandag</th>\n",
              "      <th>aandui</th>\n",
              "      <th>aangebied</th>\n",
              "      <th>...</th>\n",
              "      <th>ṱo</th>\n",
              "      <th>ṱo ḓa</th>\n",
              "      <th>ṱo ḓaho</th>\n",
              "      <th>ṱo ḓea</th>\n",
              "      <th>ṱola</th>\n",
              "      <th>ṱoḓa</th>\n",
              "      <th>ṱoḓea</th>\n",
              "      <th>ṱun</th>\n",
              "      <th>ṱun ḓa</th>\n",
              "      <th>ṱuṱuwedza</th>\n",
              "    </tr>\n",
              "  </thead>\n",
              "  <tbody>\n",
              "    <tr>\n",
              "      <th>0</th>\n",
              "      <td>0</td>\n",
              "      <td>0</td>\n",
              "      <td>0</td>\n",
              "      <td>0</td>\n",
              "      <td>0</td>\n",
              "      <td>0</td>\n",
              "      <td>0</td>\n",
              "      <td>0</td>\n",
              "      <td>0</td>\n",
              "      <td>0</td>\n",
              "      <td>...</td>\n",
              "      <td>0</td>\n",
              "      <td>0</td>\n",
              "      <td>0</td>\n",
              "      <td>0</td>\n",
              "      <td>0</td>\n",
              "      <td>0</td>\n",
              "      <td>0</td>\n",
              "      <td>0</td>\n",
              "      <td>0</td>\n",
              "      <td>0</td>\n",
              "    </tr>\n",
              "    <tr>\n",
              "      <th>1</th>\n",
              "      <td>0</td>\n",
              "      <td>0</td>\n",
              "      <td>0</td>\n",
              "      <td>0</td>\n",
              "      <td>0</td>\n",
              "      <td>0</td>\n",
              "      <td>0</td>\n",
              "      <td>0</td>\n",
              "      <td>0</td>\n",
              "      <td>0</td>\n",
              "      <td>...</td>\n",
              "      <td>0</td>\n",
              "      <td>0</td>\n",
              "      <td>0</td>\n",
              "      <td>0</td>\n",
              "      <td>0</td>\n",
              "      <td>0</td>\n",
              "      <td>0</td>\n",
              "      <td>0</td>\n",
              "      <td>0</td>\n",
              "      <td>0</td>\n",
              "    </tr>\n",
              "    <tr>\n",
              "      <th>2</th>\n",
              "      <td>0</td>\n",
              "      <td>0</td>\n",
              "      <td>0</td>\n",
              "      <td>0</td>\n",
              "      <td>0</td>\n",
              "      <td>0</td>\n",
              "      <td>0</td>\n",
              "      <td>0</td>\n",
              "      <td>0</td>\n",
              "      <td>0</td>\n",
              "      <td>...</td>\n",
              "      <td>0</td>\n",
              "      <td>0</td>\n",
              "      <td>0</td>\n",
              "      <td>0</td>\n",
              "      <td>0</td>\n",
              "      <td>0</td>\n",
              "      <td>0</td>\n",
              "      <td>0</td>\n",
              "      <td>0</td>\n",
              "      <td>0</td>\n",
              "    </tr>\n",
              "    <tr>\n",
              "      <th>3</th>\n",
              "      <td>0</td>\n",
              "      <td>0</td>\n",
              "      <td>0</td>\n",
              "      <td>0</td>\n",
              "      <td>0</td>\n",
              "      <td>0</td>\n",
              "      <td>0</td>\n",
              "      <td>0</td>\n",
              "      <td>0</td>\n",
              "      <td>0</td>\n",
              "      <td>...</td>\n",
              "      <td>0</td>\n",
              "      <td>0</td>\n",
              "      <td>0</td>\n",
              "      <td>0</td>\n",
              "      <td>0</td>\n",
              "      <td>0</td>\n",
              "      <td>0</td>\n",
              "      <td>0</td>\n",
              "      <td>0</td>\n",
              "      <td>0</td>\n",
              "    </tr>\n",
              "    <tr>\n",
              "      <th>4</th>\n",
              "      <td>0</td>\n",
              "      <td>0</td>\n",
              "      <td>0</td>\n",
              "      <td>0</td>\n",
              "      <td>0</td>\n",
              "      <td>0</td>\n",
              "      <td>0</td>\n",
              "      <td>0</td>\n",
              "      <td>0</td>\n",
              "      <td>0</td>\n",
              "      <td>...</td>\n",
              "      <td>0</td>\n",
              "      <td>0</td>\n",
              "      <td>0</td>\n",
              "      <td>0</td>\n",
              "      <td>0</td>\n",
              "      <td>0</td>\n",
              "      <td>0</td>\n",
              "      <td>0</td>\n",
              "      <td>0</td>\n",
              "      <td>0</td>\n",
              "    </tr>\n",
              "  </tbody>\n",
              "</table>\n",
              "<p>5 rows × 20000 columns</p>\n",
              "</div>\n",
              "      <button class=\"colab-df-convert\" onclick=\"convertToInteractive('df-ec6fc780-5ff8-4b9c-84d3-e795049175d5')\"\n",
              "              title=\"Convert this dataframe to an interactive table.\"\n",
              "              style=\"display:none;\">\n",
              "        \n",
              "  <svg xmlns=\"http://www.w3.org/2000/svg\" height=\"24px\"viewBox=\"0 0 24 24\"\n",
              "       width=\"24px\">\n",
              "    <path d=\"M0 0h24v24H0V0z\" fill=\"none\"/>\n",
              "    <path d=\"M18.56 5.44l.94 2.06.94-2.06 2.06-.94-2.06-.94-.94-2.06-.94 2.06-2.06.94zm-11 1L8.5 8.5l.94-2.06 2.06-.94-2.06-.94L8.5 2.5l-.94 2.06-2.06.94zm10 10l.94 2.06.94-2.06 2.06-.94-2.06-.94-.94-2.06-.94 2.06-2.06.94z\"/><path d=\"M17.41 7.96l-1.37-1.37c-.4-.4-.92-.59-1.43-.59-.52 0-1.04.2-1.43.59L10.3 9.45l-7.72 7.72c-.78.78-.78 2.05 0 2.83L4 21.41c.39.39.9.59 1.41.59.51 0 1.02-.2 1.41-.59l7.78-7.78 2.81-2.81c.8-.78.8-2.07 0-2.86zM5.41 20L4 18.59l7.72-7.72 1.47 1.35L5.41 20z\"/>\n",
              "  </svg>\n",
              "      </button>\n",
              "      \n",
              "  <style>\n",
              "    .colab-df-container {\n",
              "      display:flex;\n",
              "      flex-wrap:wrap;\n",
              "      gap: 12px;\n",
              "    }\n",
              "\n",
              "    .colab-df-convert {\n",
              "      background-color: #E8F0FE;\n",
              "      border: none;\n",
              "      border-radius: 50%;\n",
              "      cursor: pointer;\n",
              "      display: none;\n",
              "      fill: #1967D2;\n",
              "      height: 32px;\n",
              "      padding: 0 0 0 0;\n",
              "      width: 32px;\n",
              "    }\n",
              "\n",
              "    .colab-df-convert:hover {\n",
              "      background-color: #E2EBFA;\n",
              "      box-shadow: 0px 1px 2px rgba(60, 64, 67, 0.3), 0px 1px 3px 1px rgba(60, 64, 67, 0.15);\n",
              "      fill: #174EA6;\n",
              "    }\n",
              "\n",
              "    [theme=dark] .colab-df-convert {\n",
              "      background-color: #3B4455;\n",
              "      fill: #D2E3FC;\n",
              "    }\n",
              "\n",
              "    [theme=dark] .colab-df-convert:hover {\n",
              "      background-color: #434B5C;\n",
              "      box-shadow: 0px 1px 3px 1px rgba(0, 0, 0, 0.15);\n",
              "      filter: drop-shadow(0px 1px 2px rgba(0, 0, 0, 0.3));\n",
              "      fill: #FFFFFF;\n",
              "    }\n",
              "  </style>\n",
              "\n",
              "      <script>\n",
              "        const buttonEl =\n",
              "          document.querySelector('#df-ec6fc780-5ff8-4b9c-84d3-e795049175d5 button.colab-df-convert');\n",
              "        buttonEl.style.display =\n",
              "          google.colab.kernel.accessAllowed ? 'block' : 'none';\n",
              "\n",
              "        async function convertToInteractive(key) {\n",
              "          const element = document.querySelector('#df-ec6fc780-5ff8-4b9c-84d3-e795049175d5');\n",
              "          const dataTable =\n",
              "            await google.colab.kernel.invokeFunction('convertToInteractive',\n",
              "                                                     [key], {});\n",
              "          if (!dataTable) return;\n",
              "\n",
              "          const docLinkHtml = 'Like what you see? Visit the ' +\n",
              "            '<a target=\"_blank\" href=https://colab.research.google.com/notebooks/data_table.ipynb>data table notebook</a>'\n",
              "            + ' to learn more about interactive tables.';\n",
              "          element.innerHTML = '';\n",
              "          dataTable['output_type'] = 'display_data';\n",
              "          await google.colab.output.renderOutput(dataTable, element);\n",
              "          const docLink = document.createElement('div');\n",
              "          docLink.innerHTML = docLinkHtml;\n",
              "          element.appendChild(docLink);\n",
              "        }\n",
              "      </script>\n",
              "    </div>\n",
              "  </div>\n",
              "  "
            ]
          },
          "metadata": {},
          "execution_count": 15
        }
      ]
    },
    {
      "cell_type": "markdown",
      "metadata": {
        "id": "4c13b7be"
      },
      "source": [
        "<a id=\"five\"></a>\n",
        "# **5. MODELLING**\n",
        "<a class=\"anchor\" id=\"1.1\"></a>\n",
        "<a href=#cont>Back to Table of Contents</a>\n",
        "\n",
        "\n",
        "\n",
        "---"
      ]
    },
    {
      "cell_type": "markdown",
      "metadata": {
        "id": "0c0cbf01"
      },
      "source": [
        "### **5.1 First, perform the train test split** \n",
        "Before we embark on the modelling process, we have to split our data set into two sets (training and testing). The train set is used to fit the machine learning models on the data, while the test set is used to evaluate the performance of the models. To achive this, we make use of sklearn train_test_split class."
      ]
    },
    {
      "cell_type": "code",
      "execution_count": 16,
      "metadata": {
        "id": "058323e0"
      },
      "outputs": [],
      "source": [
        "# first, define the labels from the df_train dataset\n",
        "y = df_train['lang_id']\n",
        "\n",
        "# then, perform the train test split\n",
        "X_train, X_test, y_train, y_test = train_test_split(X_count_train, y, test_size=0.2, random_state=RANDOM_STATE)"
      ]
    },
    {
      "cell_type": "markdown",
      "metadata": {
        "id": "073e8433"
      },
      "source": [
        "### **5.2 Define the machine learning classification models**\n",
        "\n",
        "Five machine learning classification models were used, namely:\n",
        "\n",
        ">i. Logistic regression \\\n",
        ">ii. Passive aggressive classifier\\\n",
        ">iii. Support vector machine classifier \\\n",
        ">iv. Random forest classifier \\\n",
        ">v. Multinomial naive bayes classifier \\ \n",
        "\n",
        "\n",
        "\n",
        "\n",
        "\n",
        "\n",
        "\n",
        "\n",
        "\n"
      ]
    },
    {
      "cell_type": "markdown",
      "source": [
        "### **5.3 Train and evaluate the performance of each classification model**\n",
        "\n",
        "We write a function **model_eval**, that uses the train and test features and labels data set generated above, to train a model, make prediction with the model, and output the models performance with the aid of **classification_report** from sklearn."
      ],
      "metadata": {
        "id": "gabTuRvdqXCz"
      }
    },
    {
      "cell_type": "code",
      "execution_count": 27,
      "metadata": {
        "id": "e1b00b7e"
      },
      "outputs": [],
      "source": [
        "def model_eval(model):\n",
        "    \"\"\"\n",
        "        This function accepts a model as an input, train and make predictions with the model, using the train and test\n",
        "        data set generated above, and ouput the trained model and the model's performance as a tuple.\n",
        "    \"\"\"\n",
        "    model.fit(X_train, y_train)\n",
        "    y_pred = model.predict(X_test)\n",
        "    \n",
        "    return (model, classification_report(y_test, y_pred))"
      ]
    },
    {
      "cell_type": "code",
      "execution_count": 21,
      "metadata": {
        "id": "17eef1be"
      },
      "outputs": [],
      "source": [
        "def eval_metrics(model):\n",
        "  model.fit(X_train, y_train)\n",
        "  y_pred = model.predict(X_test)\n",
        "  \n",
        "  accuracy  = metrics.accuracy_score(y_test, y_pred)\n",
        "  precision = metrics.precision_score(y_test, y_pred, average = 'weighted')\n",
        "  recall    = metrics.recall_score(y_test, y_pred, average = 'weighted')\n",
        "  f1_test   = metrics.f1_score(y_test, y_pred, average = 'weighted') \n",
        "\n",
        "  return accuracy, precision, recall, f1_test  \n"
      ]
    },
    {
      "cell_type": "markdown",
      "source": [
        "### **5.4 Train and evaluate performance of the logistic regression model**\n",
        "\n",
        "This section trains and evaluates the performance of the logistic regression model, using the *model_val* and *eval_metrics* functions, that have been declared above."
      ],
      "metadata": {
        "id": "0K08I7ZPrEX6"
      }
    },
    {
      "cell_type": "code",
      "execution_count": 28,
      "metadata": {
        "id": "b8049cb0",
        "outputId": "7a082a1b-2010-4394-cc5a-af87cafa81ac",
        "colab": {
          "base_uri": "https://localhost:8080/"
        }
      },
      "outputs": [
        {
          "output_type": "stream",
          "name": "stdout",
          "text": [
            "\n",
            "\n",
            "Logistic Regression Classification Report:\n",
            "\n",
            "               precision    recall  f1-score   support\n",
            "\n",
            "         afr       1.00      0.99      1.00       583\n",
            "         eng       1.00      1.00      1.00       615\n",
            "         nbl       0.99      0.98      0.98       583\n",
            "         nso       1.00      1.00      1.00       625\n",
            "         sot       1.00      1.00      1.00       618\n",
            "         ssw       0.99      0.99      0.99       584\n",
            "         tsn       1.00      0.99      1.00       598\n",
            "         tso       1.00      1.00      1.00       561\n",
            "         ven       1.00      1.00      1.00       634\n",
            "         xho       0.99      0.99      0.99       609\n",
            "         zul       0.97      0.98      0.97       590\n",
            "\n",
            "    accuracy                           0.99      6600\n",
            "   macro avg       0.99      0.99      0.99      6600\n",
            "weighted avg       0.99      0.99      0.99      6600\n",
            "\n"
          ]
        }
      ],
      "source": [
        "# instantiate a logistic regression model\n",
        "logreg_model = LogisticRegression(C=5, multi_class='ovr')\n",
        "\n",
        "# Train, predict and evaluate model performance \n",
        "(logreg_model, model_per) = model_eval(logreg_model)\n",
        "\n",
        "# Print model classification report\n",
        "print(\"\\n\\nLogistic Regression Classification Report:\\n\\n\",model_per)"
      ]
    },
    {
      "cell_type": "markdown",
      "metadata": {
        "id": "cda5130a"
      },
      "source": [
        "### **5.5 Train and evaluate performance of the passive aggressive classifier model**\n",
        "\n",
        "This section trains and evaluates the performance of the passive aggressive classifier model, using the model_val and eval_metrics functions, that have been declared above."
      ]
    },
    {
      "cell_type": "code",
      "execution_count": 62,
      "metadata": {
        "id": "e861c749",
        "outputId": "0bc33d32-d959-4183-bed5-84bc5417a93a",
        "colab": {
          "base_uri": "https://localhost:8080/"
        }
      },
      "outputs": [
        {
          "output_type": "stream",
          "name": "stdout",
          "text": [
            "\n",
            "\n",
            "Passive Aggressive Classification Report:\n",
            "\n",
            "               precision    recall  f1-score   support\n",
            "\n",
            "         afr       1.00      1.00      1.00       583\n",
            "         eng       1.00      1.00      1.00       615\n",
            "         nbl       0.97      0.98      0.97       583\n",
            "         nso       1.00      1.00      1.00       625\n",
            "         sot       1.00      1.00      1.00       618\n",
            "         ssw       0.99      0.98      0.99       584\n",
            "         tsn       1.00      1.00      1.00       598\n",
            "         tso       1.00      1.00      1.00       561\n",
            "         ven       1.00      1.00      1.00       634\n",
            "         xho       0.99      0.98      0.99       609\n",
            "         zul       0.96      0.97      0.97       590\n",
            "\n",
            "    accuracy                           0.99      6600\n",
            "   macro avg       0.99      0.99      0.99      6600\n",
            "weighted avg       0.99      0.99      0.99      6600\n",
            "\n"
          ]
        }
      ],
      "source": [
        "# instantiate a Passive Aggressive classifier model\n",
        "pac_model = PassiveAggressiveClassifier()\n",
        "\n",
        "# Train, predict and evaluate model performance \n",
        "(pac_model, model_per) = model_eval(pac_model)\n",
        "\n",
        "# Print model classification report\n",
        "print(\"\\n\\nPassive Aggressive Classification Report:\\n\\n\",model_per)"
      ]
    },
    {
      "cell_type": "markdown",
      "metadata": {
        "id": "0ab26208"
      },
      "source": [
        "### **5.6 Train and evaluate performance of the support vector classifier model**\n",
        "\n",
        "This section trains and evaluates the performance of the support vector classifier model, using the model_val and eval_metrics functions, that have been declared above."
      ]
    },
    {
      "cell_type": "code",
      "execution_count": 30,
      "metadata": {
        "id": "3f281975",
        "outputId": "e0a3fec4-de23-480e-ab63-1ac918b84324",
        "colab": {
          "base_uri": "https://localhost:8080/"
        }
      },
      "outputs": [
        {
          "output_type": "stream",
          "name": "stdout",
          "text": [
            "\n",
            "\n",
            "Support Vector Machine Classification Report:\n",
            "\n",
            "               precision    recall  f1-score   support\n",
            "\n",
            "         afr       1.00      0.99      1.00       583\n",
            "         eng       1.00      1.00      1.00       615\n",
            "         nbl       0.99      0.97      0.98       583\n",
            "         nso       1.00      0.99      0.99       625\n",
            "         sot       1.00      1.00      1.00       618\n",
            "         ssw       0.98      1.00      0.99       584\n",
            "         tsn       0.99      0.99      0.99       598\n",
            "         tso       1.00      1.00      1.00       561\n",
            "         ven       1.00      1.00      1.00       634\n",
            "         xho       0.97      0.99      0.98       609\n",
            "         zul       0.97      0.97      0.97       590\n",
            "\n",
            "    accuracy                           0.99      6600\n",
            "   macro avg       0.99      0.99      0.99      6600\n",
            "weighted avg       0.99      0.99      0.99      6600\n",
            "\n"
          ]
        }
      ],
      "source": [
        "# instantiate an SVC regression model\n",
        "svc_model = SVC()\n",
        "\n",
        "# Train, predict and evaluate model performance \n",
        "(svc_model, model_per) = model_eval(svc_model)\n",
        "\n",
        "# Print model classification report\n",
        "print(\"\\n\\nSupport Vector Machine Classification Report:\\n\\n\",model_per)"
      ]
    },
    {
      "cell_type": "markdown",
      "metadata": {
        "id": "e8c887c5"
      },
      "source": [
        "### **5.7 Train and evaluate performance of the random forest classifier model**\n",
        "\n",
        "This section trains and evaluates the performance of the random forest classifier model, using the model_val and eval_metrics functions, that have been declared above."
      ]
    },
    {
      "cell_type": "code",
      "execution_count": 31,
      "metadata": {
        "id": "66bb6503",
        "outputId": "398a464d-8a93-4594-ec6c-e1ddbfa34819",
        "colab": {
          "base_uri": "https://localhost:8080/"
        }
      },
      "outputs": [
        {
          "output_type": "stream",
          "name": "stdout",
          "text": [
            "\n",
            "\n",
            "Random Forest Classification Report:\n",
            "\n",
            "               precision    recall  f1-score   support\n",
            "\n",
            "         afr       1.00      1.00      1.00       583\n",
            "         eng       0.98      1.00      0.99       615\n",
            "         nbl       0.97      0.95      0.96       583\n",
            "         nso       1.00      0.99      1.00       625\n",
            "         sot       1.00      1.00      1.00       618\n",
            "         ssw       0.92      0.97      0.95       584\n",
            "         tsn       0.99      0.99      0.99       598\n",
            "         tso       1.00      1.00      1.00       561\n",
            "         ven       1.00      1.00      1.00       634\n",
            "         xho       0.97      0.93      0.95       609\n",
            "         zul       0.94      0.93      0.93       590\n",
            "\n",
            "    accuracy                           0.98      6600\n",
            "   macro avg       0.98      0.98      0.98      6600\n",
            "weighted avg       0.98      0.98      0.98      6600\n",
            "\n"
          ]
        }
      ],
      "source": [
        "# instantiate a Random Forest Classifier regression model\n",
        "randomF_model = RandomForestClassifier()\n",
        "\n",
        "# Train, predict and evaluate model performance \n",
        "(randomF_model, model_per) = model_eval(randomF_model)\n",
        "\n",
        "# Print model classification report\n",
        "print(\"\\n\\nRandom Forest Classification Report:\\n\\n\",model_per)"
      ]
    },
    {
      "cell_type": "markdown",
      "metadata": {
        "id": "21cda9b4"
      },
      "source": [
        "### **5.8 Train and evaluate performance of the multinomial naive bayes  classifier model**\n",
        "\n",
        "This section trains and evaluates the performance of the multinomial naive bayes classifier model, using the model_val and eval_metrics functions, that have been declared above."
      ]
    },
    {
      "cell_type": "code",
      "execution_count": 32,
      "metadata": {
        "id": "5d9d2a4f",
        "outputId": "14f43285-296d-4e74-b2a8-859bfcd1b32d",
        "colab": {
          "base_uri": "https://localhost:8080/"
        }
      },
      "outputs": [
        {
          "output_type": "stream",
          "name": "stdout",
          "text": [
            "\n",
            "\n",
            "Multinomial Naive Bayes Classification Report:\n",
            "\n",
            "               precision    recall  f1-score   support\n",
            "\n",
            "         afr       1.00      1.00      1.00       583\n",
            "         eng       1.00      1.00      1.00       615\n",
            "         nbl       0.99      0.99      0.99       583\n",
            "         nso       1.00      1.00      1.00       625\n",
            "         sot       1.00      1.00      1.00       618\n",
            "         ssw       1.00      1.00      1.00       584\n",
            "         tsn       1.00      1.00      1.00       598\n",
            "         tso       1.00      1.00      1.00       561\n",
            "         ven       1.00      1.00      1.00       634\n",
            "         xho       1.00      0.99      0.99       609\n",
            "         zul       0.99      0.99      0.99       590\n",
            "\n",
            "    accuracy                           1.00      6600\n",
            "   macro avg       1.00      1.00      1.00      6600\n",
            "weighted avg       1.00      1.00      1.00      6600\n",
            "\n"
          ]
        }
      ],
      "source": [
        "# Instanciate a MultinomialNB model\n",
        "mnb_model = MultinomialNB()\n",
        "\n",
        "# Train, predict and evaluate model performance \n",
        "(mnb_model, model_per) = model_eval(mnb_model)\n",
        "\n",
        "# Print model classification report\n",
        "print(\"\\n\\nMultinomial Naive Bayes Classification Report:\\n\\n\",model_per)"
      ]
    },
    {
      "cell_type": "markdown",
      "source": [
        "The Multinomial Naive Bayes classifier model was the highest-performing model with an overall accuracy of 1.00, while the Random Forest classifier was the least-performing with an overall accuracy score of 0.98."
      ],
      "metadata": {
        "id": "RLRueERlCKZp"
      }
    },
    {
      "cell_type": "markdown",
      "metadata": {
        "id": "LjL5j-eyBTlJ"
      },
      "source": [
        "<a id=\"six\"></a>\n",
        "# **6. MODEL PERFORMANCE**\n",
        "<a class=\"anchor\" id=\"1.1\"></a>\n",
        "<a href=#cont>Back to Table of Contents</a>\n",
        "\n",
        "---\n",
        "    \n",
        "| ⚡ Description: Model performance ⚡ |\n",
        "| :--------------------------- |\n",
        "| In this section you are required to compare the relative performance of the various trained ML models on a holdout dataset and comment on what model is the best and why. |\n",
        "\n",
        "---"
      ]
    },
    {
      "cell_type": "markdown",
      "metadata": {
        "id": "FK4WBNV9BTlK"
      },
      "source": [
        "### **6.1 Metrics for Model evaluation.**\n",
        "\n",
        ">There are many ways for measuring classification performance. Accuracy and confusion matrix are some of the most popular metrics. Precision-recall is a widely used metrics for classification problems.\n",
        "\n",
        ">>1. **Confusion Matrix**\n",
        "\n",
        ">A confusion matrix is defined as thetable that is often used to describe the performance of a classification model on a set of the test data for which the true values are known.\n",
        "\n",
        ">>><img src =\"https://drive.google.com/uc?id=1RIgdzp1ysRs0NYpY_VD-g1MUdzOBlNO-\" width = \"250\" height = '200'/>\n",
        "\n",
        ">>**True Positive**: We predicted positive and it’s true. \n",
        "\n",
        ">>**True Negative**: We predicted negative and it’s true. \n",
        "\n",
        ">>**False Positive (Type 1 Error)**- We predicted positive and it’s false. \n",
        "\n",
        ">>**False Negative (Type 2 Error)**- We predicted negative and it’s false. \n",
        "\n",
        "\n",
        ">It is extremely useful for measuring the Recall, Precision and Accuracy.\n",
        "\n",
        ">>2. **Accuracy**\n",
        "\n",
        ">This is simply measures how often the classifier correctly predicts. We can define accuracy as the ratio of the number of correct predictions and the total number of predictions.\n",
        "\n",
        "\\begin{align}\n",
        "        \\text{Accuracy = }\\left. \\frac{TP + TN}{TP + TN + FP + FN} \\right.\n",
        "    \\end{align}\n",
        "\n",
        ">Accuracy is useful when the target class is well balanced but is not a good choice for the unbalanced classes.\n",
        "\n",
        ">>3. **Recall (Sensitivity)** \n",
        "\n",
        ">Recall explains how many of the actual positive cases we were able to predict correctly with our model. It is a useful metric in cases where False Negative is of higher concern than False Positive.\n",
        "\n",
        "\\begin{align}\n",
        "        \\text{Recall = }\\left. \\frac{TP}{TP + FN} \\right.\n",
        "    \\end{align}\n",
        "\n",
        ">>4. **F1 Score**\n",
        "\n",
        ">It gives a combined idea about Precision and Recall metrics. It is maximum when Precision is equal to Recall.\n",
        "\n",
        "\\begin{align}\n",
        "        \\text{F1 = }\\left. \\mathbf{2} \\cdot \\mathbf{\\frac{Precision * Recall}{Precision + Recall}} \\right.\n",
        "    \\end{align}\n",
        "\n",
        ">The F1 score punishes extreme values more. F1 Score could be an effective evaluation metric in the following cases:\n",
        "\n",
        ">>* When FP and FN are equally costly.\n",
        ">>* Adding more data doesn’t effectively change the outcome\n",
        ">>* True Negative is high"
      ]
    },
    {
      "cell_type": "code",
      "execution_count": 87,
      "metadata": {
        "id": "8I-R2l0LBTlL"
      },
      "outputs": [],
      "source": [
        "names = ['Logistic Regression', \n",
        "         'Passive Aggresive classifier',  \n",
        "         'Support Vector Machine', \n",
        "         'Random Forest', \n",
        "         'Multinomial Naive Bayes']"
      ]
    },
    {
      "cell_type": "code",
      "execution_count": 88,
      "metadata": {
        "id": "2VLEeQKMBTlL"
      },
      "outputs": [],
      "source": [
        "classifiers = [\n",
        "    LogisticRegression(multi_class='ovr'),\n",
        "    PassiveAggressiveClassifier(),\n",
        "    SVC(),\n",
        "    RandomForestClassifier(),    \n",
        "    MultinomialNB()\n",
        "]"
      ]
    },
    {
      "cell_type": "code",
      "execution_count": 89,
      "metadata": {
        "colab": {
          "base_uri": "https://localhost:8080/"
        },
        "outputId": "856b1d2f-28df-43fe-ff31-192535351310",
        "id": "b6h_YZGLBTlM"
      },
      "outputs": [
        {
          "output_type": "stream",
          "name": "stdout",
          "text": [
            "Fitting Logistic Regression model...\n",
            "... predicting\n",
            "... scoring\n",
            "Fitting Passive Aggresive classifier model...\n",
            "... predicting\n",
            "... scoring\n",
            "Fitting Support Vector Machine model...\n",
            "... predicting\n",
            "... scoring\n",
            "Fitting Random Forest model...\n",
            "... predicting\n",
            "... scoring\n",
            "Fitting Multinomial Naive Bayes model...\n",
            "... predicting\n",
            "... scoring\n",
            "... All done!\n"
          ]
        }
      ],
      "source": [
        "results = []\n",
        "\n",
        "models = {}\n",
        "confusion = {}\n",
        "class_report = {}\n",
        "\n",
        "\n",
        "for name, clf in zip(names, classifiers):    \n",
        "    print ('Fitting {:s} model...'.format(name))\n",
        "    model = clf.fit(X_train, y_train)\n",
        "    \n",
        "    print ('... predicting')   \n",
        "    y_pred_test = clf.predict(X_test)\n",
        "    \n",
        "    print ('... scoring')\n",
        "    accuracy  = metrics.accuracy_score(y_test, y_pred_test)\n",
        "    precision = metrics.precision_score(y_test, y_pred_test, average = 'weighted')\n",
        "    recall    = metrics.recall_score(y_test, y_pred_test, average = 'weighted')\n",
        "       \n",
        "    f1_test   = metrics.f1_score(y_test, y_pred_test, average = 'weighted')    \n",
        "    \n",
        "    # Save the results to dictionaries\n",
        "    models[name] = clf    \n",
        "    confusion[name] = metrics.confusion_matrix(y_test, y_pred_test)\n",
        "    class_report[name] = metrics.classification_report(y_test, y_pred_test)\n",
        "    \n",
        "    results.append([name, accuracy, precision, recall, f1_test])\n",
        "\n",
        "    \n",
        "results = pd.DataFrame(results, columns=['Classifier', 'Accuracy', 'Precision', 'Recall', 'F1 Test'])\n",
        "results.set_index('Classifier', inplace= True)\n",
        "\n",
        "print ('... All done!')"
      ]
    },
    {
      "cell_type": "code",
      "execution_count": 90,
      "metadata": {
        "colab": {
          "base_uri": "https://localhost:8080/",
          "height": 237
        },
        "outputId": "f13dbfcf-a996-4ec8-a1a7-dede68e22d0f",
        "id": "xoTItNPeBTlM"
      },
      "outputs": [
        {
          "output_type": "execute_result",
          "data": {
            "text/plain": [
              "                              Accuracy  Precision    Recall   F1 Test\n",
              "Classifier                                                           \n",
              "Multinomial Naive Bayes       0.997576   0.997581  0.997576  0.997576\n",
              "Logistic Regression           0.993333   0.993345  0.993333  0.993334\n",
              "Passive Aggresive classifier  0.990606   0.990627  0.990606  0.990612\n",
              "Support Vector Machine        0.990303   0.990332  0.990303  0.990295\n",
              "Random Forest                 0.978333   0.978565  0.978333  0.978322"
            ],
            "text/html": [
              "\n",
              "  <div id=\"df-255cafb8-7d36-45d5-a3c9-ef0a78a567a8\">\n",
              "    <div class=\"colab-df-container\">\n",
              "      <div>\n",
              "<style scoped>\n",
              "    .dataframe tbody tr th:only-of-type {\n",
              "        vertical-align: middle;\n",
              "    }\n",
              "\n",
              "    .dataframe tbody tr th {\n",
              "        vertical-align: top;\n",
              "    }\n",
              "\n",
              "    .dataframe thead th {\n",
              "        text-align: right;\n",
              "    }\n",
              "</style>\n",
              "<table border=\"1\" class=\"dataframe\">\n",
              "  <thead>\n",
              "    <tr style=\"text-align: right;\">\n",
              "      <th></th>\n",
              "      <th>Accuracy</th>\n",
              "      <th>Precision</th>\n",
              "      <th>Recall</th>\n",
              "      <th>F1 Test</th>\n",
              "    </tr>\n",
              "    <tr>\n",
              "      <th>Classifier</th>\n",
              "      <th></th>\n",
              "      <th></th>\n",
              "      <th></th>\n",
              "      <th></th>\n",
              "    </tr>\n",
              "  </thead>\n",
              "  <tbody>\n",
              "    <tr>\n",
              "      <th>Multinomial Naive Bayes</th>\n",
              "      <td>0.997576</td>\n",
              "      <td>0.997581</td>\n",
              "      <td>0.997576</td>\n",
              "      <td>0.997576</td>\n",
              "    </tr>\n",
              "    <tr>\n",
              "      <th>Logistic Regression</th>\n",
              "      <td>0.993333</td>\n",
              "      <td>0.993345</td>\n",
              "      <td>0.993333</td>\n",
              "      <td>0.993334</td>\n",
              "    </tr>\n",
              "    <tr>\n",
              "      <th>Passive Aggresive classifier</th>\n",
              "      <td>0.990606</td>\n",
              "      <td>0.990627</td>\n",
              "      <td>0.990606</td>\n",
              "      <td>0.990612</td>\n",
              "    </tr>\n",
              "    <tr>\n",
              "      <th>Support Vector Machine</th>\n",
              "      <td>0.990303</td>\n",
              "      <td>0.990332</td>\n",
              "      <td>0.990303</td>\n",
              "      <td>0.990295</td>\n",
              "    </tr>\n",
              "    <tr>\n",
              "      <th>Random Forest</th>\n",
              "      <td>0.978333</td>\n",
              "      <td>0.978565</td>\n",
              "      <td>0.978333</td>\n",
              "      <td>0.978322</td>\n",
              "    </tr>\n",
              "  </tbody>\n",
              "</table>\n",
              "</div>\n",
              "      <button class=\"colab-df-convert\" onclick=\"convertToInteractive('df-255cafb8-7d36-45d5-a3c9-ef0a78a567a8')\"\n",
              "              title=\"Convert this dataframe to an interactive table.\"\n",
              "              style=\"display:none;\">\n",
              "        \n",
              "  <svg xmlns=\"http://www.w3.org/2000/svg\" height=\"24px\"viewBox=\"0 0 24 24\"\n",
              "       width=\"24px\">\n",
              "    <path d=\"M0 0h24v24H0V0z\" fill=\"none\"/>\n",
              "    <path d=\"M18.56 5.44l.94 2.06.94-2.06 2.06-.94-2.06-.94-.94-2.06-.94 2.06-2.06.94zm-11 1L8.5 8.5l.94-2.06 2.06-.94-2.06-.94L8.5 2.5l-.94 2.06-2.06.94zm10 10l.94 2.06.94-2.06 2.06-.94-2.06-.94-.94-2.06-.94 2.06-2.06.94z\"/><path d=\"M17.41 7.96l-1.37-1.37c-.4-.4-.92-.59-1.43-.59-.52 0-1.04.2-1.43.59L10.3 9.45l-7.72 7.72c-.78.78-.78 2.05 0 2.83L4 21.41c.39.39.9.59 1.41.59.51 0 1.02-.2 1.41-.59l7.78-7.78 2.81-2.81c.8-.78.8-2.07 0-2.86zM5.41 20L4 18.59l7.72-7.72 1.47 1.35L5.41 20z\"/>\n",
              "  </svg>\n",
              "      </button>\n",
              "      \n",
              "  <style>\n",
              "    .colab-df-container {\n",
              "      display:flex;\n",
              "      flex-wrap:wrap;\n",
              "      gap: 12px;\n",
              "    }\n",
              "\n",
              "    .colab-df-convert {\n",
              "      background-color: #E8F0FE;\n",
              "      border: none;\n",
              "      border-radius: 50%;\n",
              "      cursor: pointer;\n",
              "      display: none;\n",
              "      fill: #1967D2;\n",
              "      height: 32px;\n",
              "      padding: 0 0 0 0;\n",
              "      width: 32px;\n",
              "    }\n",
              "\n",
              "    .colab-df-convert:hover {\n",
              "      background-color: #E2EBFA;\n",
              "      box-shadow: 0px 1px 2px rgba(60, 64, 67, 0.3), 0px 1px 3px 1px rgba(60, 64, 67, 0.15);\n",
              "      fill: #174EA6;\n",
              "    }\n",
              "\n",
              "    [theme=dark] .colab-df-convert {\n",
              "      background-color: #3B4455;\n",
              "      fill: #D2E3FC;\n",
              "    }\n",
              "\n",
              "    [theme=dark] .colab-df-convert:hover {\n",
              "      background-color: #434B5C;\n",
              "      box-shadow: 0px 1px 3px 1px rgba(0, 0, 0, 0.15);\n",
              "      filter: drop-shadow(0px 1px 2px rgba(0, 0, 0, 0.3));\n",
              "      fill: #FFFFFF;\n",
              "    }\n",
              "  </style>\n",
              "\n",
              "      <script>\n",
              "        const buttonEl =\n",
              "          document.querySelector('#df-255cafb8-7d36-45d5-a3c9-ef0a78a567a8 button.colab-df-convert');\n",
              "        buttonEl.style.display =\n",
              "          google.colab.kernel.accessAllowed ? 'block' : 'none';\n",
              "\n",
              "        async function convertToInteractive(key) {\n",
              "          const element = document.querySelector('#df-255cafb8-7d36-45d5-a3c9-ef0a78a567a8');\n",
              "          const dataTable =\n",
              "            await google.colab.kernel.invokeFunction('convertToInteractive',\n",
              "                                                     [key], {});\n",
              "          if (!dataTable) return;\n",
              "\n",
              "          const docLinkHtml = 'Like what you see? Visit the ' +\n",
              "            '<a target=\"_blank\" href=https://colab.research.google.com/notebooks/data_table.ipynb>data table notebook</a>'\n",
              "            + ' to learn more about interactive tables.';\n",
              "          element.innerHTML = '';\n",
              "          dataTable['output_type'] = 'display_data';\n",
              "          await google.colab.output.renderOutput(dataTable, element);\n",
              "          const docLink = document.createElement('div');\n",
              "          docLink.innerHTML = docLinkHtml;\n",
              "          element.appendChild(docLink);\n",
              "        }\n",
              "      </script>\n",
              "    </div>\n",
              "  </div>\n",
              "  "
            ]
          },
          "metadata": {},
          "execution_count": 90
        }
      ],
      "source": [
        "results.sort_values('F1 Test', ascending=False)"
      ]
    },
    {
      "cell_type": "code",
      "execution_count": null,
      "metadata": {
        "colab": {
          "base_uri": "https://localhost:8080/",
          "height": 407
        },
        "outputId": "75e8fb29-5f86-4f54-c2cb-95c1045c7b44",
        "id": "ZJnstFULBTlN"
      },
      "outputs": [
        {
          "output_type": "display_data",
          "data": {
            "text/plain": [
              "<Figure size 432x288 with 1 Axes>"
            ],
            "image/png": "[encoded data removed]"
          },
          "metadata": {
            "needs_background": "light"
          }
        }
      ],
      "source": [
        "# plot the results on bar graphs \n",
        "\n",
        "results.sort_values('F1 Test', ascending=False, inplace=True)\n",
        "results['F1 Test'].plot(kind = 'bar', facecolor='g', alpha=0.65)\n",
        "plt.xlabel('Classifier')\n",
        "plt.ylabel('F1 score')\n",
        "plt.show()"
      ]
    },
    {
      "cell_type": "markdown",
      "source": [
        "**Key Insights:**\n",
        "\n",
        "The Multinomial Naive Bayes classifier model was the highest-performing model with an f1_score of 0.997576, while the random forest classifier was the least-performing with an f1_score of 0.977738. "
      ],
      "metadata": {
        "id": "8hY23aLMB7oO"
      }
    },
    {
      "cell_type": "markdown",
      "source": [
        "# **7. MODEL IMPROVEMENT - FEATURE SELECTION USING THE VARIANCE THRESHOLDING AND KBEST FEATURES TECHNIQUES**"
      ],
      "metadata": {
        "id": "qlnFG2ejK_58"
      }
    },
    {
      "cell_type": "markdown",
      "source": [
        "### **7.1 The Variance Threshold Technique**"
      ],
      "metadata": {
        "id": "rGBP2Fk7K_59"
      }
    },
    {
      "cell_type": "code",
      "source": [
        "# Import the var thresh model and choose a threshold\n",
        "from sklearn.feature_selection import VarianceThreshold\n",
        "selector = VarianceThreshold(threshold=0.000001)\n",
        "\n",
        "# Transform (i.e.: run selection on) the training data\n",
        "X_train_vt = selector.fit_transform(X_train)\n",
        "\n",
        "# Now we'll need to remove the same features we did in the thresholding process\n",
        "X_test_vt = selector.transform(X_test)\n",
        "\n",
        "X_train_vt.shape"
      ],
      "metadata": {
        "colab": {
          "base_uri": "https://localhost:8080/"
        },
        "outputId": "0202fc2e-c7ce-4409-945b-46f3c022bd10",
        "id": "YvSrgZrdK_5-"
      },
      "execution_count": 120,
      "outputs": [
        {
          "output_type": "execute_result",
          "data": {
            "text/plain": [
              "(26400, 20000)"
            ]
          },
          "metadata": {},
          "execution_count": 120
        }
      ]
    },
    {
      "cell_type": "code",
      "source": [
        "# Instanciate a MultinomialNB model\n",
        "mnb_vt = MultinomialNB()\n",
        "\n",
        "# Fit model to the transformed data\n",
        "mnb_vt.fit(X_train_vt, y_train)\n",
        "\n",
        "mnb_vt_predictions = mnb_vt.predict(X_test_vt)\n",
        "\n",
        "print(classification_report(y_test, mnb_vt_predictions))"
      ],
      "metadata": {
        "colab": {
          "base_uri": "https://localhost:8080/"
        },
        "outputId": "280327a8-8169-41e4-a348-59812ec9ddab",
        "id": "fCRKI0bkK_6A"
      },
      "execution_count": 121,
      "outputs": [
        {
          "output_type": "stream",
          "name": "stdout",
          "text": [
            "              precision    recall  f1-score   support\n",
            "\n",
            "         afr       1.00      1.00      1.00       583\n",
            "         eng       1.00      1.00      1.00       615\n",
            "         nbl       0.99      0.99      0.99       583\n",
            "         nso       1.00      1.00      1.00       625\n",
            "         sot       1.00      1.00      1.00       618\n",
            "         ssw       1.00      1.00      1.00       584\n",
            "         tsn       1.00      1.00      1.00       598\n",
            "         tso       1.00      1.00      1.00       561\n",
            "         ven       1.00      1.00      1.00       634\n",
            "         xho       1.00      0.99      0.99       609\n",
            "         zul       0.99      0.99      0.99       590\n",
            "\n",
            "    accuracy                           1.00      6600\n",
            "   macro avg       1.00      1.00      1.00      6600\n",
            "weighted avg       1.00      1.00      1.00      6600\n",
            "\n"
          ]
        }
      ]
    },
    {
      "cell_type": "code",
      "source": [
        "# Make prediction with RandomForestClasifier model and the test data\n",
        "y_pred_mnb_vt = mnb_vt.predict(X_count_test)\n",
        "\n",
        "# then, create a dataframe for the predicted results\n",
        "mnb_df_vt = pd.DataFrame({\n",
        "    'index': df_test['index'],\n",
        "    'lang_id': y_pred_mnb_vt\n",
        "})\n",
        "\n",
        "print(mnb_df_vt.head())\n",
        "\n",
        "# finally, convert the predicted results to a csv file for Kaggle submission\n",
        "mnb_df_vt.to_csv('submission_mnb_vt.csv',index=False)"
      ],
      "metadata": {
        "colab": {
          "base_uri": "https://localhost:8080/"
        },
        "id": "HyzXOnvULjhu",
        "outputId": "bf8eb0fd-3ee1-46f7-f947-b9f1decd2847"
      },
      "execution_count": 123,
      "outputs": [
        {
          "output_type": "stream",
          "name": "stdout",
          "text": [
            "   index lang_id\n",
            "0      1     tsn\n",
            "1      2     nbl\n",
            "2      3     ven\n",
            "3      4     ssw\n",
            "4      5     afr\n"
          ]
        }
      ]
    },
    {
      "cell_type": "markdown",
      "source": [
        "### **7.2 The KBest Features Technique**"
      ],
      "metadata": {
        "id": "9VWu1ckHK_6B"
      }
    },
    {
      "cell_type": "code",
      "source": [
        "# Import the feature selector module\n",
        "from sklearn import feature_selection\n",
        "from sklearn.feature_selection import f_classif\n",
        "\n",
        "# Set up selector, choosing score function and number of features to retain\n",
        "selector_kbest = feature_selection.SelectKBest(score_func=f_classif, k=15500)\n",
        "\n",
        "# Transform (i.e.: run selection on) the training data\n",
        "X_train_kbest = selector_kbest.fit_transform(X_train, y_train)\n",
        "X_train_kbest.shape"
      ],
      "metadata": {
        "colab": {
          "base_uri": "https://localhost:8080/"
        },
        "outputId": "e07ceb7b-6b9a-41c1-b6f3-05c7ab13d75b",
        "id": "i9qblhOdK_6C"
      },
      "execution_count": null,
      "outputs": [
        {
          "output_type": "execute_result",
          "data": {
            "text/plain": [
              "(26400, 15500)"
            ]
          },
          "metadata": {},
          "execution_count": 116
        }
      ]
    },
    {
      "cell_type": "code",
      "source": [
        "# Fit model to the transformed data\n",
        "mnb_kbest = MultinomialNB()\n",
        "mnb_kbest.fit(X_train_kbest, y_train)\n",
        "\n",
        "X_test_kbest = selector_kbest.transform(X_test)\n",
        "\n",
        "# Generate predictions from var thresh model\n",
        "pred_mnb_kbest = mnb_kbest.predict(X_test_kbest)\n",
        "\n",
        "print(classification_report(y_test, pred_mnb_kbest))"
      ],
      "metadata": {
        "colab": {
          "base_uri": "https://localhost:8080/"
        },
        "outputId": "c6954269-2b4d-46cf-c1b4-d4dd299a716f",
        "id": "K3CopYIiK_6E"
      },
      "execution_count": null,
      "outputs": [
        {
          "output_type": "stream",
          "name": "stdout",
          "text": [
            "              precision    recall  f1-score   support\n",
            "\n",
            "         afr       1.00      1.00      1.00       583\n",
            "         eng       1.00      1.00      1.00       615\n",
            "         nbl       0.99      0.99      0.99       583\n",
            "         nso       1.00      1.00      1.00       625\n",
            "         sot       1.00      1.00      1.00       618\n",
            "         ssw       1.00      1.00      1.00       584\n",
            "         tsn       1.00      1.00      1.00       598\n",
            "         tso       1.00      1.00      1.00       561\n",
            "         ven       1.00      1.00      1.00       634\n",
            "         xho       1.00      1.00      1.00       609\n",
            "         zul       0.99      0.98      0.99       590\n",
            "\n",
            "    accuracy                           1.00      6600\n",
            "   macro avg       1.00      1.00      1.00      6600\n",
            "weighted avg       1.00      1.00      1.00      6600\n",
            "\n"
          ]
        }
      ]
    },
    {
      "cell_type": "code",
      "source": [
        "# Make prediction with RandomForestClasifier model and the test data\n",
        "y_pred_mnb_kbest = mnb_kbest.predict(X_count_test)\n",
        "\n",
        "# then, create a dataframe for the predicted results\n",
        "mnb_df_kbest = pd.DataFrame({\n",
        "    'index': df_test['index'],\n",
        "    'lang_id': y_pred_mnb_kbest\n",
        "})\n",
        "\n",
        "print(mnb_df_kbest.head())\n",
        "\n",
        "# finally, convert the predicted results to a csv file for Kaggle submission\n",
        "mnb_df_kbest.to_csv('submission_mnb_kbest.csv',index=False)"
      ],
      "metadata": {
        "colab": {
          "base_uri": "https://localhost:8080/"
        },
        "outputId": "79e2bfa3-13cd-4047-aa57-e457b20e38dd",
        "id": "7N2MDooxK_6F"
      },
      "execution_count": null,
      "outputs": [
        {
          "output_type": "stream",
          "name": "stdout",
          "text": [
            "   index lang_id\n",
            "0      1     tsn\n",
            "1      2     nbl\n",
            "2      3     ven\n",
            "3      4     ssw\n",
            "4      5     afr\n"
          ]
        }
      ]
    },
    {
      "cell_type": "markdown",
      "metadata": {
        "id": "436677ad"
      },
      "source": [
        "# **8. MAKE PREDICTIONS WITH THE MODELS GENERATED ABOVE FOR KAGGLE SUBMISSION**  \n",
        "\n",
        "We generate predictions for five different models above:\n",
        "- **y_pred_logistic** (Logistics Regression model)\n",
        "- **y_pred_pac** (Passive Aggressive Classifier\n",
        "- **y_pred_svc** (SVC model)\n",
        "- **y_pred_random** (RandomForestClasifier model)\n",
        "- **y_pred_mnb** (MultinomialNB)\n"
      ]
    },
    {
      "cell_type": "markdown",
      "metadata": {
        "id": "4df73761"
      },
      "source": [
        "### **8.1 Logistic Regression Model**\n",
        "\n",
        "Create predictions from the logistic regression model "
      ]
    },
    {
      "cell_type": "code",
      "execution_count": 59,
      "metadata": {
        "id": "aed41951",
        "colab": {
          "base_uri": "https://localhost:8080/"
        },
        "outputId": "e1ba8720-966e-4bdf-af3f-def8efeb7211"
      },
      "outputs": [
        {
          "output_type": "stream",
          "name": "stdout",
          "text": [
            "   index lang_id\n",
            "0      1     ssw\n",
            "1      2     nbl\n",
            "2      3     ssw\n",
            "3      4     ssw\n",
            "4      5     ssw\n"
          ]
        }
      ],
      "source": [
        "# Make prediction with logistics regression model and the test data\n",
        "y_pred_logistic = logreg_model.predict(X_count_test)\n",
        "\n",
        "# then, create a dataframe of the predicted results  \n",
        "logreg_df = pd.DataFrame({\n",
        "    'index': df_test['index'],\n",
        "    'lang_id': y_pred_logistic\n",
        "})\n",
        "\n",
        "print(logreg_df.head())\n",
        "\n",
        "# finally, convert the predicted results to a csv file for Kaggle submission\n",
        "logreg_df.to_csv('submission_logreg.csv',index=False)"
      ]
    },
    {
      "cell_type": "markdown",
      "metadata": {
        "id": "53cf8998"
      },
      "source": [
        "### **8.2 Passive aggressive classifier**\n",
        "\n",
        "Create predictions from the passive aggressive classifier [link text](https://)model"
      ]
    },
    {
      "cell_type": "code",
      "execution_count": 63,
      "metadata": {
        "colab": {
          "base_uri": "https://localhost:8080/"
        },
        "id": "170b0e0c",
        "outputId": "324d8f46-3297-4e6d-a905-fb4b7de9a571"
      },
      "outputs": [
        {
          "output_type": "stream",
          "name": "stdout",
          "text": [
            "   index lang_id\n",
            "0      1     tsn\n",
            "1      2     nbl\n",
            "2      3     ven\n",
            "3      4     ssw\n",
            "4      5     afr\n"
          ]
        }
      ],
      "source": [
        "# Make prediction with logistics regression model and the test data\n",
        "y_pred_pac = pac_model.predict(X_count_test)\n",
        "\n",
        "# then, create a dataframe of the predicted results \n",
        "pac_df = pd.DataFrame({\n",
        "    'index': df_test['index'],\n",
        "    'lang_id': y_pred_pac\n",
        "})\n",
        "\n",
        "print(pac_df.head())\n",
        "\n",
        "# finally, convert the predicted results to a csv file for Kaggle submission\n",
        "pac_df.to_csv('submission_pac.csv',index=False)"
      ]
    },
    {
      "cell_type": "markdown",
      "metadata": {
        "id": "0af0e828"
      },
      "source": [
        "### **8.3 Support vector machine classifier**\n",
        "\n",
        "Create predictions from the support vector machine classifier model"
      ]
    },
    {
      "cell_type": "code",
      "execution_count": 55,
      "metadata": {
        "id": "8302ffca",
        "colab": {
          "base_uri": "https://localhost:8080/",
          "height": 206
        },
        "outputId": "be2219db-5918-4150-abb7-1fa59e200365"
      },
      "outputs": [
        {
          "output_type": "execute_result",
          "data": {
            "text/plain": [
              "   index lang_id\n",
              "0      1     ssw\n",
              "1      2     nbl\n",
              "2      3     ssw\n",
              "3      4     ssw\n",
              "4      5     ssw"
            ],
            "text/html": [
              "\n",
              "  <div id=\"df-86f441b9-dd0d-45d3-9920-b24a33d26fca\">\n",
              "    <div class=\"colab-df-container\">\n",
              "      <div>\n",
              "<style scoped>\n",
              "    .dataframe tbody tr th:only-of-type {\n",
              "        vertical-align: middle;\n",
              "    }\n",
              "\n",
              "    .dataframe tbody tr th {\n",
              "        vertical-align: top;\n",
              "    }\n",
              "\n",
              "    .dataframe thead th {\n",
              "        text-align: right;\n",
              "    }\n",
              "</style>\n",
              "<table border=\"1\" class=\"dataframe\">\n",
              "  <thead>\n",
              "    <tr style=\"text-align: right;\">\n",
              "      <th></th>\n",
              "      <th>index</th>\n",
              "      <th>lang_id</th>\n",
              "    </tr>\n",
              "  </thead>\n",
              "  <tbody>\n",
              "    <tr>\n",
              "      <th>0</th>\n",
              "      <td>1</td>\n",
              "      <td>ssw</td>\n",
              "    </tr>\n",
              "    <tr>\n",
              "      <th>1</th>\n",
              "      <td>2</td>\n",
              "      <td>nbl</td>\n",
              "    </tr>\n",
              "    <tr>\n",
              "      <th>2</th>\n",
              "      <td>3</td>\n",
              "      <td>ssw</td>\n",
              "    </tr>\n",
              "    <tr>\n",
              "      <th>3</th>\n",
              "      <td>4</td>\n",
              "      <td>ssw</td>\n",
              "    </tr>\n",
              "    <tr>\n",
              "      <th>4</th>\n",
              "      <td>5</td>\n",
              "      <td>ssw</td>\n",
              "    </tr>\n",
              "  </tbody>\n",
              "</table>\n",
              "</div>\n",
              "      <button class=\"colab-df-convert\" onclick=\"convertToInteractive('df-86f441b9-dd0d-45d3-9920-b24a33d26fca')\"\n",
              "              title=\"Convert this dataframe to an interactive table.\"\n",
              "              style=\"display:none;\">\n",
              "        \n",
              "  <svg xmlns=\"http://www.w3.org/2000/svg\" height=\"24px\"viewBox=\"0 0 24 24\"\n",
              "       width=\"24px\">\n",
              "    <path d=\"M0 0h24v24H0V0z\" fill=\"none\"/>\n",
              "    <path d=\"M18.56 5.44l.94 2.06.94-2.06 2.06-.94-2.06-.94-.94-2.06-.94 2.06-2.06.94zm-11 1L8.5 8.5l.94-2.06 2.06-.94-2.06-.94L8.5 2.5l-.94 2.06-2.06.94zm10 10l.94 2.06.94-2.06 2.06-.94-2.06-.94-.94-2.06-.94 2.06-2.06.94z\"/><path d=\"M17.41 7.96l-1.37-1.37c-.4-.4-.92-.59-1.43-.59-.52 0-1.04.2-1.43.59L10.3 9.45l-7.72 7.72c-.78.78-.78 2.05 0 2.83L4 21.41c.39.39.9.59 1.41.59.51 0 1.02-.2 1.41-.59l7.78-7.78 2.81-2.81c.8-.78.8-2.07 0-2.86zM5.41 20L4 18.59l7.72-7.72 1.47 1.35L5.41 20z\"/>\n",
              "  </svg>\n",
              "      </button>\n",
              "      \n",
              "  <style>\n",
              "    .colab-df-container {\n",
              "      display:flex;\n",
              "      flex-wrap:wrap;\n",
              "      gap: 12px;\n",
              "    }\n",
              "\n",
              "    .colab-df-convert {\n",
              "      background-color: #E8F0FE;\n",
              "      border: none;\n",
              "      border-radius: 50%;\n",
              "      cursor: pointer;\n",
              "      display: none;\n",
              "      fill: #1967D2;\n",
              "      height: 32px;\n",
              "      padding: 0 0 0 0;\n",
              "      width: 32px;\n",
              "    }\n",
              "\n",
              "    .colab-df-convert:hover {\n",
              "      background-color: #E2EBFA;\n",
              "      box-shadow: 0px 1px 2px rgba(60, 64, 67, 0.3), 0px 1px 3px 1px rgba(60, 64, 67, 0.15);\n",
              "      fill: #174EA6;\n",
              "    }\n",
              "\n",
              "    [theme=dark] .colab-df-convert {\n",
              "      background-color: #3B4455;\n",
              "      fill: #D2E3FC;\n",
              "    }\n",
              "\n",
              "    [theme=dark] .colab-df-convert:hover {\n",
              "      background-color: #434B5C;\n",
              "      box-shadow: 0px 1px 3px 1px rgba(0, 0, 0, 0.15);\n",
              "      filter: drop-shadow(0px 1px 2px rgba(0, 0, 0, 0.3));\n",
              "      fill: #FFFFFF;\n",
              "    }\n",
              "  </style>\n",
              "\n",
              "      <script>\n",
              "        const buttonEl =\n",
              "          document.querySelector('#df-86f441b9-dd0d-45d3-9920-b24a33d26fca button.colab-df-convert');\n",
              "        buttonEl.style.display =\n",
              "          google.colab.kernel.accessAllowed ? 'block' : 'none';\n",
              "\n",
              "        async function convertToInteractive(key) {\n",
              "          const element = document.querySelector('#df-86f441b9-dd0d-45d3-9920-b24a33d26fca');\n",
              "          const dataTable =\n",
              "            await google.colab.kernel.invokeFunction('convertToInteractive',\n",
              "                                                     [key], {});\n",
              "          if (!dataTable) return;\n",
              "\n",
              "          const docLinkHtml = 'Like what you see? Visit the ' +\n",
              "            '<a target=\"_blank\" href=https://colab.research.google.com/notebooks/data_table.ipynb>data table notebook</a>'\n",
              "            + ' to learn more about interactive tables.';\n",
              "          element.innerHTML = '';\n",
              "          dataTable['output_type'] = 'display_data';\n",
              "          await google.colab.output.renderOutput(dataTable, element);\n",
              "          const docLink = document.createElement('div');\n",
              "          docLink.innerHTML = docLinkHtml;\n",
              "          element.appendChild(docLink);\n",
              "        }\n",
              "      </script>\n",
              "    </div>\n",
              "  </div>\n",
              "  "
            ]
          },
          "metadata": {},
          "execution_count": 55
        }
      ],
      "source": [
        "# Make prediction with support vector model and the test data\n",
        "y_pred_svc = svc_model.predict(X_count_test)\n",
        "\n",
        "# then, create a dataframe for the predicted results \n",
        "svc_df = pd.DataFrame({\n",
        "    'index': df_test['index'],\n",
        "    'lang_id': y_pred_svc\n",
        "})\n",
        "\n",
        "print(svc_df.head())\n",
        "\n",
        "# finally, convert the predicted results to a csv file for Kaggle submission\n",
        "svc_df.to_csv('submission_svc.csv',index=False)"
      ]
    },
    {
      "cell_type": "markdown",
      "metadata": {
        "id": "446aa241"
      },
      "source": [
        "### **8.4 Random forest classifier model**\n",
        "\n",
        "Create predictions from the random forest classifier regression model"
      ]
    },
    {
      "cell_type": "code",
      "execution_count": 60,
      "metadata": {
        "id": "8e36b066",
        "colab": {
          "base_uri": "https://localhost:8080/"
        },
        "outputId": "2c6617b3-fe3a-455e-9faa-35b8480b130b"
      },
      "outputs": [
        {
          "output_type": "stream",
          "name": "stdout",
          "text": [
            "   index lang_id\n",
            "0      1     ssw\n",
            "1      2     nbl\n",
            "2      3     ssw\n",
            "3      4     ssw\n",
            "4      5     ssw\n"
          ]
        }
      ],
      "source": [
        "# Make prediction with random forest clasifier model and the test data\n",
        "y_pred_random = randomF_model.predict(X_count_test)\n",
        "\n",
        "# then, create a dataframe for the predicted results\n",
        "rf_df = pd.DataFrame({\n",
        "    'index': df_test['index'],\n",
        "    'lang_id': y_pred_random\n",
        "})\n",
        "\n",
        "print(rf_df.head())\n",
        "\n",
        "# finally, convert the predicted results to a csv file for Kaggle submission\n",
        "rf_df.to_csv('submission_rf.csv',index=False)"
      ]
    },
    {
      "cell_type": "markdown",
      "metadata": {
        "id": "50e37dec"
      },
      "source": [
        "### **8.5 Multinomial naive bayes classifier model**\n",
        "\n",
        "Create predictions from the multinomial naive bayes classifier model"
      ]
    },
    {
      "cell_type": "code",
      "execution_count": 58,
      "metadata": {
        "id": "5c35ebc4",
        "colab": {
          "base_uri": "https://localhost:8080/",
          "height": 206
        },
        "outputId": "3b6fedfb-8681-4804-da43-4ff918b1b19e"
      },
      "outputs": [
        {
          "output_type": "execute_result",
          "data": {
            "text/plain": [
              "   index lang_id\n",
              "0      1     ssw\n",
              "1      2     nbl\n",
              "2      3     ssw\n",
              "3      4     ssw\n",
              "4      5     ssw"
            ],
            "text/html": [
              "\n",
              "  <div id=\"df-6289b596-e9d6-49bf-a6d2-b4f8377bffcc\">\n",
              "    <div class=\"colab-df-container\">\n",
              "      <div>\n",
              "<style scoped>\n",
              "    .dataframe tbody tr th:only-of-type {\n",
              "        vertical-align: middle;\n",
              "    }\n",
              "\n",
              "    .dataframe tbody tr th {\n",
              "        vertical-align: top;\n",
              "    }\n",
              "\n",
              "    .dataframe thead th {\n",
              "        text-align: right;\n",
              "    }\n",
              "</style>\n",
              "<table border=\"1\" class=\"dataframe\">\n",
              "  <thead>\n",
              "    <tr style=\"text-align: right;\">\n",
              "      <th></th>\n",
              "      <th>index</th>\n",
              "      <th>lang_id</th>\n",
              "    </tr>\n",
              "  </thead>\n",
              "  <tbody>\n",
              "    <tr>\n",
              "      <th>0</th>\n",
              "      <td>1</td>\n",
              "      <td>ssw</td>\n",
              "    </tr>\n",
              "    <tr>\n",
              "      <th>1</th>\n",
              "      <td>2</td>\n",
              "      <td>nbl</td>\n",
              "    </tr>\n",
              "    <tr>\n",
              "      <th>2</th>\n",
              "      <td>3</td>\n",
              "      <td>ssw</td>\n",
              "    </tr>\n",
              "    <tr>\n",
              "      <th>3</th>\n",
              "      <td>4</td>\n",
              "      <td>ssw</td>\n",
              "    </tr>\n",
              "    <tr>\n",
              "      <th>4</th>\n",
              "      <td>5</td>\n",
              "      <td>ssw</td>\n",
              "    </tr>\n",
              "  </tbody>\n",
              "</table>\n",
              "</div>\n",
              "      <button class=\"colab-df-convert\" onclick=\"convertToInteractive('df-6289b596-e9d6-49bf-a6d2-b4f8377bffcc')\"\n",
              "              title=\"Convert this dataframe to an interactive table.\"\n",
              "              style=\"display:none;\">\n",
              "        \n",
              "  <svg xmlns=\"http://www.w3.org/2000/svg\" height=\"24px\"viewBox=\"0 0 24 24\"\n",
              "       width=\"24px\">\n",
              "    <path d=\"M0 0h24v24H0V0z\" fill=\"none\"/>\n",
              "    <path d=\"M18.56 5.44l.94 2.06.94-2.06 2.06-.94-2.06-.94-.94-2.06-.94 2.06-2.06.94zm-11 1L8.5 8.5l.94-2.06 2.06-.94-2.06-.94L8.5 2.5l-.94 2.06-2.06.94zm10 10l.94 2.06.94-2.06 2.06-.94-2.06-.94-.94-2.06-.94 2.06-2.06.94z\"/><path d=\"M17.41 7.96l-1.37-1.37c-.4-.4-.92-.59-1.43-.59-.52 0-1.04.2-1.43.59L10.3 9.45l-7.72 7.72c-.78.78-.78 2.05 0 2.83L4 21.41c.39.39.9.59 1.41.59.51 0 1.02-.2 1.41-.59l7.78-7.78 2.81-2.81c.8-.78.8-2.07 0-2.86zM5.41 20L4 18.59l7.72-7.72 1.47 1.35L5.41 20z\"/>\n",
              "  </svg>\n",
              "      </button>\n",
              "      \n",
              "  <style>\n",
              "    .colab-df-container {\n",
              "      display:flex;\n",
              "      flex-wrap:wrap;\n",
              "      gap: 12px;\n",
              "    }\n",
              "\n",
              "    .colab-df-convert {\n",
              "      background-color: #E8F0FE;\n",
              "      border: none;\n",
              "      border-radius: 50%;\n",
              "      cursor: pointer;\n",
              "      display: none;\n",
              "      fill: #1967D2;\n",
              "      height: 32px;\n",
              "      padding: 0 0 0 0;\n",
              "      width: 32px;\n",
              "    }\n",
              "\n",
              "    .colab-df-convert:hover {\n",
              "      background-color: #E2EBFA;\n",
              "      box-shadow: 0px 1px 2px rgba(60, 64, 67, 0.3), 0px 1px 3px 1px rgba(60, 64, 67, 0.15);\n",
              "      fill: #174EA6;\n",
              "    }\n",
              "\n",
              "    [theme=dark] .colab-df-convert {\n",
              "      background-color: #3B4455;\n",
              "      fill: #D2E3FC;\n",
              "    }\n",
              "\n",
              "    [theme=dark] .colab-df-convert:hover {\n",
              "      background-color: #434B5C;\n",
              "      box-shadow: 0px 1px 3px 1px rgba(0, 0, 0, 0.15);\n",
              "      filter: drop-shadow(0px 1px 2px rgba(0, 0, 0, 0.3));\n",
              "      fill: #FFFFFF;\n",
              "    }\n",
              "  </style>\n",
              "\n",
              "      <script>\n",
              "        const buttonEl =\n",
              "          document.querySelector('#df-6289b596-e9d6-49bf-a6d2-b4f8377bffcc button.colab-df-convert');\n",
              "        buttonEl.style.display =\n",
              "          google.colab.kernel.accessAllowed ? 'block' : 'none';\n",
              "\n",
              "        async function convertToInteractive(key) {\n",
              "          const element = document.querySelector('#df-6289b596-e9d6-49bf-a6d2-b4f8377bffcc');\n",
              "          const dataTable =\n",
              "            await google.colab.kernel.invokeFunction('convertToInteractive',\n",
              "                                                     [key], {});\n",
              "          if (!dataTable) return;\n",
              "\n",
              "          const docLinkHtml = 'Like what you see? Visit the ' +\n",
              "            '<a target=\"_blank\" href=https://colab.research.google.com/notebooks/data_table.ipynb>data table notebook</a>'\n",
              "            + ' to learn more about interactive tables.';\n",
              "          element.innerHTML = '';\n",
              "          dataTable['output_type'] = 'display_data';\n",
              "          await google.colab.output.renderOutput(dataTable, element);\n",
              "          const docLink = document.createElement('div');\n",
              "          docLink.innerHTML = docLinkHtml;\n",
              "          element.appendChild(docLink);\n",
              "        }\n",
              "      </script>\n",
              "    </div>\n",
              "  </div>\n",
              "  "
            ]
          },
          "metadata": {},
          "execution_count": 58
        }
      ],
      "source": [
        "# Make prediction with RandomForestClasifier model and the test data\n",
        "y_pred_mnb = mnb_model.predict(X_count_test)\n",
        "\n",
        "# then, create a dataframe for the predicted results\n",
        "mnb_df = pd.DataFrame({\n",
        "    'index': df_test['index'],\n",
        "    'lang_id': y_pred_mnb\n",
        "})\n",
        "\n",
        "print(mnb_df.head())\n",
        "\n",
        "# finally, convert the predicted results to a csv file for Kaggle submission\n",
        "mnb_df.to_csv('submission_mnb.csv',index=False)"
      ]
    },
    {
      "cell_type": "code",
      "source": [
        "# instantiate a logistic regression model\n",
        "pac_model = PassiveAggressiveClassifier()\n",
        "\n",
        "# Create and store hyperparameters values\n",
        "Cs = [0.001, 0.01, 0.1, 1, 10]\n",
        "\n",
        "# Store hyperparameters in a dictionary\n",
        "parameters = {\n",
        "    'C' : Cs,\n",
        "}\n",
        "\n",
        "# Instanciate a GridsearchCV and train same with \n",
        "pac_model_ht = GridSearchCV(pac_model, parameters)\n",
        "\n",
        "# Train, predict and evaluate model performance \n",
        "(pac_model_ht, model_per) = model_eval(pac_model_ht)\n",
        "\n",
        "# Print model classification report\n",
        "print(\"\\n\\nClassification Report:\\n\\n\",model_per)"
      ],
      "metadata": {
        "colab": {
          "base_uri": "https://localhost:8080/"
        },
        "id": "qeqri2nR7onk",
        "outputId": "80362348-4118-416f-bcfe-9e4bcf85a2c9"
      },
      "execution_count": 44,
      "outputs": [
        {
          "output_type": "stream",
          "name": "stdout",
          "text": [
            "\n",
            "\n",
            "Classification Report:\n",
            "\n",
            "               precision    recall  f1-score   support\n",
            "\n",
            "         afr       1.00      1.00      1.00       583\n",
            "         eng       1.00      1.00      1.00       615\n",
            "         nbl       0.98      0.98      0.98       583\n",
            "         nso       1.00      1.00      1.00       625\n",
            "         sot       1.00      1.00      1.00       618\n",
            "         ssw       1.00      0.99      1.00       584\n",
            "         tsn       1.00      1.00      1.00       598\n",
            "         tso       1.00      1.00      1.00       561\n",
            "         ven       1.00      1.00      1.00       634\n",
            "         xho       0.99      0.99      0.99       609\n",
            "         zul       0.97      0.98      0.97       590\n",
            "\n",
            "    accuracy                           0.99      6600\n",
            "   macro avg       0.99      0.99      0.99      6600\n",
            "weighted avg       0.99      0.99      0.99      6600\n",
            "\n"
          ]
        }
      ]
    },
    {
      "cell_type": "markdown",
      "metadata": {
        "id": "cb47177c"
      },
      "source": [
        "### **8.6 Summary**\n",
        "\n",
        "> Although the Multinomial naive bayes achieved an overall accuracy of 1.00 with the valuation set, it got a 0.93 score with the test data, during the kaggle submission."
      ]
    }
  ]
}